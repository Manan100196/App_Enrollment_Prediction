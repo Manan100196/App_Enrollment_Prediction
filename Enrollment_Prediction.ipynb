{
 "cells": [
  {
   "cell_type": "markdown",
   "id": "cf43ef6a-42a8-4bcd-979d-aac310d9dc82",
   "metadata": {},
   "source": [
    "# Import libraries and dataset"
   ]
  },
  {
   "cell_type": "code",
   "execution_count": 539,
   "id": "44807f57-1569-4b35-a94a-e991b7c38c37",
   "metadata": {},
   "outputs": [],
   "source": [
    "import pandas as pd\n",
    "import numpy as np\n",
    "import matplotlib.pyplot as plt\n",
    "import seaborn as sns\n",
    "\n",
    "from sklearn.model_selection import train_test_split\n",
    "from sklearn.preprocessing import scale\n",
    "\n",
    "from xgboost import XGBClassifier\n",
    "from sklearn.metrics import accuracy_score, classification_report\n",
    "from sklearn.model_selection import cross_validate\n",
    "import xgboost as xgb\n",
    "\n",
    "from bayes_opt import BayesianOptimization\n",
    "from sklearn.model_selection import train_test_split, cross_val_score\n",
    "from sklearn.datasets import load_breast_cancer\n",
    "from xgboost import XGBClassifier\n",
    "import numpy as np"
   ]
  },
  {
   "cell_type": "code",
   "execution_count": 145,
   "id": "cf8be0dd-1eb8-40ef-9b56-4d1a5f7814d1",
   "metadata": {},
   "outputs": [],
   "source": [
    "df = pd.read_csv('/Users/mananshah/Downloads/appdata10.csv')"
   ]
  },
  {
   "cell_type": "code",
   "execution_count": 146,
   "id": "1f7fb41b-9415-4f32-b576-a59a0d8db4e9",
   "metadata": {},
   "outputs": [
    {
     "data": {
      "text/html": [
       "<div>\n",
       "<style scoped>\n",
       "    .dataframe tbody tr th:only-of-type {\n",
       "        vertical-align: middle;\n",
       "    }\n",
       "\n",
       "    .dataframe tbody tr th {\n",
       "        vertical-align: top;\n",
       "    }\n",
       "\n",
       "    .dataframe thead th {\n",
       "        text-align: right;\n",
       "    }\n",
       "</style>\n",
       "<table border=\"1\" class=\"dataframe\">\n",
       "  <thead>\n",
       "    <tr style=\"text-align: right;\">\n",
       "      <th></th>\n",
       "      <th>user</th>\n",
       "      <th>first_open</th>\n",
       "      <th>dayofweek</th>\n",
       "      <th>hour</th>\n",
       "      <th>age</th>\n",
       "      <th>screen_list</th>\n",
       "      <th>numscreens</th>\n",
       "      <th>minigame</th>\n",
       "      <th>used_premium_feature</th>\n",
       "      <th>enrolled</th>\n",
       "      <th>enrolled_date</th>\n",
       "      <th>liked</th>\n",
       "    </tr>\n",
       "  </thead>\n",
       "  <tbody>\n",
       "    <tr>\n",
       "      <th>0</th>\n",
       "      <td>235136</td>\n",
       "      <td>2012-12-27 02:14:51.273</td>\n",
       "      <td>3</td>\n",
       "      <td>02:00:00</td>\n",
       "      <td>23</td>\n",
       "      <td>idscreen,joinscreen,Cycle,product_review,ScanP...</td>\n",
       "      <td>15</td>\n",
       "      <td>0</td>\n",
       "      <td>0</td>\n",
       "      <td>0</td>\n",
       "      <td>NaN</td>\n",
       "      <td>0</td>\n",
       "    </tr>\n",
       "    <tr>\n",
       "      <th>1</th>\n",
       "      <td>333588</td>\n",
       "      <td>2012-12-02 01:16:00.905</td>\n",
       "      <td>6</td>\n",
       "      <td>01:00:00</td>\n",
       "      <td>24</td>\n",
       "      <td>joinscreen,product_review,product_review2,Scan...</td>\n",
       "      <td>13</td>\n",
       "      <td>0</td>\n",
       "      <td>0</td>\n",
       "      <td>0</td>\n",
       "      <td>NaN</td>\n",
       "      <td>0</td>\n",
       "    </tr>\n",
       "    <tr>\n",
       "      <th>2</th>\n",
       "      <td>254414</td>\n",
       "      <td>2013-03-19 19:19:09.157</td>\n",
       "      <td>1</td>\n",
       "      <td>19:00:00</td>\n",
       "      <td>23</td>\n",
       "      <td>Splash,Cycle,Loan</td>\n",
       "      <td>3</td>\n",
       "      <td>0</td>\n",
       "      <td>1</td>\n",
       "      <td>0</td>\n",
       "      <td>NaN</td>\n",
       "      <td>1</td>\n",
       "    </tr>\n",
       "    <tr>\n",
       "      <th>3</th>\n",
       "      <td>234192</td>\n",
       "      <td>2013-07-05 16:08:46.354</td>\n",
       "      <td>4</td>\n",
       "      <td>16:00:00</td>\n",
       "      <td>28</td>\n",
       "      <td>product_review,Home,product_review,Loan3,Finan...</td>\n",
       "      <td>40</td>\n",
       "      <td>0</td>\n",
       "      <td>0</td>\n",
       "      <td>1</td>\n",
       "      <td>2013-07-05 16:11:49.513</td>\n",
       "      <td>0</td>\n",
       "    </tr>\n",
       "    <tr>\n",
       "      <th>4</th>\n",
       "      <td>51549</td>\n",
       "      <td>2013-02-26 18:50:48.661</td>\n",
       "      <td>1</td>\n",
       "      <td>18:00:00</td>\n",
       "      <td>31</td>\n",
       "      <td>idscreen,joinscreen,Cycle,Credit3Container,Sca...</td>\n",
       "      <td>32</td>\n",
       "      <td>0</td>\n",
       "      <td>0</td>\n",
       "      <td>1</td>\n",
       "      <td>2013-02-26 18:56:37.841</td>\n",
       "      <td>1</td>\n",
       "    </tr>\n",
       "  </tbody>\n",
       "</table>\n",
       "</div>"
      ],
      "text/plain": [
       "     user               first_open  dayofweek       hour  age  \\\n",
       "0  235136  2012-12-27 02:14:51.273          3   02:00:00   23   \n",
       "1  333588  2012-12-02 01:16:00.905          6   01:00:00   24   \n",
       "2  254414  2013-03-19 19:19:09.157          1   19:00:00   23   \n",
       "3  234192  2013-07-05 16:08:46.354          4   16:00:00   28   \n",
       "4   51549  2013-02-26 18:50:48.661          1   18:00:00   31   \n",
       "\n",
       "                                         screen_list  numscreens  minigame  \\\n",
       "0  idscreen,joinscreen,Cycle,product_review,ScanP...          15         0   \n",
       "1  joinscreen,product_review,product_review2,Scan...          13         0   \n",
       "2                                  Splash,Cycle,Loan           3         0   \n",
       "3  product_review,Home,product_review,Loan3,Finan...          40         0   \n",
       "4  idscreen,joinscreen,Cycle,Credit3Container,Sca...          32         0   \n",
       "\n",
       "   used_premium_feature  enrolled            enrolled_date  liked  \n",
       "0                     0         0                      NaN      0  \n",
       "1                     0         0                      NaN      0  \n",
       "2                     1         0                      NaN      1  \n",
       "3                     0         1  2013-07-05 16:11:49.513      0  \n",
       "4                     0         1  2013-02-26 18:56:37.841      1  "
      ]
     },
     "execution_count": 146,
     "metadata": {},
     "output_type": "execute_result"
    }
   ],
   "source": [
    "df.head()"
   ]
  },
  {
   "cell_type": "code",
   "execution_count": 147,
   "id": "535594ac-0d39-4943-b5e0-817fdf94704b",
   "metadata": {},
   "outputs": [
    {
     "data": {
      "text/plain": [
       "user                     int64\n",
       "first_open              object\n",
       "dayofweek                int64\n",
       "hour                    object\n",
       "age                      int64\n",
       "screen_list             object\n",
       "numscreens               int64\n",
       "minigame                 int64\n",
       "used_premium_feature     int64\n",
       "enrolled                 int64\n",
       "enrolled_date           object\n",
       "liked                    int64\n",
       "dtype: object"
      ]
     },
     "execution_count": 147,
     "metadata": {},
     "output_type": "execute_result"
    }
   ],
   "source": [
    "df.dtypes"
   ]
  },
  {
   "cell_type": "markdown",
   "id": "23175a61-509f-4406-a785-e7c018286bdd",
   "metadata": {},
   "source": [
    "# Preprocessing the dataset"
   ]
  },
  {
   "cell_type": "code",
   "execution_count": 149,
   "id": "3fd64b2f-c216-4e4b-b69d-a6108e469377",
   "metadata": {},
   "outputs": [],
   "source": [
    "df['first_open'] = pd.to_datetime(df['first_open'])\n",
    "df['enrolled_date'] = pd.to_datetime(df['enrolled_date'])"
   ]
  },
  {
   "cell_type": "code",
   "execution_count": 150,
   "id": "ca742a74-d78a-4374-8134-bab3b8ae0f04",
   "metadata": {},
   "outputs": [],
   "source": [
    "df['days_to_enroll'] = df['enrolled_date'] - df['first_open']"
   ]
  },
  {
   "cell_type": "code",
   "execution_count": 151,
   "id": "cc66dff2-7f16-4853-89fc-2677dd04ea8a",
   "metadata": {},
   "outputs": [
    {
     "data": {
      "text/html": [
       "<div>\n",
       "<style scoped>\n",
       "    .dataframe tbody tr th:only-of-type {\n",
       "        vertical-align: middle;\n",
       "    }\n",
       "\n",
       "    .dataframe tbody tr th {\n",
       "        vertical-align: top;\n",
       "    }\n",
       "\n",
       "    .dataframe thead th {\n",
       "        text-align: right;\n",
       "    }\n",
       "</style>\n",
       "<table border=\"1\" class=\"dataframe\">\n",
       "  <thead>\n",
       "    <tr style=\"text-align: right;\">\n",
       "      <th></th>\n",
       "      <th>user</th>\n",
       "      <th>first_open</th>\n",
       "      <th>dayofweek</th>\n",
       "      <th>hour</th>\n",
       "      <th>age</th>\n",
       "      <th>screen_list</th>\n",
       "      <th>numscreens</th>\n",
       "      <th>minigame</th>\n",
       "      <th>used_premium_feature</th>\n",
       "      <th>enrolled</th>\n",
       "      <th>enrolled_date</th>\n",
       "      <th>liked</th>\n",
       "      <th>days_to_enroll</th>\n",
       "    </tr>\n",
       "  </thead>\n",
       "  <tbody>\n",
       "    <tr>\n",
       "      <th>0</th>\n",
       "      <td>235136</td>\n",
       "      <td>2012-12-27 02:14:51.273</td>\n",
       "      <td>3</td>\n",
       "      <td>02:00:00</td>\n",
       "      <td>23</td>\n",
       "      <td>idscreen,joinscreen,Cycle,product_review,ScanP...</td>\n",
       "      <td>15</td>\n",
       "      <td>0</td>\n",
       "      <td>0</td>\n",
       "      <td>0</td>\n",
       "      <td>NaT</td>\n",
       "      <td>0</td>\n",
       "      <td>NaT</td>\n",
       "    </tr>\n",
       "    <tr>\n",
       "      <th>1</th>\n",
       "      <td>333588</td>\n",
       "      <td>2012-12-02 01:16:00.905</td>\n",
       "      <td>6</td>\n",
       "      <td>01:00:00</td>\n",
       "      <td>24</td>\n",
       "      <td>joinscreen,product_review,product_review2,Scan...</td>\n",
       "      <td>13</td>\n",
       "      <td>0</td>\n",
       "      <td>0</td>\n",
       "      <td>0</td>\n",
       "      <td>NaT</td>\n",
       "      <td>0</td>\n",
       "      <td>NaT</td>\n",
       "    </tr>\n",
       "    <tr>\n",
       "      <th>2</th>\n",
       "      <td>254414</td>\n",
       "      <td>2013-03-19 19:19:09.157</td>\n",
       "      <td>1</td>\n",
       "      <td>19:00:00</td>\n",
       "      <td>23</td>\n",
       "      <td>Splash,Cycle,Loan</td>\n",
       "      <td>3</td>\n",
       "      <td>0</td>\n",
       "      <td>1</td>\n",
       "      <td>0</td>\n",
       "      <td>NaT</td>\n",
       "      <td>1</td>\n",
       "      <td>NaT</td>\n",
       "    </tr>\n",
       "    <tr>\n",
       "      <th>3</th>\n",
       "      <td>234192</td>\n",
       "      <td>2013-07-05 16:08:46.354</td>\n",
       "      <td>4</td>\n",
       "      <td>16:00:00</td>\n",
       "      <td>28</td>\n",
       "      <td>product_review,Home,product_review,Loan3,Finan...</td>\n",
       "      <td>40</td>\n",
       "      <td>0</td>\n",
       "      <td>0</td>\n",
       "      <td>1</td>\n",
       "      <td>2013-07-05 16:11:49.513</td>\n",
       "      <td>0</td>\n",
       "      <td>0 days 00:03:03.159000</td>\n",
       "    </tr>\n",
       "    <tr>\n",
       "      <th>4</th>\n",
       "      <td>51549</td>\n",
       "      <td>2013-02-26 18:50:48.661</td>\n",
       "      <td>1</td>\n",
       "      <td>18:00:00</td>\n",
       "      <td>31</td>\n",
       "      <td>idscreen,joinscreen,Cycle,Credit3Container,Sca...</td>\n",
       "      <td>32</td>\n",
       "      <td>0</td>\n",
       "      <td>0</td>\n",
       "      <td>1</td>\n",
       "      <td>2013-02-26 18:56:37.841</td>\n",
       "      <td>1</td>\n",
       "      <td>0 days 00:05:49.180000</td>\n",
       "    </tr>\n",
       "  </tbody>\n",
       "</table>\n",
       "</div>"
      ],
      "text/plain": [
       "     user              first_open  dayofweek       hour  age  \\\n",
       "0  235136 2012-12-27 02:14:51.273          3   02:00:00   23   \n",
       "1  333588 2012-12-02 01:16:00.905          6   01:00:00   24   \n",
       "2  254414 2013-03-19 19:19:09.157          1   19:00:00   23   \n",
       "3  234192 2013-07-05 16:08:46.354          4   16:00:00   28   \n",
       "4   51549 2013-02-26 18:50:48.661          1   18:00:00   31   \n",
       "\n",
       "                                         screen_list  numscreens  minigame  \\\n",
       "0  idscreen,joinscreen,Cycle,product_review,ScanP...          15         0   \n",
       "1  joinscreen,product_review,product_review2,Scan...          13         0   \n",
       "2                                  Splash,Cycle,Loan           3         0   \n",
       "3  product_review,Home,product_review,Loan3,Finan...          40         0   \n",
       "4  idscreen,joinscreen,Cycle,Credit3Container,Sca...          32         0   \n",
       "\n",
       "   used_premium_feature  enrolled           enrolled_date  liked  \\\n",
       "0                     0         0                     NaT      0   \n",
       "1                     0         0                     NaT      0   \n",
       "2                     1         0                     NaT      1   \n",
       "3                     0         1 2013-07-05 16:11:49.513      0   \n",
       "4                     0         1 2013-02-26 18:56:37.841      1   \n",
       "\n",
       "          days_to_enroll  \n",
       "0                    NaT  \n",
       "1                    NaT  \n",
       "2                    NaT  \n",
       "3 0 days 00:03:03.159000  \n",
       "4 0 days 00:05:49.180000  "
      ]
     },
     "execution_count": 151,
     "metadata": {},
     "output_type": "execute_result"
    }
   ],
   "source": [
    "df.head()"
   ]
  },
  {
   "cell_type": "code",
   "execution_count": 152,
   "id": "8d043240-97ec-42f4-b45c-74cf75de969a",
   "metadata": {},
   "outputs": [
    {
     "data": {
      "text/plain": [
       "user                              int64\n",
       "first_open               datetime64[ns]\n",
       "dayofweek                         int64\n",
       "hour                             object\n",
       "age                               int64\n",
       "screen_list                      object\n",
       "numscreens                        int64\n",
       "minigame                          int64\n",
       "used_premium_feature              int64\n",
       "enrolled                          int64\n",
       "enrolled_date            datetime64[ns]\n",
       "liked                             int64\n",
       "days_to_enroll          timedelta64[ns]\n",
       "dtype: object"
      ]
     },
     "execution_count": 152,
     "metadata": {},
     "output_type": "execute_result"
    }
   ],
   "source": [
    "df.dtypes"
   ]
  },
  {
   "cell_type": "code",
   "execution_count": 153,
   "id": "de3a60fe-ebde-4493-8170-5db7c646238d",
   "metadata": {},
   "outputs": [],
   "source": [
    "df['days_to_enroll'] = df['days_to_enroll'].dt.days"
   ]
  },
  {
   "cell_type": "code",
   "execution_count": 154,
   "id": "2794cf6a-61ed-4e9b-a204-0871852676f2",
   "metadata": {},
   "outputs": [
    {
     "data": {
      "text/plain": [
       "user                             int64\n",
       "first_open              datetime64[ns]\n",
       "dayofweek                        int64\n",
       "hour                            object\n",
       "age                              int64\n",
       "screen_list                     object\n",
       "numscreens                       int64\n",
       "minigame                         int64\n",
       "used_premium_feature             int64\n",
       "enrolled                         int64\n",
       "enrolled_date           datetime64[ns]\n",
       "liked                            int64\n",
       "days_to_enroll                 float64\n",
       "dtype: object"
      ]
     },
     "execution_count": 154,
     "metadata": {},
     "output_type": "execute_result"
    }
   ],
   "source": [
    "df.dtypes"
   ]
  },
  {
   "cell_type": "code",
   "execution_count": 155,
   "id": "bfaa8a47-e35b-466e-991f-53aecc5ae1ff",
   "metadata": {},
   "outputs": [
    {
     "name": "stdout",
     "output_type": "stream",
     "text": [
      "Minimum days to enroll are:  0.0\n",
      "Maximum days to enroll are:  226.0\n"
     ]
    }
   ],
   "source": [
    "print('Minimum days to enroll are: ', str(df['days_to_enroll'].min()))\n",
    "print('Maximum days to enroll are: ', str(df['days_to_enroll'].max()))"
   ]
  },
  {
   "cell_type": "code",
   "execution_count": 156,
   "id": "ec828e94-626b-43e6-bc78-c23f7d8a9a03",
   "metadata": {},
   "outputs": [
    {
     "data": {
      "text/plain": [
       "<Axes: >"
      ]
     },
     "execution_count": 156,
     "metadata": {},
     "output_type": "execute_result"
    },
    {
     "data": {
      "image/png": "[encoded data removed]",
      "text/plain": [
       "<Figure size 640x480 with 1 Axes>"
      ]
     },
     "metadata": {},
     "output_type": "display_data"
    }
   ],
   "source": [
    "df['days_to_enroll'].hist(bins = 40)"
   ]
  },
  {
   "cell_type": "code",
   "execution_count": 157,
   "id": "6f4a8d3f-a99c-44a5-b481-d974f4fa0222",
   "metadata": {},
   "outputs": [],
   "source": [
    "df['upd_enroll'] = 0"
   ]
  },
  {
   "cell_type": "code",
   "execution_count": 158,
   "id": "cb6c7e48-1e04-4cad-8261-951a5677f629",
   "metadata": {},
   "outputs": [],
   "source": [
    "#df.loc[(df['days_to_enroll']<61) & (df['enrolled'] == 1), 'upd_enroll'] = 1\n",
    "df.upd_enroll = df.enrolled"
   ]
  },
  {
   "cell_type": "code",
   "execution_count": 159,
   "id": "931fa6f7-1d3b-4c41-8bc7-41efee7f1510",
   "metadata": {},
   "outputs": [
    {
     "data": {
      "text/plain": [
       "upd_enroll\n",
       "1    31074\n",
       "0    18926\n",
       "Name: count, dtype: int64"
      ]
     },
     "execution_count": 159,
     "metadata": {},
     "output_type": "execute_result"
    }
   ],
   "source": [
    "# Check count of enrollment and non-enrollment in the dataset\n",
    "df['upd_enroll'].value_counts()"
   ]
  },
  {
   "cell_type": "code",
   "execution_count": 160,
   "id": "23dccf65-9dd4-440c-b187-35a31177acee",
   "metadata": {},
   "outputs": [
    {
     "data": {
      "text/html": [
       "<div>\n",
       "<style scoped>\n",
       "    .dataframe tbody tr th:only-of-type {\n",
       "        vertical-align: middle;\n",
       "    }\n",
       "\n",
       "    .dataframe tbody tr th {\n",
       "        vertical-align: top;\n",
       "    }\n",
       "\n",
       "    .dataframe thead th {\n",
       "        text-align: right;\n",
       "    }\n",
       "</style>\n",
       "<table border=\"1\" class=\"dataframe\">\n",
       "  <thead>\n",
       "    <tr style=\"text-align: right;\">\n",
       "      <th></th>\n",
       "      <th>upd_enroll</th>\n",
       "    </tr>\n",
       "    <tr>\n",
       "      <th>dayofweek</th>\n",
       "      <th></th>\n",
       "    </tr>\n",
       "  </thead>\n",
       "  <tbody>\n",
       "    <tr>\n",
       "      <th>0</th>\n",
       "      <td>4606</td>\n",
       "    </tr>\n",
       "    <tr>\n",
       "      <th>1</th>\n",
       "      <td>4315</td>\n",
       "    </tr>\n",
       "    <tr>\n",
       "      <th>2</th>\n",
       "      <td>3969</td>\n",
       "    </tr>\n",
       "    <tr>\n",
       "      <th>3</th>\n",
       "      <td>4258</td>\n",
       "    </tr>\n",
       "    <tr>\n",
       "      <th>4</th>\n",
       "      <td>4595</td>\n",
       "    </tr>\n",
       "    <tr>\n",
       "      <th>5</th>\n",
       "      <td>4685</td>\n",
       "    </tr>\n",
       "    <tr>\n",
       "      <th>6</th>\n",
       "      <td>4646</td>\n",
       "    </tr>\n",
       "  </tbody>\n",
       "</table>\n",
       "</div>"
      ],
      "text/plain": [
       "           upd_enroll\n",
       "dayofweek            \n",
       "0                4606\n",
       "1                4315\n",
       "2                3969\n",
       "3                4258\n",
       "4                4595\n",
       "5                4685\n",
       "6                4646"
      ]
     },
     "execution_count": 160,
     "metadata": {},
     "output_type": "execute_result"
    }
   ],
   "source": [
    "# Weekday or weekend does not impact\n",
    "df.loc[:,['dayofweek', 'upd_enroll']].groupby(['dayofweek']).sum()"
   ]
  },
  {
   "cell_type": "code",
   "execution_count": 161,
   "id": "5bcf32e5-9737-4cdb-881d-8daea0d0e284",
   "metadata": {},
   "outputs": [
    {
     "data": {
      "text/plain": [
       "Index(['user', 'first_open', 'dayofweek', 'hour', 'age', 'screen_list',\n",
       "       'numscreens', 'minigame', 'used_premium_feature', 'enrolled',\n",
       "       'enrolled_date', 'liked', 'days_to_enroll', 'upd_enroll'],\n",
       "      dtype='object')"
      ]
     },
     "execution_count": 161,
     "metadata": {},
     "output_type": "execute_result"
    }
   ],
   "source": [
    "df.columns"
   ]
  },
  {
   "cell_type": "code",
   "execution_count": 162,
   "id": "7c331aa6-5722-4c3f-809b-a567da69dcae",
   "metadata": {},
   "outputs": [],
   "source": [
    "df.drop(columns = {'first_open', 'enrolled', 'enrolled_date', 'days_to_enroll'}, inplace = True)"
   ]
  },
  {
   "cell_type": "code",
   "execution_count": 163,
   "id": "4d9d7e6a-55a2-4fd8-8f20-66567c882543",
   "metadata": {},
   "outputs": [
    {
     "data": {
      "text/html": [
       "<div>\n",
       "<style scoped>\n",
       "    .dataframe tbody tr th:only-of-type {\n",
       "        vertical-align: middle;\n",
       "    }\n",
       "\n",
       "    .dataframe tbody tr th {\n",
       "        vertical-align: top;\n",
       "    }\n",
       "\n",
       "    .dataframe thead th {\n",
       "        text-align: right;\n",
       "    }\n",
       "</style>\n",
       "<table border=\"1\" class=\"dataframe\">\n",
       "  <thead>\n",
       "    <tr style=\"text-align: right;\">\n",
       "      <th></th>\n",
       "      <th>user</th>\n",
       "      <th>dayofweek</th>\n",
       "      <th>hour</th>\n",
       "      <th>age</th>\n",
       "      <th>screen_list</th>\n",
       "      <th>numscreens</th>\n",
       "      <th>minigame</th>\n",
       "      <th>used_premium_feature</th>\n",
       "      <th>liked</th>\n",
       "      <th>upd_enroll</th>\n",
       "    </tr>\n",
       "  </thead>\n",
       "  <tbody>\n",
       "    <tr>\n",
       "      <th>0</th>\n",
       "      <td>235136</td>\n",
       "      <td>3</td>\n",
       "      <td>02:00:00</td>\n",
       "      <td>23</td>\n",
       "      <td>idscreen,joinscreen,Cycle,product_review,ScanP...</td>\n",
       "      <td>15</td>\n",
       "      <td>0</td>\n",
       "      <td>0</td>\n",
       "      <td>0</td>\n",
       "      <td>0</td>\n",
       "    </tr>\n",
       "    <tr>\n",
       "      <th>1</th>\n",
       "      <td>333588</td>\n",
       "      <td>6</td>\n",
       "      <td>01:00:00</td>\n",
       "      <td>24</td>\n",
       "      <td>joinscreen,product_review,product_review2,Scan...</td>\n",
       "      <td>13</td>\n",
       "      <td>0</td>\n",
       "      <td>0</td>\n",
       "      <td>0</td>\n",
       "      <td>0</td>\n",
       "    </tr>\n",
       "    <tr>\n",
       "      <th>2</th>\n",
       "      <td>254414</td>\n",
       "      <td>1</td>\n",
       "      <td>19:00:00</td>\n",
       "      <td>23</td>\n",
       "      <td>Splash,Cycle,Loan</td>\n",
       "      <td>3</td>\n",
       "      <td>0</td>\n",
       "      <td>1</td>\n",
       "      <td>1</td>\n",
       "      <td>0</td>\n",
       "    </tr>\n",
       "    <tr>\n",
       "      <th>3</th>\n",
       "      <td>234192</td>\n",
       "      <td>4</td>\n",
       "      <td>16:00:00</td>\n",
       "      <td>28</td>\n",
       "      <td>product_review,Home,product_review,Loan3,Finan...</td>\n",
       "      <td>40</td>\n",
       "      <td>0</td>\n",
       "      <td>0</td>\n",
       "      <td>0</td>\n",
       "      <td>1</td>\n",
       "    </tr>\n",
       "    <tr>\n",
       "      <th>4</th>\n",
       "      <td>51549</td>\n",
       "      <td>1</td>\n",
       "      <td>18:00:00</td>\n",
       "      <td>31</td>\n",
       "      <td>idscreen,joinscreen,Cycle,Credit3Container,Sca...</td>\n",
       "      <td>32</td>\n",
       "      <td>0</td>\n",
       "      <td>0</td>\n",
       "      <td>1</td>\n",
       "      <td>1</td>\n",
       "    </tr>\n",
       "  </tbody>\n",
       "</table>\n",
       "</div>"
      ],
      "text/plain": [
       "     user  dayofweek       hour  age  \\\n",
       "0  235136          3   02:00:00   23   \n",
       "1  333588          6   01:00:00   24   \n",
       "2  254414          1   19:00:00   23   \n",
       "3  234192          4   16:00:00   28   \n",
       "4   51549          1   18:00:00   31   \n",
       "\n",
       "                                         screen_list  numscreens  minigame  \\\n",
       "0  idscreen,joinscreen,Cycle,product_review,ScanP...          15         0   \n",
       "1  joinscreen,product_review,product_review2,Scan...          13         0   \n",
       "2                                  Splash,Cycle,Loan           3         0   \n",
       "3  product_review,Home,product_review,Loan3,Finan...          40         0   \n",
       "4  idscreen,joinscreen,Cycle,Credit3Container,Sca...          32         0   \n",
       "\n",
       "   used_premium_feature  liked  upd_enroll  \n",
       "0                     0      0           0  \n",
       "1                     0      0           0  \n",
       "2                     1      1           0  \n",
       "3                     0      0           1  \n",
       "4                     0      1           1  "
      ]
     },
     "execution_count": 163,
     "metadata": {},
     "output_type": "execute_result"
    }
   ],
   "source": [
    "df.head()"
   ]
  },
  {
   "cell_type": "code",
   "execution_count": 164,
   "id": "1606c177-535f-4362-bfa9-1bf534288ef5",
   "metadata": {},
   "outputs": [],
   "source": [
    "#df['screen_list'] = df.screen_list.astype(str) + ','"
   ]
  },
  {
   "cell_type": "code",
   "execution_count": 165,
   "id": "60eb74de-73a1-4cc3-8513-9cafcdcd3e1a",
   "metadata": {},
   "outputs": [],
   "source": [
    "df_top_screen = pd.read_csv('/Users/mananshah/Downloads/top_screens.csv')\n",
    "top_screen = np.array(df_top_screen.loc[:, 'top_screens'])"
   ]
  },
  {
   "cell_type": "code",
   "execution_count": 166,
   "id": "eb5b08c4-7ccb-482d-9d51-2de266bf8672",
   "metadata": {},
   "outputs": [],
   "source": [
    "for i in top_screen:\n",
    "    df[i] = df.screen_list.str.contains(i).astype(int)\n",
    "    df['screen_list'] = df.screen_list.str.replace(i + ',', '')"
   ]
  },
  {
   "cell_type": "code",
   "execution_count": 167,
   "id": "f804fbd0-4c4c-48d8-a741-f7758eea690f",
   "metadata": {},
   "outputs": [
    {
     "data": {
      "text/html": [
       "<div>\n",
       "<style scoped>\n",
       "    .dataframe tbody tr th:only-of-type {\n",
       "        vertical-align: middle;\n",
       "    }\n",
       "\n",
       "    .dataframe tbody tr th {\n",
       "        vertical-align: top;\n",
       "    }\n",
       "\n",
       "    .dataframe thead th {\n",
       "        text-align: right;\n",
       "    }\n",
       "</style>\n",
       "<table border=\"1\" class=\"dataframe\">\n",
       "  <thead>\n",
       "    <tr style=\"text-align: right;\">\n",
       "      <th></th>\n",
       "      <th>user</th>\n",
       "      <th>dayofweek</th>\n",
       "      <th>hour</th>\n",
       "      <th>age</th>\n",
       "      <th>screen_list</th>\n",
       "      <th>numscreens</th>\n",
       "      <th>minigame</th>\n",
       "      <th>used_premium_feature</th>\n",
       "      <th>liked</th>\n",
       "      <th>upd_enroll</th>\n",
       "      <th>...</th>\n",
       "      <th>ProfileJobTitle</th>\n",
       "      <th>Login</th>\n",
       "      <th>ProfileEmploymentLength</th>\n",
       "      <th>WebView</th>\n",
       "      <th>SecurityModal</th>\n",
       "      <th>Loan4</th>\n",
       "      <th>ResendToken</th>\n",
       "      <th>TransactionList</th>\n",
       "      <th>NetworkFailure</th>\n",
       "      <th>ListPicker</th>\n",
       "    </tr>\n",
       "  </thead>\n",
       "  <tbody>\n",
       "    <tr>\n",
       "      <th>0</th>\n",
       "      <td>235136</td>\n",
       "      <td>3</td>\n",
       "      <td>02:00:00</td>\n",
       "      <td>23</td>\n",
       "      <td>joinscreen,product_review,ScanPreview,VerifyTo...</td>\n",
       "      <td>15</td>\n",
       "      <td>0</td>\n",
       "      <td>0</td>\n",
       "      <td>0</td>\n",
       "      <td>0</td>\n",
       "      <td>...</td>\n",
       "      <td>0</td>\n",
       "      <td>1</td>\n",
       "      <td>0</td>\n",
       "      <td>0</td>\n",
       "      <td>0</td>\n",
       "      <td>0</td>\n",
       "      <td>0</td>\n",
       "      <td>0</td>\n",
       "      <td>0</td>\n",
       "      <td>0</td>\n",
       "    </tr>\n",
       "    <tr>\n",
       "      <th>1</th>\n",
       "      <td>333588</td>\n",
       "      <td>6</td>\n",
       "      <td>01:00:00</td>\n",
       "      <td>24</td>\n",
       "      <td>joinscreen,product_review,product_review2,Scan...</td>\n",
       "      <td>13</td>\n",
       "      <td>0</td>\n",
       "      <td>0</td>\n",
       "      <td>0</td>\n",
       "      <td>0</td>\n",
       "      <td>...</td>\n",
       "      <td>0</td>\n",
       "      <td>0</td>\n",
       "      <td>0</td>\n",
       "      <td>0</td>\n",
       "      <td>0</td>\n",
       "      <td>0</td>\n",
       "      <td>0</td>\n",
       "      <td>0</td>\n",
       "      <td>0</td>\n",
       "      <td>0</td>\n",
       "    </tr>\n",
       "    <tr>\n",
       "      <th>2</th>\n",
       "      <td>254414</td>\n",
       "      <td>1</td>\n",
       "      <td>19:00:00</td>\n",
       "      <td>23</td>\n",
       "      <td>Loan</td>\n",
       "      <td>3</td>\n",
       "      <td>0</td>\n",
       "      <td>1</td>\n",
       "      <td>1</td>\n",
       "      <td>0</td>\n",
       "      <td>...</td>\n",
       "      <td>0</td>\n",
       "      <td>0</td>\n",
       "      <td>0</td>\n",
       "      <td>0</td>\n",
       "      <td>0</td>\n",
       "      <td>0</td>\n",
       "      <td>0</td>\n",
       "      <td>0</td>\n",
       "      <td>0</td>\n",
       "      <td>0</td>\n",
       "    </tr>\n",
       "    <tr>\n",
       "      <th>3</th>\n",
       "      <td>234192</td>\n",
       "      <td>4</td>\n",
       "      <td>16:00:00</td>\n",
       "      <td>28</td>\n",
       "      <td>product_review,Home,product_review,ReferralCon...</td>\n",
       "      <td>40</td>\n",
       "      <td>0</td>\n",
       "      <td>0</td>\n",
       "      <td>0</td>\n",
       "      <td>1</td>\n",
       "      <td>...</td>\n",
       "      <td>0</td>\n",
       "      <td>0</td>\n",
       "      <td>0</td>\n",
       "      <td>0</td>\n",
       "      <td>0</td>\n",
       "      <td>0</td>\n",
       "      <td>0</td>\n",
       "      <td>0</td>\n",
       "      <td>0</td>\n",
       "      <td>0</td>\n",
       "    </tr>\n",
       "    <tr>\n",
       "      <th>4</th>\n",
       "      <td>51549</td>\n",
       "      <td>1</td>\n",
       "      <td>18:00:00</td>\n",
       "      <td>31</td>\n",
       "      <td>joinscreen,ScanPreview,VerifySSN,Home,SelectIn...</td>\n",
       "      <td>32</td>\n",
       "      <td>0</td>\n",
       "      <td>0</td>\n",
       "      <td>1</td>\n",
       "      <td>1</td>\n",
       "      <td>...</td>\n",
       "      <td>0</td>\n",
       "      <td>0</td>\n",
       "      <td>0</td>\n",
       "      <td>0</td>\n",
       "      <td>0</td>\n",
       "      <td>0</td>\n",
       "      <td>0</td>\n",
       "      <td>0</td>\n",
       "      <td>0</td>\n",
       "      <td>0</td>\n",
       "    </tr>\n",
       "  </tbody>\n",
       "</table>\n",
       "<p>5 rows × 68 columns</p>\n",
       "</div>"
      ],
      "text/plain": [
       "     user  dayofweek       hour  age  \\\n",
       "0  235136          3   02:00:00   23   \n",
       "1  333588          6   01:00:00   24   \n",
       "2  254414          1   19:00:00   23   \n",
       "3  234192          4   16:00:00   28   \n",
       "4   51549          1   18:00:00   31   \n",
       "\n",
       "                                         screen_list  numscreens  minigame  \\\n",
       "0  joinscreen,product_review,ScanPreview,VerifyTo...          15         0   \n",
       "1  joinscreen,product_review,product_review2,Scan...          13         0   \n",
       "2                                               Loan           3         0   \n",
       "3  product_review,Home,product_review,ReferralCon...          40         0   \n",
       "4  joinscreen,ScanPreview,VerifySSN,Home,SelectIn...          32         0   \n",
       "\n",
       "   used_premium_feature  liked  upd_enroll  ...  ProfileJobTitle  Login  \\\n",
       "0                     0      0           0  ...                0      1   \n",
       "1                     0      0           0  ...                0      0   \n",
       "2                     1      1           0  ...                0      0   \n",
       "3                     0      0           1  ...                0      0   \n",
       "4                     0      1           1  ...                0      0   \n",
       "\n",
       "   ProfileEmploymentLength  WebView  SecurityModal  Loan4  ResendToken  \\\n",
       "0                        0        0              0      0            0   \n",
       "1                        0        0              0      0            0   \n",
       "2                        0        0              0      0            0   \n",
       "3                        0        0              0      0            0   \n",
       "4                        0        0              0      0            0   \n",
       "\n",
       "   TransactionList  NetworkFailure  ListPicker  \n",
       "0                0               0           0  \n",
       "1                0               0           0  \n",
       "2                0               0           0  \n",
       "3                0               0           0  \n",
       "4                0               0           0  \n",
       "\n",
       "[5 rows x 68 columns]"
      ]
     },
     "execution_count": 167,
     "metadata": {},
     "output_type": "execute_result"
    }
   ],
   "source": [
    "df.head()"
   ]
  },
  {
   "cell_type": "code",
   "execution_count": 168,
   "id": "1f8c1f98-83d8-4f66-b41d-3698a9422126",
   "metadata": {},
   "outputs": [
    {
     "data": {
      "text/plain": [
       "Index(['user', 'dayofweek', 'hour', 'age', 'screen_list', 'numscreens',\n",
       "       'minigame', 'used_premium_feature', 'liked', 'upd_enroll', 'Loan2',\n",
       "       'location', 'Institutions', 'Credit3Container', 'VerifyPhone',\n",
       "       'BankVerification', 'VerifyDateOfBirth', 'ProfilePage', 'VerifyCountry',\n",
       "       'Cycle', 'idscreen', 'Credit3Dashboard', 'Loan3', 'CC1Category',\n",
       "       'Splash', 'Loan', 'CC1', 'RewardsContainer', 'Credit3', 'Credit1',\n",
       "       'EditProfile', 'Credit2', 'Finances', 'CC3', 'Saving9', 'Saving1',\n",
       "       'Alerts', 'Saving8', 'Saving10', 'Leaderboard', 'Saving4',\n",
       "       'VerifyMobile', 'VerifyHousing', 'RewardDetail', 'VerifyHousingAmount',\n",
       "       'ProfileMaritalStatus', 'ProfileChildren ', 'ProfileEducation',\n",
       "       'Saving7', 'ProfileEducationMajor', 'Rewards', 'AccountView',\n",
       "       'VerifyAnnualIncome', 'VerifyIncomeType', 'Saving2', 'Saving6',\n",
       "       'Saving2Amount', 'Saving5', 'ProfileJobTitle', 'Login',\n",
       "       'ProfileEmploymentLength', 'WebView', 'SecurityModal', 'Loan4',\n",
       "       'ResendToken', 'TransactionList', 'NetworkFailure', 'ListPicker'],\n",
       "      dtype='object')"
      ]
     },
     "execution_count": 168,
     "metadata": {},
     "output_type": "execute_result"
    }
   ],
   "source": [
    "df.columns"
   ]
  },
  {
   "cell_type": "code",
   "execution_count": 169,
   "id": "05e55c4e-c3aa-4b79-9e72-c4fac5768dfc",
   "metadata": {},
   "outputs": [],
   "source": [
    "df['non_top_screen_count'] = df.screen_list.str.count(',')"
   ]
  },
  {
   "cell_type": "code",
   "execution_count": 170,
   "id": "403ef6a2-8bb3-4435-82f8-d59e0b366c2c",
   "metadata": {},
   "outputs": [
    {
     "data": {
      "text/html": [
       "<div>\n",
       "<style scoped>\n",
       "    .dataframe tbody tr th:only-of-type {\n",
       "        vertical-align: middle;\n",
       "    }\n",
       "\n",
       "    .dataframe tbody tr th {\n",
       "        vertical-align: top;\n",
       "    }\n",
       "\n",
       "    .dataframe thead th {\n",
       "        text-align: right;\n",
       "    }\n",
       "</style>\n",
       "<table border=\"1\" class=\"dataframe\">\n",
       "  <thead>\n",
       "    <tr style=\"text-align: right;\">\n",
       "      <th></th>\n",
       "      <th>user</th>\n",
       "      <th>dayofweek</th>\n",
       "      <th>hour</th>\n",
       "      <th>age</th>\n",
       "      <th>screen_list</th>\n",
       "      <th>numscreens</th>\n",
       "      <th>minigame</th>\n",
       "      <th>used_premium_feature</th>\n",
       "      <th>liked</th>\n",
       "      <th>upd_enroll</th>\n",
       "      <th>...</th>\n",
       "      <th>Login</th>\n",
       "      <th>ProfileEmploymentLength</th>\n",
       "      <th>WebView</th>\n",
       "      <th>SecurityModal</th>\n",
       "      <th>Loan4</th>\n",
       "      <th>ResendToken</th>\n",
       "      <th>TransactionList</th>\n",
       "      <th>NetworkFailure</th>\n",
       "      <th>ListPicker</th>\n",
       "      <th>non_top_screen_count</th>\n",
       "    </tr>\n",
       "  </thead>\n",
       "  <tbody>\n",
       "    <tr>\n",
       "      <th>0</th>\n",
       "      <td>235136</td>\n",
       "      <td>3</td>\n",
       "      <td>02:00:00</td>\n",
       "      <td>23</td>\n",
       "      <td>joinscreen,product_review,ScanPreview,VerifyTo...</td>\n",
       "      <td>15</td>\n",
       "      <td>0</td>\n",
       "      <td>0</td>\n",
       "      <td>0</td>\n",
       "      <td>0</td>\n",
       "      <td>...</td>\n",
       "      <td>1</td>\n",
       "      <td>0</td>\n",
       "      <td>0</td>\n",
       "      <td>0</td>\n",
       "      <td>0</td>\n",
       "      <td>0</td>\n",
       "      <td>0</td>\n",
       "      <td>0</td>\n",
       "      <td>0</td>\n",
       "      <td>7</td>\n",
       "    </tr>\n",
       "    <tr>\n",
       "      <th>1</th>\n",
       "      <td>333588</td>\n",
       "      <td>6</td>\n",
       "      <td>01:00:00</td>\n",
       "      <td>24</td>\n",
       "      <td>joinscreen,product_review,product_review2,Scan...</td>\n",
       "      <td>13</td>\n",
       "      <td>0</td>\n",
       "      <td>0</td>\n",
       "      <td>0</td>\n",
       "      <td>0</td>\n",
       "      <td>...</td>\n",
       "      <td>0</td>\n",
       "      <td>0</td>\n",
       "      <td>0</td>\n",
       "      <td>0</td>\n",
       "      <td>0</td>\n",
       "      <td>0</td>\n",
       "      <td>0</td>\n",
       "      <td>0</td>\n",
       "      <td>0</td>\n",
       "      <td>5</td>\n",
       "    </tr>\n",
       "    <tr>\n",
       "      <th>2</th>\n",
       "      <td>254414</td>\n",
       "      <td>1</td>\n",
       "      <td>19:00:00</td>\n",
       "      <td>23</td>\n",
       "      <td>Loan</td>\n",
       "      <td>3</td>\n",
       "      <td>0</td>\n",
       "      <td>1</td>\n",
       "      <td>1</td>\n",
       "      <td>0</td>\n",
       "      <td>...</td>\n",
       "      <td>0</td>\n",
       "      <td>0</td>\n",
       "      <td>0</td>\n",
       "      <td>0</td>\n",
       "      <td>0</td>\n",
       "      <td>0</td>\n",
       "      <td>0</td>\n",
       "      <td>0</td>\n",
       "      <td>0</td>\n",
       "      <td>0</td>\n",
       "    </tr>\n",
       "    <tr>\n",
       "      <th>3</th>\n",
       "      <td>234192</td>\n",
       "      <td>4</td>\n",
       "      <td>16:00:00</td>\n",
       "      <td>28</td>\n",
       "      <td>product_review,Home,product_review,ReferralCon...</td>\n",
       "      <td>40</td>\n",
       "      <td>0</td>\n",
       "      <td>0</td>\n",
       "      <td>0</td>\n",
       "      <td>1</td>\n",
       "      <td>...</td>\n",
       "      <td>0</td>\n",
       "      <td>0</td>\n",
       "      <td>0</td>\n",
       "      <td>0</td>\n",
       "      <td>0</td>\n",
       "      <td>0</td>\n",
       "      <td>0</td>\n",
       "      <td>0</td>\n",
       "      <td>0</td>\n",
       "      <td>6</td>\n",
       "    </tr>\n",
       "    <tr>\n",
       "      <th>4</th>\n",
       "      <td>51549</td>\n",
       "      <td>1</td>\n",
       "      <td>18:00:00</td>\n",
       "      <td>31</td>\n",
       "      <td>joinscreen,ScanPreview,VerifySSN,Home,SelectIn...</td>\n",
       "      <td>32</td>\n",
       "      <td>0</td>\n",
       "      <td>0</td>\n",
       "      <td>1</td>\n",
       "      <td>1</td>\n",
       "      <td>...</td>\n",
       "      <td>0</td>\n",
       "      <td>0</td>\n",
       "      <td>0</td>\n",
       "      <td>0</td>\n",
       "      <td>0</td>\n",
       "      <td>0</td>\n",
       "      <td>0</td>\n",
       "      <td>0</td>\n",
       "      <td>0</td>\n",
       "      <td>9</td>\n",
       "    </tr>\n",
       "  </tbody>\n",
       "</table>\n",
       "<p>5 rows × 69 columns</p>\n",
       "</div>"
      ],
      "text/plain": [
       "     user  dayofweek       hour  age  \\\n",
       "0  235136          3   02:00:00   23   \n",
       "1  333588          6   01:00:00   24   \n",
       "2  254414          1   19:00:00   23   \n",
       "3  234192          4   16:00:00   28   \n",
       "4   51549          1   18:00:00   31   \n",
       "\n",
       "                                         screen_list  numscreens  minigame  \\\n",
       "0  joinscreen,product_review,ScanPreview,VerifyTo...          15         0   \n",
       "1  joinscreen,product_review,product_review2,Scan...          13         0   \n",
       "2                                               Loan           3         0   \n",
       "3  product_review,Home,product_review,ReferralCon...          40         0   \n",
       "4  joinscreen,ScanPreview,VerifySSN,Home,SelectIn...          32         0   \n",
       "\n",
       "   used_premium_feature  liked  upd_enroll  ...  Login  \\\n",
       "0                     0      0           0  ...      1   \n",
       "1                     0      0           0  ...      0   \n",
       "2                     1      1           0  ...      0   \n",
       "3                     0      0           1  ...      0   \n",
       "4                     0      1           1  ...      0   \n",
       "\n",
       "   ProfileEmploymentLength  WebView  SecurityModal  Loan4  ResendToken  \\\n",
       "0                        0        0              0      0            0   \n",
       "1                        0        0              0      0            0   \n",
       "2                        0        0              0      0            0   \n",
       "3                        0        0              0      0            0   \n",
       "4                        0        0              0      0            0   \n",
       "\n",
       "   TransactionList  NetworkFailure  ListPicker  non_top_screen_count  \n",
       "0                0               0           0                     7  \n",
       "1                0               0           0                     5  \n",
       "2                0               0           0                     0  \n",
       "3                0               0           0                     6  \n",
       "4                0               0           0                     9  \n",
       "\n",
       "[5 rows x 69 columns]"
      ]
     },
     "execution_count": 170,
     "metadata": {},
     "output_type": "execute_result"
    }
   ],
   "source": [
    "df.head()"
   ]
  },
  {
   "cell_type": "code",
   "execution_count": 171,
   "id": "e3017bca-3006-44a4-86e8-9e73f163cae1",
   "metadata": {},
   "outputs": [],
   "source": [
    "df.drop(columns = {'screen_list', 'user'}, inplace = True)"
   ]
  },
  {
   "cell_type": "code",
   "execution_count": 172,
   "id": "f92f884e-12be-4d2c-89d1-6d5c1e023efa",
   "metadata": {},
   "outputs": [],
   "source": [
    "df['hour'] = [x[0:3] for x in df.hour]"
   ]
  },
  {
   "cell_type": "code",
   "execution_count": 173,
   "id": "e7b8552f-5f8e-4dfc-9ac6-78f70ce045fc",
   "metadata": {},
   "outputs": [
    {
     "data": {
      "text/html": [
       "<div>\n",
       "<style scoped>\n",
       "    .dataframe tbody tr th:only-of-type {\n",
       "        vertical-align: middle;\n",
       "    }\n",
       "\n",
       "    .dataframe tbody tr th {\n",
       "        vertical-align: top;\n",
       "    }\n",
       "\n",
       "    .dataframe thead th {\n",
       "        text-align: right;\n",
       "    }\n",
       "</style>\n",
       "<table border=\"1\" class=\"dataframe\">\n",
       "  <thead>\n",
       "    <tr style=\"text-align: right;\">\n",
       "      <th></th>\n",
       "      <th>dayofweek</th>\n",
       "      <th>hour</th>\n",
       "      <th>age</th>\n",
       "      <th>numscreens</th>\n",
       "      <th>minigame</th>\n",
       "      <th>used_premium_feature</th>\n",
       "      <th>liked</th>\n",
       "      <th>upd_enroll</th>\n",
       "      <th>Loan2</th>\n",
       "      <th>location</th>\n",
       "      <th>...</th>\n",
       "      <th>Login</th>\n",
       "      <th>ProfileEmploymentLength</th>\n",
       "      <th>WebView</th>\n",
       "      <th>SecurityModal</th>\n",
       "      <th>Loan4</th>\n",
       "      <th>ResendToken</th>\n",
       "      <th>TransactionList</th>\n",
       "      <th>NetworkFailure</th>\n",
       "      <th>ListPicker</th>\n",
       "      <th>non_top_screen_count</th>\n",
       "    </tr>\n",
       "  </thead>\n",
       "  <tbody>\n",
       "    <tr>\n",
       "      <th>0</th>\n",
       "      <td>3</td>\n",
       "      <td>02</td>\n",
       "      <td>23</td>\n",
       "      <td>15</td>\n",
       "      <td>0</td>\n",
       "      <td>0</td>\n",
       "      <td>0</td>\n",
       "      <td>0</td>\n",
       "      <td>1</td>\n",
       "      <td>0</td>\n",
       "      <td>...</td>\n",
       "      <td>1</td>\n",
       "      <td>0</td>\n",
       "      <td>0</td>\n",
       "      <td>0</td>\n",
       "      <td>0</td>\n",
       "      <td>0</td>\n",
       "      <td>0</td>\n",
       "      <td>0</td>\n",
       "      <td>0</td>\n",
       "      <td>7</td>\n",
       "    </tr>\n",
       "    <tr>\n",
       "      <th>1</th>\n",
       "      <td>6</td>\n",
       "      <td>01</td>\n",
       "      <td>24</td>\n",
       "      <td>13</td>\n",
       "      <td>0</td>\n",
       "      <td>0</td>\n",
       "      <td>0</td>\n",
       "      <td>0</td>\n",
       "      <td>1</td>\n",
       "      <td>1</td>\n",
       "      <td>...</td>\n",
       "      <td>0</td>\n",
       "      <td>0</td>\n",
       "      <td>0</td>\n",
       "      <td>0</td>\n",
       "      <td>0</td>\n",
       "      <td>0</td>\n",
       "      <td>0</td>\n",
       "      <td>0</td>\n",
       "      <td>0</td>\n",
       "      <td>5</td>\n",
       "    </tr>\n",
       "    <tr>\n",
       "      <th>2</th>\n",
       "      <td>1</td>\n",
       "      <td>19</td>\n",
       "      <td>23</td>\n",
       "      <td>3</td>\n",
       "      <td>0</td>\n",
       "      <td>1</td>\n",
       "      <td>1</td>\n",
       "      <td>0</td>\n",
       "      <td>0</td>\n",
       "      <td>0</td>\n",
       "      <td>...</td>\n",
       "      <td>0</td>\n",
       "      <td>0</td>\n",
       "      <td>0</td>\n",
       "      <td>0</td>\n",
       "      <td>0</td>\n",
       "      <td>0</td>\n",
       "      <td>0</td>\n",
       "      <td>0</td>\n",
       "      <td>0</td>\n",
       "      <td>0</td>\n",
       "    </tr>\n",
       "    <tr>\n",
       "      <th>3</th>\n",
       "      <td>4</td>\n",
       "      <td>16</td>\n",
       "      <td>28</td>\n",
       "      <td>40</td>\n",
       "      <td>0</td>\n",
       "      <td>0</td>\n",
       "      <td>0</td>\n",
       "      <td>1</td>\n",
       "      <td>0</td>\n",
       "      <td>1</td>\n",
       "      <td>...</td>\n",
       "      <td>0</td>\n",
       "      <td>0</td>\n",
       "      <td>0</td>\n",
       "      <td>0</td>\n",
       "      <td>0</td>\n",
       "      <td>0</td>\n",
       "      <td>0</td>\n",
       "      <td>0</td>\n",
       "      <td>0</td>\n",
       "      <td>6</td>\n",
       "    </tr>\n",
       "    <tr>\n",
       "      <th>4</th>\n",
       "      <td>1</td>\n",
       "      <td>18</td>\n",
       "      <td>31</td>\n",
       "      <td>32</td>\n",
       "      <td>0</td>\n",
       "      <td>0</td>\n",
       "      <td>1</td>\n",
       "      <td>1</td>\n",
       "      <td>1</td>\n",
       "      <td>0</td>\n",
       "      <td>...</td>\n",
       "      <td>0</td>\n",
       "      <td>0</td>\n",
       "      <td>0</td>\n",
       "      <td>0</td>\n",
       "      <td>0</td>\n",
       "      <td>0</td>\n",
       "      <td>0</td>\n",
       "      <td>0</td>\n",
       "      <td>0</td>\n",
       "      <td>9</td>\n",
       "    </tr>\n",
       "  </tbody>\n",
       "</table>\n",
       "<p>5 rows × 67 columns</p>\n",
       "</div>"
      ],
      "text/plain": [
       "   dayofweek hour  age  numscreens  minigame  used_premium_feature  liked  \\\n",
       "0          3   02   23          15         0                     0      0   \n",
       "1          6   01   24          13         0                     0      0   \n",
       "2          1   19   23           3         0                     1      1   \n",
       "3          4   16   28          40         0                     0      0   \n",
       "4          1   18   31          32         0                     0      1   \n",
       "\n",
       "   upd_enroll  Loan2  location  ...  Login  ProfileEmploymentLength  WebView  \\\n",
       "0           0      1         0  ...      1                        0        0   \n",
       "1           0      1         1  ...      0                        0        0   \n",
       "2           0      0         0  ...      0                        0        0   \n",
       "3           1      0         1  ...      0                        0        0   \n",
       "4           1      1         0  ...      0                        0        0   \n",
       "\n",
       "   SecurityModal  Loan4  ResendToken  TransactionList  NetworkFailure  \\\n",
       "0              0      0            0                0               0   \n",
       "1              0      0            0                0               0   \n",
       "2              0      0            0                0               0   \n",
       "3              0      0            0                0               0   \n",
       "4              0      0            0                0               0   \n",
       "\n",
       "   ListPicker  non_top_screen_count  \n",
       "0           0                     7  \n",
       "1           0                     5  \n",
       "2           0                     0  \n",
       "3           0                     6  \n",
       "4           0                     9  \n",
       "\n",
       "[5 rows x 67 columns]"
      ]
     },
     "execution_count": 173,
     "metadata": {},
     "output_type": "execute_result"
    }
   ],
   "source": [
    "df.head()"
   ]
  },
  {
   "cell_type": "code",
   "execution_count": 174,
   "id": "2ff487ec-b44b-4086-b3d8-f170b2da0275",
   "metadata": {},
   "outputs": [],
   "source": [
    "df['hour'] = df['hour'].astype('int')"
   ]
  },
  {
   "cell_type": "code",
   "execution_count": 175,
   "id": "cb4d9256-7520-4b2f-ab4d-9e015d7f36d2",
   "metadata": {},
   "outputs": [
    {
     "name": "stdout",
     "output_type": "stream",
     "text": [
      "<class 'pandas.core.frame.DataFrame'>\n",
      "RangeIndex: 50000 entries, 0 to 49999\n",
      "Data columns (total 67 columns):\n",
      " #   Column                   Non-Null Count  Dtype\n",
      "---  ------                   --------------  -----\n",
      " 0   dayofweek                50000 non-null  int64\n",
      " 1   hour                     50000 non-null  int64\n",
      " 2   age                      50000 non-null  int64\n",
      " 3   numscreens               50000 non-null  int64\n",
      " 4   minigame                 50000 non-null  int64\n",
      " 5   used_premium_feature     50000 non-null  int64\n",
      " 6   liked                    50000 non-null  int64\n",
      " 7   upd_enroll               50000 non-null  int64\n",
      " 8   Loan2                    50000 non-null  int64\n",
      " 9   location                 50000 non-null  int64\n",
      " 10  Institutions             50000 non-null  int64\n",
      " 11  Credit3Container         50000 non-null  int64\n",
      " 12  VerifyPhone              50000 non-null  int64\n",
      " 13  BankVerification         50000 non-null  int64\n",
      " 14  VerifyDateOfBirth        50000 non-null  int64\n",
      " 15  ProfilePage              50000 non-null  int64\n",
      " 16  VerifyCountry            50000 non-null  int64\n",
      " 17  Cycle                    50000 non-null  int64\n",
      " 18  idscreen                 50000 non-null  int64\n",
      " 19  Credit3Dashboard         50000 non-null  int64\n",
      " 20  Loan3                    50000 non-null  int64\n",
      " 21  CC1Category              50000 non-null  int64\n",
      " 22  Splash                   50000 non-null  int64\n",
      " 23  Loan                     50000 non-null  int64\n",
      " 24  CC1                      50000 non-null  int64\n",
      " 25  RewardsContainer         50000 non-null  int64\n",
      " 26  Credit3                  50000 non-null  int64\n",
      " 27  Credit1                  50000 non-null  int64\n",
      " 28  EditProfile              50000 non-null  int64\n",
      " 29  Credit2                  50000 non-null  int64\n",
      " 30  Finances                 50000 non-null  int64\n",
      " 31  CC3                      50000 non-null  int64\n",
      " 32  Saving9                  50000 non-null  int64\n",
      " 33  Saving1                  50000 non-null  int64\n",
      " 34  Alerts                   50000 non-null  int64\n",
      " 35  Saving8                  50000 non-null  int64\n",
      " 36  Saving10                 50000 non-null  int64\n",
      " 37  Leaderboard              50000 non-null  int64\n",
      " 38  Saving4                  50000 non-null  int64\n",
      " 39  VerifyMobile             50000 non-null  int64\n",
      " 40  VerifyHousing            50000 non-null  int64\n",
      " 41  RewardDetail             50000 non-null  int64\n",
      " 42  VerifyHousingAmount      50000 non-null  int64\n",
      " 43  ProfileMaritalStatus     50000 non-null  int64\n",
      " 44  ProfileChildren          50000 non-null  int64\n",
      " 45  ProfileEducation         50000 non-null  int64\n",
      " 46  Saving7                  50000 non-null  int64\n",
      " 47  ProfileEducationMajor    50000 non-null  int64\n",
      " 48  Rewards                  50000 non-null  int64\n",
      " 49  AccountView              50000 non-null  int64\n",
      " 50  VerifyAnnualIncome       50000 non-null  int64\n",
      " 51  VerifyIncomeType         50000 non-null  int64\n",
      " 52  Saving2                  50000 non-null  int64\n",
      " 53  Saving6                  50000 non-null  int64\n",
      " 54  Saving2Amount            50000 non-null  int64\n",
      " 55  Saving5                  50000 non-null  int64\n",
      " 56  ProfileJobTitle          50000 non-null  int64\n",
      " 57  Login                    50000 non-null  int64\n",
      " 58  ProfileEmploymentLength  50000 non-null  int64\n",
      " 59  WebView                  50000 non-null  int64\n",
      " 60  SecurityModal            50000 non-null  int64\n",
      " 61  Loan4                    50000 non-null  int64\n",
      " 62  ResendToken              50000 non-null  int64\n",
      " 63  TransactionList          50000 non-null  int64\n",
      " 64  NetworkFailure           50000 non-null  int64\n",
      " 65  ListPicker               50000 non-null  int64\n",
      " 66  non_top_screen_count     50000 non-null  int64\n",
      "dtypes: int64(67)\n",
      "memory usage: 25.6 MB\n"
     ]
    }
   ],
   "source": [
    "df.info()"
   ]
  },
  {
   "cell_type": "code",
   "execution_count": 176,
   "id": "a86f16b1-0ac9-4d38-b9c4-8e303676c8e0",
   "metadata": {},
   "outputs": [],
   "source": [
    "savings_screens = [\"Saving1\", \"Saving2\", \"Saving2Amount\", \"Saving4\", \"Saving5\", \"Saving6\",\"Saving7\", \"Saving8\", \"Saving9\", \"Saving10\"];\n",
    "df['SavingCount']=df[savings_screens].sum(axis=1);\n",
    "df.drop(columns=savings_screens,axis=1,inplace=True);\n",
    "credit_screens = [\"Credit1\", \"Credit2\", \"Credit3\", \"Credit3Container\", \"Credit3Dashboard\"];\n",
    "df['CreditCount']=df[credit_screens].sum(axis=1);\n",
    "df.drop(columns=credit_screens,axis=1,inplace=True);\n",
    "cc_screens = [\"CC1\", \"CC1Category\", \"CC3\"];\n",
    "df['CCCount']=df[cc_screens].sum(axis=1);\n",
    "df.drop(columns=cc_screens,axis=1,inplace=True);\n",
    "loan_screens = [\"Loan\", \"Loan2\", \"Loan3\", \"Loan4\"];\n",
    "df['LoanCount']=df[loan_screens].sum(axis=1);\n",
    "df.drop(columns=loan_screens,axis=1,inplace=True);"
   ]
  },
  {
   "cell_type": "code",
   "execution_count": 177,
   "id": "11933e70-098b-46bd-bbb7-9101831c2fa1",
   "metadata": {},
   "outputs": [
    {
     "data": {
      "text/html": [
       "<div>\n",
       "<style scoped>\n",
       "    .dataframe tbody tr th:only-of-type {\n",
       "        vertical-align: middle;\n",
       "    }\n",
       "\n",
       "    .dataframe tbody tr th {\n",
       "        vertical-align: top;\n",
       "    }\n",
       "\n",
       "    .dataframe thead th {\n",
       "        text-align: right;\n",
       "    }\n",
       "</style>\n",
       "<table border=\"1\" class=\"dataframe\">\n",
       "  <thead>\n",
       "    <tr style=\"text-align: right;\">\n",
       "      <th></th>\n",
       "      <th>dayofweek</th>\n",
       "      <th>hour</th>\n",
       "      <th>age</th>\n",
       "      <th>numscreens</th>\n",
       "      <th>minigame</th>\n",
       "      <th>used_premium_feature</th>\n",
       "      <th>liked</th>\n",
       "      <th>upd_enroll</th>\n",
       "      <th>location</th>\n",
       "      <th>Institutions</th>\n",
       "      <th>...</th>\n",
       "      <th>SecurityModal</th>\n",
       "      <th>ResendToken</th>\n",
       "      <th>TransactionList</th>\n",
       "      <th>NetworkFailure</th>\n",
       "      <th>ListPicker</th>\n",
       "      <th>non_top_screen_count</th>\n",
       "      <th>SavingCount</th>\n",
       "      <th>CreditCount</th>\n",
       "      <th>CCCount</th>\n",
       "      <th>LoanCount</th>\n",
       "    </tr>\n",
       "  </thead>\n",
       "  <tbody>\n",
       "    <tr>\n",
       "      <th>0</th>\n",
       "      <td>3</td>\n",
       "      <td>2</td>\n",
       "      <td>23</td>\n",
       "      <td>15</td>\n",
       "      <td>0</td>\n",
       "      <td>0</td>\n",
       "      <td>0</td>\n",
       "      <td>0</td>\n",
       "      <td>0</td>\n",
       "      <td>0</td>\n",
       "      <td>...</td>\n",
       "      <td>0</td>\n",
       "      <td>0</td>\n",
       "      <td>0</td>\n",
       "      <td>0</td>\n",
       "      <td>0</td>\n",
       "      <td>7</td>\n",
       "      <td>0</td>\n",
       "      <td>0</td>\n",
       "      <td>0</td>\n",
       "      <td>1</td>\n",
       "    </tr>\n",
       "    <tr>\n",
       "      <th>1</th>\n",
       "      <td>6</td>\n",
       "      <td>1</td>\n",
       "      <td>24</td>\n",
       "      <td>13</td>\n",
       "      <td>0</td>\n",
       "      <td>0</td>\n",
       "      <td>0</td>\n",
       "      <td>0</td>\n",
       "      <td>1</td>\n",
       "      <td>1</td>\n",
       "      <td>...</td>\n",
       "      <td>0</td>\n",
       "      <td>0</td>\n",
       "      <td>0</td>\n",
       "      <td>0</td>\n",
       "      <td>0</td>\n",
       "      <td>5</td>\n",
       "      <td>0</td>\n",
       "      <td>0</td>\n",
       "      <td>0</td>\n",
       "      <td>2</td>\n",
       "    </tr>\n",
       "    <tr>\n",
       "      <th>2</th>\n",
       "      <td>1</td>\n",
       "      <td>19</td>\n",
       "      <td>23</td>\n",
       "      <td>3</td>\n",
       "      <td>0</td>\n",
       "      <td>1</td>\n",
       "      <td>1</td>\n",
       "      <td>0</td>\n",
       "      <td>0</td>\n",
       "      <td>0</td>\n",
       "      <td>...</td>\n",
       "      <td>0</td>\n",
       "      <td>0</td>\n",
       "      <td>0</td>\n",
       "      <td>0</td>\n",
       "      <td>0</td>\n",
       "      <td>0</td>\n",
       "      <td>0</td>\n",
       "      <td>0</td>\n",
       "      <td>0</td>\n",
       "      <td>1</td>\n",
       "    </tr>\n",
       "    <tr>\n",
       "      <th>3</th>\n",
       "      <td>4</td>\n",
       "      <td>16</td>\n",
       "      <td>28</td>\n",
       "      <td>40</td>\n",
       "      <td>0</td>\n",
       "      <td>0</td>\n",
       "      <td>0</td>\n",
       "      <td>1</td>\n",
       "      <td>1</td>\n",
       "      <td>0</td>\n",
       "      <td>...</td>\n",
       "      <td>0</td>\n",
       "      <td>0</td>\n",
       "      <td>0</td>\n",
       "      <td>0</td>\n",
       "      <td>0</td>\n",
       "      <td>6</td>\n",
       "      <td>0</td>\n",
       "      <td>3</td>\n",
       "      <td>0</td>\n",
       "      <td>1</td>\n",
       "    </tr>\n",
       "    <tr>\n",
       "      <th>4</th>\n",
       "      <td>1</td>\n",
       "      <td>18</td>\n",
       "      <td>31</td>\n",
       "      <td>32</td>\n",
       "      <td>0</td>\n",
       "      <td>0</td>\n",
       "      <td>1</td>\n",
       "      <td>1</td>\n",
       "      <td>0</td>\n",
       "      <td>1</td>\n",
       "      <td>...</td>\n",
       "      <td>0</td>\n",
       "      <td>0</td>\n",
       "      <td>0</td>\n",
       "      <td>0</td>\n",
       "      <td>0</td>\n",
       "      <td>9</td>\n",
       "      <td>0</td>\n",
       "      <td>2</td>\n",
       "      <td>0</td>\n",
       "      <td>1</td>\n",
       "    </tr>\n",
       "  </tbody>\n",
       "</table>\n",
       "<p>5 rows × 49 columns</p>\n",
       "</div>"
      ],
      "text/plain": [
       "   dayofweek  hour  age  numscreens  minigame  used_premium_feature  liked  \\\n",
       "0          3     2   23          15         0                     0      0   \n",
       "1          6     1   24          13         0                     0      0   \n",
       "2          1    19   23           3         0                     1      1   \n",
       "3          4    16   28          40         0                     0      0   \n",
       "4          1    18   31          32         0                     0      1   \n",
       "\n",
       "   upd_enroll  location  Institutions  ...  SecurityModal  ResendToken  \\\n",
       "0           0         0             0  ...              0            0   \n",
       "1           0         1             1  ...              0            0   \n",
       "2           0         0             0  ...              0            0   \n",
       "3           1         1             0  ...              0            0   \n",
       "4           1         0             1  ...              0            0   \n",
       "\n",
       "   TransactionList  NetworkFailure  ListPicker  non_top_screen_count  \\\n",
       "0                0               0           0                     7   \n",
       "1                0               0           0                     5   \n",
       "2                0               0           0                     0   \n",
       "3                0               0           0                     6   \n",
       "4                0               0           0                     9   \n",
       "\n",
       "   SavingCount  CreditCount  CCCount  LoanCount  \n",
       "0            0            0        0          1  \n",
       "1            0            0        0          2  \n",
       "2            0            0        0          1  \n",
       "3            0            3        0          1  \n",
       "4            0            2        0          1  \n",
       "\n",
       "[5 rows x 49 columns]"
      ]
     },
     "execution_count": 177,
     "metadata": {},
     "output_type": "execute_result"
    }
   ],
   "source": [
    "df.head()"
   ]
  },
  {
   "cell_type": "code",
   "execution_count": 178,
   "id": "647c6412-2233-41a9-8cbe-4cd745f38c18",
   "metadata": {},
   "outputs": [
    {
     "data": {
      "text/plain": [
       "Index(['dayofweek', 'hour', 'age', 'numscreens', 'minigame',\n",
       "       'used_premium_feature', 'liked', 'upd_enroll', 'location',\n",
       "       'Institutions', 'VerifyPhone', 'BankVerification', 'VerifyDateOfBirth',\n",
       "       'ProfilePage', 'VerifyCountry', 'Cycle', 'idscreen', 'Splash',\n",
       "       'RewardsContainer', 'EditProfile', 'Finances', 'Alerts', 'Leaderboard',\n",
       "       'VerifyMobile', 'VerifyHousing', 'RewardDetail', 'VerifyHousingAmount',\n",
       "       'ProfileMaritalStatus', 'ProfileChildren ', 'ProfileEducation',\n",
       "       'ProfileEducationMajor', 'Rewards', 'AccountView', 'VerifyAnnualIncome',\n",
       "       'VerifyIncomeType', 'ProfileJobTitle', 'Login',\n",
       "       'ProfileEmploymentLength', 'WebView', 'SecurityModal', 'ResendToken',\n",
       "       'TransactionList', 'NetworkFailure', 'ListPicker',\n",
       "       'non_top_screen_count', 'SavingCount', 'CreditCount', 'CCCount',\n",
       "       'LoanCount'],\n",
       "      dtype='object')"
      ]
     },
     "execution_count": 178,
     "metadata": {},
     "output_type": "execute_result"
    }
   ],
   "source": [
    "df.columns"
   ]
  },
  {
   "cell_type": "markdown",
   "id": "394ad3bc-6135-49df-a729-47a4100cdbb9",
   "metadata": {},
   "source": [
    "# EDA"
   ]
  },
  {
   "cell_type": "code",
   "execution_count": 180,
   "id": "8dfa1032-4152-40ec-b9e4-535726346baa",
   "metadata": {},
   "outputs": [
    {
     "name": "stderr",
     "output_type": "stream",
     "text": [
      "/var/folders/lc/nt_cj8vj15b_73cwvpjjb5jm0000gn/T/ipykernel_36369/2169011760.py:2: FutureWarning: \n",
      "\n",
      "The `ci` parameter is deprecated. Use `errorbar=None` for the same effect.\n",
      "\n",
      "  sns.barplot(data=df, x='upd_enroll', y='SavingCount', ci=None)\n"
     ]
    },
    {
     "data": {
      "image/png": "[encoded data removed]",
      "text/plain": [
       "<Figure size 800x600 with 1 Axes>"
      ]
     },
     "metadata": {},
     "output_type": "display_data"
    }
   ],
   "source": [
    "plt.figure(figsize=(8, 6))\n",
    "sns.barplot(data=df, x='upd_enroll', y='SavingCount', ci=None)\n",
    "plt.title('Bar Plot of SavingCount by upd_enroll')\n",
    "plt.show()"
   ]
  },
  {
   "cell_type": "code",
   "execution_count": 181,
   "id": "d8d01c52-391f-4a6e-9957-4404936468e3",
   "metadata": {},
   "outputs": [
    {
     "name": "stderr",
     "output_type": "stream",
     "text": [
      "/var/folders/lc/nt_cj8vj15b_73cwvpjjb5jm0000gn/T/ipykernel_36369/392818673.py:2: FutureWarning: \n",
      "\n",
      "The `ci` parameter is deprecated. Use `errorbar=None` for the same effect.\n",
      "\n",
      "  sns.barplot(data=df, x='upd_enroll', y='CreditCount', ci=None)\n"
     ]
    },
    {
     "data": {
      "image/png": "[encoded data removed]",
      "text/plain": [
       "<Figure size 800x600 with 1 Axes>"
      ]
     },
     "metadata": {},
     "output_type": "display_data"
    }
   ],
   "source": [
    "plt.figure(figsize=(8, 6))\n",
    "sns.barplot(data=df, x='upd_enroll', y='CreditCount', ci=None)\n",
    "plt.title('Bar Plot of CreditCount by upd_enroll')\n",
    "plt.show()"
   ]
  },
  {
   "cell_type": "code",
   "execution_count": 182,
   "id": "ba8738d9-e6e1-42ed-9692-1953361ee9b9",
   "metadata": {},
   "outputs": [
    {
     "data": {
      "image/png": "[encoded data removed]",
      "text/plain": [
       "<Figure size 800x600 with 1 Axes>"
      ]
     },
     "metadata": {},
     "output_type": "display_data"
    }
   ],
   "source": [
    "plt.figure(figsize=(8, 6))\n",
    "sns.boxplot(data=df, x='upd_enroll', y='non_top_screen_count')\n",
    "plt.title('Box Plot of non_top_screen_count by upd_enroll')\n",
    "plt.show()"
   ]
  },
  {
   "cell_type": "code",
   "execution_count": 183,
   "id": "a6c11e98-7aff-4fb5-ab6b-82b04b81cdb4",
   "metadata": {},
   "outputs": [
    {
     "data": {
      "image/png": "[encoded data removed]",
      "text/plain": [
       "<Figure size 800x600 with 1 Axes>"
      ]
     },
     "metadata": {},
     "output_type": "display_data"
    }
   ],
   "source": [
    "plt.figure(figsize=(8, 6))\n",
    "sns.boxplot(data=df, x='upd_enroll', y='numscreens')\n",
    "plt.title('Box Plot of numscreens by upd_enroll')\n",
    "plt.show()"
   ]
  },
  {
   "cell_type": "code",
   "execution_count": 184,
   "id": "3007ee86-9776-439d-ba9b-34100487af5f",
   "metadata": {},
   "outputs": [
    {
     "data": {
      "text/plain": [
       "<matplotlib.legend.Legend at 0x17c0f4f70>"
      ]
     },
     "execution_count": 184,
     "metadata": {},
     "output_type": "execute_result"
    },
    {
     "data": {
      "image/png": "[encoded data removed]",
      "text/plain": [
       "<Figure size 640x480 with 1 Axes>"
      ]
     },
     "metadata": {},
     "output_type": "display_data"
    }
   ],
   "source": [
    "plt.hist([df.loc[df['upd_enroll']==1,:]['hour'], df.loc[df['upd_enroll']==0,:]['hour']],bins = 24)\n",
    "plt.legend(['Enroll', 'No_Enroll'])"
   ]
  },
  {
   "cell_type": "code",
   "execution_count": 185,
   "id": "7c9f83af-2b9d-432c-86b9-1db997b03df1",
   "metadata": {},
   "outputs": [
    {
     "data": {
      "image/png": "[encoded data removed]",
      "text/plain": [
       "<Figure size 800x600 with 1 Axes>"
      ]
     },
     "metadata": {},
     "output_type": "display_data"
    }
   ],
   "source": [
    "plt.figure(figsize=(8, 6))\n",
    "sns.boxplot(data=df, x='upd_enroll', y='age')\n",
    "plt.title('Box Plot of age by upd_enroll')\n",
    "plt.show()"
   ]
  },
  {
   "cell_type": "code",
   "execution_count": 186,
   "id": "0b666db4-544a-4064-b371-3316811ee68c",
   "metadata": {},
   "outputs": [
    {
     "data": {
      "image/png": "[encoded data removed]",
      "text/plain": [
       "<Figure size 800x600 with 1 Axes>"
      ]
     },
     "metadata": {},
     "output_type": "display_data"
    }
   ],
   "source": [
    "plt.figure(figsize=(8, 6))\n",
    "sns.countplot(data=df, x='upd_enroll', hue='used_premium_feature')\n",
    "plt.title('Count Plot of upd_enroll by used_premium_feature')\n",
    "plt.show()"
   ]
  },
  {
   "cell_type": "markdown",
   "id": "a3de3362-2464-43d7-b23b-712958452053",
   "metadata": {},
   "source": [
    "# Create training and testing dataset"
   ]
  },
  {
   "cell_type": "code",
   "execution_count": 188,
   "id": "c182d461-2c57-4aa9-b77c-51c2b96af3c0",
   "metadata": {},
   "outputs": [],
   "source": [
    "# Creating input dataset\n",
    "X = df.drop(['upd_enroll'],axis = 1)"
   ]
  },
  {
   "cell_type": "code",
   "execution_count": 189,
   "id": "4bfd6aed-e775-4f29-8409-d6ece6a072f4",
   "metadata": {},
   "outputs": [],
   "source": [
    "# Creating output dataset\n",
    "y = df['upd_enroll']"
   ]
  },
  {
   "cell_type": "code",
   "execution_count": 247,
   "id": "b11466b3-b2b9-4fee-b92a-7954ec4e855e",
   "metadata": {},
   "outputs": [],
   "source": [
    "X_train, X_test, y_train, y_test = train_test_split(X, y, test_size=0.3, random_state=42)\n",
    "X_train_Scaled = pd.DataFrame(scale(X_train), columns = X_train.columns)\n",
    "X_test_Scaled = pd.DataFrame(scale(X_test), columns = X_test.columns)"
   ]
  },
  {
   "cell_type": "markdown",
   "id": "eb351ecd-5771-48ac-9bf5-b9fe2887b3d2",
   "metadata": {},
   "source": [
    "# XGBoost Model"
   ]
  },
  {
   "cell_type": "code",
   "execution_count": 528,
   "id": "350e1f00-45fe-4e2e-ae9a-5648da86d014",
   "metadata": {},
   "outputs": [
    {
     "data": {
      "text/html": [
       "<style>#sk-container-id-18 {color: black;background-color: white;}#sk-container-id-18 pre{padding: 0;}#sk-container-id-18 div.sk-toggleable {background-color: white;}#sk-container-id-18 label.sk-toggleable__label {cursor: pointer;display: block;width: 100%;margin-bottom: 0;padding: 0.3em;box-sizing: border-box;text-align: center;}#sk-container-id-18 label.sk-toggleable__label-arrow:before {content: \"▸\";float: left;margin-right: 0.25em;color: #696969;}#sk-container-id-18 label.sk-toggleable__label-arrow:hover:before {color: black;}#sk-container-id-18 div.sk-estimator:hover label.sk-toggleable__label-arrow:before {color: black;}#sk-container-id-18 div.sk-toggleable__content {max-height: 0;max-width: 0;overflow: hidden;text-align: left;background-color: #f0f8ff;}#sk-container-id-18 div.sk-toggleable__content pre {margin: 0.2em;color: black;border-radius: 0.25em;background-color: #f0f8ff;}#sk-container-id-18 input.sk-toggleable__control:checked~div.sk-toggleable__content {max-height: 200px;max-width: 100%;overflow: auto;}#sk-container-id-18 input.sk-toggleable__control:checked~label.sk-toggleable__label-arrow:before {content: \"▾\";}#sk-container-id-18 div.sk-estimator input.sk-toggleable__control:checked~label.sk-toggleable__label {background-color: #d4ebff;}#sk-container-id-18 div.sk-label input.sk-toggleable__control:checked~label.sk-toggleable__label {background-color: #d4ebff;}#sk-container-id-18 input.sk-hidden--visually {border: 0;clip: rect(1px 1px 1px 1px);clip: rect(1px, 1px, 1px, 1px);height: 1px;margin: -1px;overflow: hidden;padding: 0;position: absolute;width: 1px;}#sk-container-id-18 div.sk-estimator {font-family: monospace;background-color: #f0f8ff;border: 1px dotted black;border-radius: 0.25em;box-sizing: border-box;margin-bottom: 0.5em;}#sk-container-id-18 div.sk-estimator:hover {background-color: #d4ebff;}#sk-container-id-18 div.sk-parallel-item::after {content: \"\";width: 100%;border-bottom: 1px solid gray;flex-grow: 1;}#sk-container-id-18 div.sk-label:hover label.sk-toggleable__label {background-color: #d4ebff;}#sk-container-id-18 div.sk-serial::before {content: \"\";position: absolute;border-left: 1px solid gray;box-sizing: border-box;top: 0;bottom: 0;left: 50%;z-index: 0;}#sk-container-id-18 div.sk-serial {display: flex;flex-direction: column;align-items: center;background-color: white;padding-right: 0.2em;padding-left: 0.2em;position: relative;}#sk-container-id-18 div.sk-item {position: relative;z-index: 1;}#sk-container-id-18 div.sk-parallel {display: flex;align-items: stretch;justify-content: center;background-color: white;position: relative;}#sk-container-id-18 div.sk-item::before, #sk-container-id-18 div.sk-parallel-item::before {content: \"\";position: absolute;border-left: 1px solid gray;box-sizing: border-box;top: 0;bottom: 0;left: 50%;z-index: -1;}#sk-container-id-18 div.sk-parallel-item {display: flex;flex-direction: column;z-index: 1;position: relative;background-color: white;}#sk-container-id-18 div.sk-parallel-item:first-child::after {align-self: flex-end;width: 50%;}#sk-container-id-18 div.sk-parallel-item:last-child::after {align-self: flex-start;width: 50%;}#sk-container-id-18 div.sk-parallel-item:only-child::after {width: 0;}#sk-container-id-18 div.sk-dashed-wrapped {border: 1px dashed gray;margin: 0 0.4em 0.5em 0.4em;box-sizing: border-box;padding-bottom: 0.4em;background-color: white;}#sk-container-id-18 div.sk-label label {font-family: monospace;font-weight: bold;display: inline-block;line-height: 1.2em;}#sk-container-id-18 div.sk-label-container {text-align: center;}#sk-container-id-18 div.sk-container {/* jupyter's `normalize.less` sets `[hidden] { display: none; }` but bootstrap.min.css set `[hidden] { display: none !important; }` so we also need the `!important` here to be able to override the default hidden behavior on the sphinx rendered scikit-learn.org. See: https://github.com/scikit-learn/scikit-learn/issues/21755 */display: inline-block !important;position: relative;}#sk-container-id-18 div.sk-text-repr-fallback {display: none;}</style><div id=\"sk-container-id-18\" class=\"sk-top-container\"><div class=\"sk-text-repr-fallback\"><pre>XGBClassifier(alpha=1, base_score=None, booster=None, callbacks=None,\n",
       "              colsample_bylevel=None, colsample_bynode=None,\n",
       "              colsample_bytree=None, device=None, early_stopping_rounds=None,\n",
       "              enable_categorical=False, eval_metric=None, feature_types=None,\n",
       "              gamma=None, grow_policy=None, importance_type=None,\n",
       "              interaction_constraints=None, learning_rate=1.0, max_bin=None,\n",
       "              max_cat_threshold=None, max_cat_to_onehot=None,\n",
       "              max_delta_step=None, max_depth=4, max_leaves=None,\n",
       "              min_child_weight=None, missing=nan, monotone_constraints=None,\n",
       "              multi_strategy=None, n_estimators=100, n_jobs=None,\n",
       "              num_parallel_tree=None, ...)</pre><b>In a Jupyter environment, please rerun this cell to show the HTML representation or trust the notebook. <br />On GitHub, the HTML representation is unable to render, please try loading this page with nbviewer.org.</b></div><div class=\"sk-container\" hidden><div class=\"sk-item\"><div class=\"sk-estimator sk-toggleable\"><input class=\"sk-toggleable__control sk-hidden--visually\" id=\"sk-estimator-id-18\" type=\"checkbox\" checked><label for=\"sk-estimator-id-18\" class=\"sk-toggleable__label sk-toggleable__label-arrow\">XGBClassifier</label><div class=\"sk-toggleable__content\"><pre>XGBClassifier(alpha=1, base_score=None, booster=None, callbacks=None,\n",
       "              colsample_bylevel=None, colsample_bynode=None,\n",
       "              colsample_bytree=None, device=None, early_stopping_rounds=None,\n",
       "              enable_categorical=False, eval_metric=None, feature_types=None,\n",
       "              gamma=None, grow_policy=None, importance_type=None,\n",
       "              interaction_constraints=None, learning_rate=1.0, max_bin=None,\n",
       "              max_cat_threshold=None, max_cat_to_onehot=None,\n",
       "              max_delta_step=None, max_depth=4, max_leaves=None,\n",
       "              min_child_weight=None, missing=nan, monotone_constraints=None,\n",
       "              multi_strategy=None, n_estimators=100, n_jobs=None,\n",
       "              num_parallel_tree=None, ...)</pre></div></div></div></div></div>"
      ],
      "text/plain": [
       "XGBClassifier(alpha=1, base_score=None, booster=None, callbacks=None,\n",
       "              colsample_bylevel=None, colsample_bynode=None,\n",
       "              colsample_bytree=None, device=None, early_stopping_rounds=None,\n",
       "              enable_categorical=False, eval_metric=None, feature_types=None,\n",
       "              gamma=None, grow_policy=None, importance_type=None,\n",
       "              interaction_constraints=None, learning_rate=1.0, max_bin=None,\n",
       "              max_cat_threshold=None, max_cat_to_onehot=None,\n",
       "              max_delta_step=None, max_depth=4, max_leaves=None,\n",
       "              min_child_weight=None, missing=nan, monotone_constraints=None,\n",
       "              multi_strategy=None, n_estimators=100, n_jobs=None,\n",
       "              num_parallel_tree=None, ...)"
      ]
     },
     "execution_count": 528,
     "metadata": {},
     "output_type": "execute_result"
    }
   ],
   "source": [
    "# best_params_bayes = {'objective':'binary:logistic',\n",
    "#                      'colsample_bytree': 0.7043167722693142, \n",
    "#                      'learning_rate': 0.04798936712593531, \n",
    "#                      'max_depth': 9, \n",
    "#                      'n_estimators': 164, \n",
    "#                      'reg_alpha': 5.851731127352833, \n",
    "#                      'reg_lambda': 0.8917491195675415, \n",
    "#                      'subsample': 0.8710496159306349\n",
    "#                     }\n",
    "\n",
    "# best_params_scikit = {'objective':'binary:logistic',\n",
    "#                      'learning_rate': 0.01,\n",
    "#                      'max_depth': 10,\n",
    "#                      'n_estimators': 292,\n",
    "#                      'subsample': 0.5,\n",
    "#                      'colsample_bytree': 0.8167512066357197,\n",
    "#                      'reg_lambda': 0.7234512950940174,\n",
    "#                      'reg_alpha': 0.001\n",
    "#                     }\n",
    "\n",
    "# best_params_bayes = {'objective':'binary:logistic',\n",
    "#                      'colsample_bytree': 0.5936477395867823, \n",
    "#                      'learning_rate': 0.10353399325047952, \n",
    "#                      'max_depth': 8, \n",
    "#                      'n_estimators': 78, \n",
    "#                      'reg_alpha': 1.4082293903581935, \n",
    "#                      'reg_lambda': 4.816610468498162, \n",
    "#                      'subsample': 0.901849492255092}\n",
    "\n",
    "\n",
    "params = {\n",
    "            'objective':'binary:logistic',\n",
    "            'max_depth': 4,\n",
    "            'alpha': 1,\n",
    "            'learning_rate': 1.0,\n",
    "            'n_estimators':100\n",
    "        }  \n",
    "\n",
    "model = XGBClassifier(**params)\n",
    "model.fit(X_train_Scaled, y_train)"
   ]
  },
  {
   "cell_type": "code",
   "execution_count": 530,
   "id": "66d5822d-f0ae-4242-80cf-96ae248c8ff4",
   "metadata": {},
   "outputs": [],
   "source": [
    "y_pred = model.predict(X_test_Scaled)"
   ]
  },
  {
   "cell_type": "code",
   "execution_count": 532,
   "id": "21c2e498-1962-4356-af78-30033a076cea",
   "metadata": {},
   "outputs": [
    {
     "name": "stdout",
     "output_type": "stream",
     "text": [
      "Accuracy = 0.73\n",
      "Recall = 0.83\n",
      "Precision = 0.75\n"
     ]
    },
    {
     "data": {
      "image/png": "[encoded data removed]",
      "text/plain": [
       "<Figure size 800x600 with 2 Axes>"
      ]
     },
     "metadata": {},
     "output_type": "display_data"
    }
   ],
   "source": [
    "from sklearn.metrics import accuracy_score, recall_score, confusion_matrix, precision_score\n",
    "\n",
    "print(f'Accuracy = {accuracy_score(y_test, y_pred):.2f}\\nRecall = {recall_score(y_test, y_pred):.2f}\\nPrecision = {precision_score(y_test, y_pred):.2f}')\n",
    "cm = confusion_matrix(y_test, y_pred)\n",
    "#plt.figure()\n",
    "#plt.title('Confusion Matrix on entire dataset')\n",
    "#sns.heatmap(cm, annot = True)\n",
    "\n",
    "\n",
    "#cm = confusion_matrix(y_true, y_pred)\n",
    "classes = ['Not Enroll', 'Enroll']  # Class names\n",
    "\n",
    "plt.figure(figsize=(8, 6))\n",
    "sns.heatmap(cm, annot=True, fmt='d', cmap='Blues', xticklabels=classes, yticklabels=classes, annot_kws={\"size\": 14})\n",
    "plt.title('Confusion Matrix')\n",
    "plt.xlabel('Predicted Label')\n",
    "plt.ylabel('True Label')\n",
    "plt.show()"
   ]
  },
  {
   "cell_type": "code",
   "execution_count": 534,
   "id": "8dd071e1-0bd6-4d18-a141-9b7cd0894fcc",
   "metadata": {},
   "outputs": [
    {
     "data": {
      "text/plain": [
       "array([[3243, 2542],\n",
       "       [1537, 7678]])"
      ]
     },
     "execution_count": 534,
     "metadata": {},
     "output_type": "execute_result"
    }
   ],
   "source": [
    "cm"
   ]
  },
  {
   "cell_type": "code",
   "execution_count": 536,
   "id": "64667daf-fe1c-4fdd-925c-0e145d36d511",
   "metadata": {},
   "outputs": [
    {
     "name": "stdout",
     "output_type": "stream",
     "text": [
      "0.6968972275202348\n"
     ]
    }
   ],
   "source": [
    "import sklearn.metrics as metrics\n",
    "print(metrics.roc_auc_score(y_test, y_pred))"
   ]
  },
  {
   "cell_type": "markdown",
   "id": "0684db5b-bb91-4761-a402-2fa3c2902ddf",
   "metadata": {},
   "source": [
    "## XGBoost with Bayesian Hyperparameter Tuning"
   ]
  },
  {
   "cell_type": "code",
   "execution_count": 541,
   "id": "bf9e0eff-2786-4f3b-bf94-78598b6ef954",
   "metadata": {},
   "outputs": [
    {
     "name": "stdout",
     "output_type": "stream",
     "text": [
      "|   iter    |  target   | colsam... | learni... | max_depth | n_esti... | reg_alpha | reg_la... | subsample |\n",
      "-------------------------------------------------------------------------------------------------------------\n",
      "| \u001b[39m1        \u001b[39m | \u001b[39m0.7657   \u001b[39m | \u001b[39m0.6873   \u001b[39m | \u001b[39m0.2857   \u001b[39m | \u001b[39m8.124    \u001b[39m | \u001b[39m199.7    \u001b[39m | \u001b[39m1.561    \u001b[39m | \u001b[39m1.561    \u001b[39m | \u001b[39m0.529    \u001b[39m |\n",
      "| \u001b[35m2        \u001b[39m | \u001b[35m0.7839   \u001b[39m | \u001b[35m0.9331   \u001b[39m | \u001b[35m0.1843   \u001b[39m | \u001b[35m7.957    \u001b[39m | \u001b[35m55.15    \u001b[39m | \u001b[35m9.699    \u001b[39m | \u001b[35m8.325    \u001b[39m | \u001b[35m0.6062   \u001b[39m |\n",
      "| \u001b[35m3        \u001b[39m | \u001b[35m0.7853   \u001b[39m | \u001b[35m0.5909   \u001b[39m | \u001b[35m0.06319  \u001b[39m | \u001b[35m5.13     \u001b[39m | \u001b[35m181.2    \u001b[39m | \u001b[35m4.32     \u001b[39m | \u001b[35m2.913    \u001b[39m | \u001b[35m0.8059   \u001b[39m |\n",
      "| \u001b[35m4        \u001b[39m | \u001b[35m0.7861   \u001b[39m | \u001b[35m0.5697   \u001b[39m | \u001b[35m0.09472  \u001b[39m | \u001b[35m5.565    \u001b[39m | \u001b[35m164.0    \u001b[39m | \u001b[35m7.852    \u001b[39m | \u001b[35m1.998    \u001b[39m | \u001b[35m0.7571   \u001b[39m |\n",
      "| \u001b[39m5        \u001b[39m | \u001b[39m0.7783   \u001b[39m | \u001b[39m0.7962   \u001b[39m | \u001b[39m0.02347  \u001b[39m | \u001b[39m7.253    \u001b[39m | \u001b[39m92.63    \u001b[39m | \u001b[39m0.6515   \u001b[39m | \u001b[39m9.489    \u001b[39m | \u001b[39m0.9828   \u001b[39m |\n",
      "| \u001b[39m6        \u001b[39m | \u001b[39m0.7829   \u001b[39m | \u001b[39m0.9042   \u001b[39m | \u001b[39m0.09834  \u001b[39m | \u001b[39m3.684    \u001b[39m | \u001b[39m221.1    \u001b[39m | \u001b[39m4.402    \u001b[39m | \u001b[39m1.221    \u001b[39m | \u001b[39m0.7476   \u001b[39m |\n",
      "| \u001b[39m7        \u001b[39m | \u001b[39m0.784    \u001b[39m | \u001b[39m0.5172   \u001b[39m | \u001b[39m0.2737   \u001b[39m | \u001b[39m4.811    \u001b[39m | \u001b[39m215.6    \u001b[39m | \u001b[39m3.118    \u001b[39m | \u001b[39m5.201    \u001b[39m | \u001b[39m0.7734   \u001b[39m |\n",
      "| \u001b[39m8        \u001b[39m | \u001b[39m0.7791   \u001b[39m | \u001b[39m0.5924   \u001b[39m | \u001b[39m0.2912   \u001b[39m | \u001b[39m8.426    \u001b[39m | \u001b[39m284.9    \u001b[39m | \u001b[39m8.948    \u001b[39m | \u001b[39m5.979    \u001b[39m | \u001b[39m0.9609   \u001b[39m |\n",
      "| \u001b[39m9        \u001b[39m | \u001b[39m0.767    \u001b[39m | \u001b[39m0.5442   \u001b[39m | \u001b[39m0.06684  \u001b[39m | \u001b[39m3.317    \u001b[39m | \u001b[39m131.3    \u001b[39m | \u001b[39m3.887    \u001b[39m | \u001b[39m2.714    \u001b[39m | \u001b[39m0.9144   \u001b[39m |\n",
      "| \u001b[39m10       \u001b[39m | \u001b[39m0.7843   \u001b[39m | \u001b[39m0.6784   \u001b[39m | \u001b[39m0.09147  \u001b[39m | \u001b[39m6.799    \u001b[39m | \u001b[39m85.23    \u001b[39m | \u001b[39m8.022    \u001b[39m | \u001b[39m0.7464   \u001b[39m | \u001b[39m0.9934   \u001b[39m |\n",
      "| \u001b[39m11       \u001b[39m | \u001b[39m0.7838   \u001b[39m | \u001b[39m0.6947   \u001b[39m | \u001b[39m0.2042   \u001b[39m | \u001b[39m3.745    \u001b[39m | \u001b[39m172.2    \u001b[39m | \u001b[39m4.427    \u001b[39m | \u001b[39m2.161    \u001b[39m | \u001b[39m0.6501   \u001b[39m |\n",
      "| \u001b[39m12       \u001b[39m | \u001b[39m0.7837   \u001b[39m | \u001b[39m0.5142   \u001b[39m | \u001b[39m0.1588   \u001b[39m | \u001b[39m4.947    \u001b[39m | \u001b[39m164.5    \u001b[39m | \u001b[39m8.833    \u001b[39m | \u001b[39m1.969    \u001b[39m | \u001b[39m0.6693   \u001b[39m |\n",
      "| \u001b[35m13       \u001b[39m | \u001b[35m0.7862   \u001b[39m | \u001b[35m0.5556   \u001b[39m | \u001b[35m0.08763  \u001b[39m | \u001b[35m8.353    \u001b[39m | \u001b[35m162.9    \u001b[39m | \u001b[35m1.871    \u001b[39m | \u001b[35m0.3907   \u001b[39m | \u001b[35m0.6857   \u001b[39m |\n",
      "| \u001b[39m14       \u001b[39m | \u001b[39m0.7775   \u001b[39m | \u001b[39m0.592    \u001b[39m | \u001b[39m0.2881   \u001b[39m | \u001b[39m8.456    \u001b[39m | \u001b[39m161.2    \u001b[39m | \u001b[39m5.543    \u001b[39m | \u001b[39m7.834    \u001b[39m | \u001b[39m0.6527   \u001b[39m |\n",
      "| \u001b[39m15       \u001b[39m | \u001b[39m0.781    \u001b[39m | \u001b[39m0.759    \u001b[39m | \u001b[39m0.1404   \u001b[39m | \u001b[39m9.311    \u001b[39m | \u001b[39m168.6    \u001b[39m | \u001b[39m4.589    \u001b[39m | \u001b[39m0.1199   \u001b[39m | \u001b[39m0.7794   \u001b[39m |\n",
      "| \u001b[39m16       \u001b[39m | \u001b[39m0.7759   \u001b[39m | \u001b[39m0.5706   \u001b[39m | \u001b[39m0.07749  \u001b[39m | \u001b[39m3.387    \u001b[39m | \u001b[39m162.5    \u001b[39m | \u001b[39m3.035    \u001b[39m | \u001b[39m0.7543   \u001b[39m | \u001b[39m0.5835   \u001b[39m |\n",
      "| \u001b[35m17       \u001b[39m | \u001b[35m0.7882   \u001b[39m | \u001b[35m0.7043   \u001b[39m | \u001b[35m0.04799  \u001b[39m | \u001b[35m9.422    \u001b[39m | \u001b[35m164.0    \u001b[39m | \u001b[35m5.852    \u001b[39m | \u001b[35m0.8917   \u001b[39m | \u001b[35m0.871    \u001b[39m |\n",
      "| \u001b[39m18       \u001b[39m | \u001b[39m0.7846   \u001b[39m | \u001b[39m0.6483   \u001b[39m | \u001b[39m0.1756   \u001b[39m | \u001b[39m8.286    \u001b[39m | \u001b[39m159.9    \u001b[39m | \u001b[39m8.432    \u001b[39m | \u001b[39m0.5595   \u001b[39m | \u001b[39m0.6954   \u001b[39m |\n",
      "| \u001b[39m19       \u001b[39m | \u001b[39m0.7853   \u001b[39m | \u001b[39m0.9856   \u001b[39m | \u001b[39m0.1662   \u001b[39m | \u001b[39m4.497    \u001b[39m | \u001b[39m177.0    \u001b[39m | \u001b[39m3.427    \u001b[39m | \u001b[39m7.385    \u001b[39m | \u001b[39m0.9785   \u001b[39m |\n",
      "| \u001b[39m20       \u001b[39m | \u001b[39m0.7795   \u001b[39m | \u001b[39m0.8778   \u001b[39m | \u001b[39m0.1163   \u001b[39m | \u001b[39m3.874    \u001b[39m | \u001b[39m177.9    \u001b[39m | \u001b[39m9.984    \u001b[39m | \u001b[39m5.309    \u001b[39m | \u001b[39m0.797    \u001b[39m |\n",
      "| \u001b[39m21       \u001b[39m | \u001b[39m0.772    \u001b[39m | \u001b[39m0.9862   \u001b[39m | \u001b[39m0.04753  \u001b[39m | \u001b[39m3.684    \u001b[39m | \u001b[39m177.2    \u001b[39m | \u001b[39m0.9344   \u001b[39m | \u001b[39m1.51     \u001b[39m | \u001b[39m0.8082   \u001b[39m |\n",
      "| \u001b[39m22       \u001b[39m | \u001b[39m0.7812   \u001b[39m | \u001b[39m0.7698   \u001b[39m | \u001b[39m0.2395   \u001b[39m | \u001b[39m9.874    \u001b[39m | \u001b[39m163.8    \u001b[39m | \u001b[39m8.891    \u001b[39m | \u001b[39m2.027    \u001b[39m | \u001b[39m0.6652   \u001b[39m |\n",
      "| \u001b[39m23       \u001b[39m | \u001b[39m0.7777   \u001b[39m | \u001b[39m0.7769   \u001b[39m | \u001b[39m0.01073  \u001b[39m | \u001b[39m8.464    \u001b[39m | \u001b[39m161.8    \u001b[39m | \u001b[39m4.939    \u001b[39m | \u001b[39m1.215    \u001b[39m | \u001b[39m0.9317   \u001b[39m |\n",
      "| \u001b[39m24       \u001b[39m | \u001b[39m0.7877   \u001b[39m | \u001b[39m0.6843   \u001b[39m | \u001b[39m0.04873  \u001b[39m | \u001b[39m9.868    \u001b[39m | \u001b[39m165.4    \u001b[39m | \u001b[39m6.538    \u001b[39m | \u001b[39m1.917    \u001b[39m | \u001b[39m0.6192   \u001b[39m |\n",
      "| \u001b[39m25       \u001b[39m | \u001b[39m0.7832   \u001b[39m | \u001b[39m0.9947   \u001b[39m | \u001b[39m0.143    \u001b[39m | \u001b[39m7.765    \u001b[39m | \u001b[39m165.5    \u001b[39m | \u001b[39m7.274    \u001b[39m | \u001b[39m1.059    \u001b[39m | \u001b[39m0.5547   \u001b[39m |\n",
      "| \u001b[39m26       \u001b[39m | \u001b[39m0.7781   \u001b[39m | \u001b[39m0.9897   \u001b[39m | \u001b[39m0.1344   \u001b[39m | \u001b[39m9.299    \u001b[39m | \u001b[39m165.6    \u001b[39m | \u001b[39m3.733    \u001b[39m | \u001b[39m1.374    \u001b[39m | \u001b[39m0.8717   \u001b[39m |\n",
      "| \u001b[39m27       \u001b[39m | \u001b[39m0.7813   \u001b[39m | \u001b[39m0.7348   \u001b[39m | \u001b[39m0.2312   \u001b[39m | \u001b[39m8.878    \u001b[39m | \u001b[39m164.8    \u001b[39m | \u001b[39m5.821    \u001b[39m | \u001b[39m2.75     \u001b[39m | \u001b[39m0.9362   \u001b[39m |\n",
      "| \u001b[39m28       \u001b[39m | \u001b[39m0.7872   \u001b[39m | \u001b[39m0.8597   \u001b[39m | \u001b[39m0.09236  \u001b[39m | \u001b[39m8.986    \u001b[39m | \u001b[39m165.2    \u001b[39m | \u001b[39m6.943    \u001b[39m | \u001b[39m0.6793   \u001b[39m | \u001b[39m0.9917   \u001b[39m |\n",
      "| \u001b[39m29       \u001b[39m | \u001b[39m0.7862   \u001b[39m | \u001b[39m0.8576   \u001b[39m | \u001b[39m0.04871  \u001b[39m | \u001b[39m9.69     \u001b[39m | \u001b[39m161.0    \u001b[39m | \u001b[39m0.3334   \u001b[39m | \u001b[39m0.1181   \u001b[39m | \u001b[39m0.592    \u001b[39m |\n",
      "| \u001b[39m30       \u001b[39m | \u001b[39m0.7842   \u001b[39m | \u001b[39m0.6859   \u001b[39m | \u001b[39m0.152    \u001b[39m | \u001b[39m4.978    \u001b[39m | \u001b[39m162.0    \u001b[39m | \u001b[39m8.58     \u001b[39m | \u001b[39m0.4072   \u001b[39m | \u001b[39m0.6292   \u001b[39m |\n",
      "| \u001b[39m31       \u001b[39m | \u001b[39m0.7591   \u001b[39m | \u001b[39m0.6638   \u001b[39m | \u001b[39m0.2872   \u001b[39m | \u001b[39m9.668    \u001b[39m | \u001b[39m163.6    \u001b[39m | \u001b[39m0.2291   \u001b[39m | \u001b[39m0.02166  \u001b[39m | \u001b[39m0.5915   \u001b[39m |\n",
      "| \u001b[39m32       \u001b[39m | \u001b[39m0.7865   \u001b[39m | \u001b[39m0.8297   \u001b[39m | \u001b[39m0.08811  \u001b[39m | \u001b[39m9.627    \u001b[39m | \u001b[39m164.2    \u001b[39m | \u001b[39m7.09     \u001b[39m | \u001b[39m1.382    \u001b[39m | \u001b[39m0.6127   \u001b[39m |\n",
      "| \u001b[39m33       \u001b[39m | \u001b[39m0.7835   \u001b[39m | \u001b[39m0.8802   \u001b[39m | \u001b[39m0.2296   \u001b[39m | \u001b[39m5.406    \u001b[39m | \u001b[39m162.6    \u001b[39m | \u001b[39m7.794    \u001b[39m | \u001b[39m2.397    \u001b[39m | \u001b[39m0.5459   \u001b[39m |\n",
      "| \u001b[39m34       \u001b[39m | \u001b[39m0.7859   \u001b[39m | \u001b[39m0.645    \u001b[39m | \u001b[39m0.1172   \u001b[39m | \u001b[39m8.797    \u001b[39m | \u001b[39m165.6    \u001b[39m | \u001b[39m5.948    \u001b[39m | \u001b[39m0.1719   \u001b[39m | \u001b[39m0.5525   \u001b[39m |\n",
      "| \u001b[39m35       \u001b[39m | \u001b[39m0.7721   \u001b[39m | \u001b[39m0.9249   \u001b[39m | \u001b[39m0.2405   \u001b[39m | \u001b[39m8.899    \u001b[39m | \u001b[39m160.5    \u001b[39m | \u001b[39m2.27     \u001b[39m | \u001b[39m0.6766   \u001b[39m | \u001b[39m0.7303   \u001b[39m |\n",
      "| \u001b[39m36       \u001b[39m | \u001b[39m0.7866   \u001b[39m | \u001b[39m0.9972   \u001b[39m | \u001b[39m0.1113   \u001b[39m | \u001b[39m7.806    \u001b[39m | \u001b[39m163.7    \u001b[39m | \u001b[39m7.724    \u001b[39m | \u001b[39m0.7078   \u001b[39m | \u001b[39m0.5355   \u001b[39m |\n",
      "| \u001b[39m37       \u001b[39m | \u001b[39m0.7852   \u001b[39m | \u001b[39m0.6654   \u001b[39m | \u001b[39m0.1895   \u001b[39m | \u001b[39m7.046    \u001b[39m | \u001b[39m163.0    \u001b[39m | \u001b[39m8.65     \u001b[39m | \u001b[39m0.6207   \u001b[39m | \u001b[39m0.9524   \u001b[39m |\n",
      "| \u001b[39m38       \u001b[39m | \u001b[39m0.7781   \u001b[39m | \u001b[39m0.6494   \u001b[39m | \u001b[39m0.2596   \u001b[39m | \u001b[39m9.673    \u001b[39m | \u001b[39m166.9    \u001b[39m | \u001b[39m6.565    \u001b[39m | \u001b[39m2.416    \u001b[39m | \u001b[39m0.9246   \u001b[39m |\n",
      "| \u001b[39m39       \u001b[39m | \u001b[39m0.7859   \u001b[39m | \u001b[39m0.9739   \u001b[39m | \u001b[39m0.08058  \u001b[39m | \u001b[39m7.259    \u001b[39m | \u001b[39m163.6    \u001b[39m | \u001b[39m2.654    \u001b[39m | \u001b[39m0.5104   \u001b[39m | \u001b[39m0.6869   \u001b[39m |\n",
      "| \u001b[39m40       \u001b[39m | \u001b[39m0.7761   \u001b[39m | \u001b[39m0.9156   \u001b[39m | \u001b[39m0.0216   \u001b[39m | \u001b[39m5.122    \u001b[39m | \u001b[39m164.4    \u001b[39m | \u001b[39m7.646    \u001b[39m | \u001b[39m0.3651   \u001b[39m | \u001b[39m0.9455   \u001b[39m |\n",
      "| \u001b[39m41       \u001b[39m | \u001b[39m0.7862   \u001b[39m | \u001b[39m0.8971   \u001b[39m | \u001b[39m0.07042  \u001b[39m | \u001b[39m8.591    \u001b[39m | \u001b[39m162.1    \u001b[39m | \u001b[39m7.801    \u001b[39m | \u001b[39m1.478    \u001b[39m | \u001b[39m0.592    \u001b[39m |\n",
      "| \u001b[39m42       \u001b[39m | \u001b[39m0.7878   \u001b[39m | \u001b[39m0.8447   \u001b[39m | \u001b[39m0.1694   \u001b[39m | \u001b[39m6.721    \u001b[39m | \u001b[39m164.1    \u001b[39m | \u001b[39m8.18     \u001b[39m | \u001b[39m2.56     \u001b[39m | \u001b[39m0.8889   \u001b[39m |\n",
      "| \u001b[39m43       \u001b[39m | \u001b[39m0.7859   \u001b[39m | \u001b[39m0.5578   \u001b[39m | \u001b[39m0.1005   \u001b[39m | \u001b[39m9.356    \u001b[39m | \u001b[39m163.6    \u001b[39m | \u001b[39m7.506    \u001b[39m | \u001b[39m0.3847   \u001b[39m | \u001b[39m0.7099   \u001b[39m |\n",
      "| \u001b[39m44       \u001b[39m | \u001b[39m0.7859   \u001b[39m | \u001b[39m0.6291   \u001b[39m | \u001b[39m0.1505   \u001b[39m | \u001b[39m6.756    \u001b[39m | \u001b[39m162.9    \u001b[39m | \u001b[39m9.199    \u001b[39m | \u001b[39m2.684    \u001b[39m | \u001b[39m0.5533   \u001b[39m |\n",
      "| \u001b[39m45       \u001b[39m | \u001b[39m0.7871   \u001b[39m | \u001b[39m0.835    \u001b[39m | \u001b[39m0.14     \u001b[39m | \u001b[39m7.956    \u001b[39m | \u001b[39m161.6    \u001b[39m | \u001b[39m9.708    \u001b[39m | \u001b[39m1.443    \u001b[39m | \u001b[39m0.5128   \u001b[39m |\n",
      "| \u001b[39m46       \u001b[39m | \u001b[39m0.7869   \u001b[39m | \u001b[39m0.9437   \u001b[39m | \u001b[39m0.1194   \u001b[39m | \u001b[39m8.69     \u001b[39m | \u001b[39m160.9    \u001b[39m | \u001b[39m9.607    \u001b[39m | \u001b[39m2.73     \u001b[39m | \u001b[39m0.8931   \u001b[39m |\n",
      "| \u001b[39m47       \u001b[39m | \u001b[39m0.7862   \u001b[39m | \u001b[39m0.8592   \u001b[39m | \u001b[39m0.1295   \u001b[39m | \u001b[39m5.749    \u001b[39m | \u001b[39m160.1    \u001b[39m | \u001b[39m9.76     \u001b[39m | \u001b[39m0.877    \u001b[39m | \u001b[39m0.8423   \u001b[39m |\n",
      "| \u001b[39m48       \u001b[39m | \u001b[39m0.7863   \u001b[39m | \u001b[39m0.6835   \u001b[39m | \u001b[39m0.2317   \u001b[39m | \u001b[39m6.32     \u001b[39m | \u001b[39m161.0    \u001b[39m | \u001b[39m8.875    \u001b[39m | \u001b[39m1.573    \u001b[39m | \u001b[39m0.8412   \u001b[39m |\n",
      "| \u001b[39m49       \u001b[39m | \u001b[39m0.7856   \u001b[39m | \u001b[39m0.5957   \u001b[39m | \u001b[39m0.1776   \u001b[39m | \u001b[39m5.464    \u001b[39m | \u001b[39m164.2    \u001b[39m | \u001b[39m7.274    \u001b[39m | \u001b[39m3.964    \u001b[39m | \u001b[39m0.8881   \u001b[39m |\n",
      "| \u001b[39m50       \u001b[39m | \u001b[39m0.7857   \u001b[39m | \u001b[39m0.8477   \u001b[39m | \u001b[39m0.179    \u001b[39m | \u001b[39m6.46     \u001b[39m | \u001b[39m159.5    \u001b[39m | \u001b[39m9.296    \u001b[39m | \u001b[39m3.991    \u001b[39m | \u001b[39m0.5636   \u001b[39m |\n",
      "=============================================================================================================\n",
      "Best Parameters: {'colsample_bytree': 0.7043167722693142, 'learning_rate': 0.04798936712593531, 'max_depth': 9.422087748409892, 'n_estimators': 164.0361611699876, 'reg_alpha': 5.851731127352833, 'reg_lambda': 0.8917491195675415, 'subsample': 0.8710496159306349}\n",
      "Best Accuracy: 0.7881713923061824\n"
     ]
    }
   ],
   "source": [
    "# Define Objective Function for Bayesian Optimization\n",
    "def xgb_evaluate(learning_rate, max_depth, n_estimators, subsample, colsample_bytree, reg_lambda, reg_alpha):\n",
    "    # Instantiate the XGBoost Model\n",
    "    model = XGBClassifier(\n",
    "        learning_rate=learning_rate,\n",
    "        max_depth=int(max_depth),  # Convert float to int\n",
    "        n_estimators=int(n_estimators),  # Convert float to int\n",
    "        subsample=subsample,\n",
    "        colsample_bytree=colsample_bytree,\n",
    "        reg_lambda=reg_lambda,\n",
    "        reg_alpha=reg_alpha,\n",
    "        #use_label_encoder=False,\n",
    "        eval_metric=\"logloss\"\n",
    "    )\n",
    "    \n",
    "    # Perform Cross-Validation\n",
    "    #return accuracy_score(y_test, y_pred)\n",
    "    scores = cross_val_score(model, X_train, y_train, cv=3, scoring=\"accuracy\")\n",
    "    return scores.mean()\n",
    "\n",
    "# Define the Hyperparameter Bounds\n",
    "param_bounds = {\n",
    "    \"learning_rate\": (0.01, 0.3),\n",
    "    \"max_depth\": (3, 10),\n",
    "    \"n_estimators\": (50, 300),\n",
    "    \"subsample\": (0.5, 1.0),\n",
    "    \"colsample_bytree\": (0.5, 1.0),\n",
    "    \"reg_lambda\": (1e-3, 10.0),\n",
    "    \"reg_alpha\": (1e-3, 10.0)\n",
    "}\n",
    "\n",
    "# Create Bayesian Optimization Object\n",
    "optimizer = BayesianOptimization(\n",
    "    f=xgb_evaluate,       # Objective function\n",
    "    pbounds=param_bounds, # Parameter bounds\n",
    "    random_state=42,      # Random seed\n",
    "    verbose=2             # Output progress\n",
    ")\n",
    "\n",
    "# Run Optimization\n",
    "optimizer.maximize(init_points=10, n_iter=40)\n",
    "\n",
    "# Best Parameters\n",
    "print(\"Best Parameters:\", optimizer.max[\"params\"])\n",
    "print(\"Best Accuracy:\", optimizer.max[\"target\"])\n"
   ]
  },
  {
   "cell_type": "code",
   "execution_count": 547,
   "id": "d1d036fd-c123-453d-beaa-58e7eaaabc32",
   "metadata": {},
   "outputs": [
    {
     "data": {
      "text/html": [
       "<style>#sk-container-id-19 {color: black;background-color: white;}#sk-container-id-19 pre{padding: 0;}#sk-container-id-19 div.sk-toggleable {background-color: white;}#sk-container-id-19 label.sk-toggleable__label {cursor: pointer;display: block;width: 100%;margin-bottom: 0;padding: 0.3em;box-sizing: border-box;text-align: center;}#sk-container-id-19 label.sk-toggleable__label-arrow:before {content: \"▸\";float: left;margin-right: 0.25em;color: #696969;}#sk-container-id-19 label.sk-toggleable__label-arrow:hover:before {color: black;}#sk-container-id-19 div.sk-estimator:hover label.sk-toggleable__label-arrow:before {color: black;}#sk-container-id-19 div.sk-toggleable__content {max-height: 0;max-width: 0;overflow: hidden;text-align: left;background-color: #f0f8ff;}#sk-container-id-19 div.sk-toggleable__content pre {margin: 0.2em;color: black;border-radius: 0.25em;background-color: #f0f8ff;}#sk-container-id-19 input.sk-toggleable__control:checked~div.sk-toggleable__content {max-height: 200px;max-width: 100%;overflow: auto;}#sk-container-id-19 input.sk-toggleable__control:checked~label.sk-toggleable__label-arrow:before {content: \"▾\";}#sk-container-id-19 div.sk-estimator input.sk-toggleable__control:checked~label.sk-toggleable__label {background-color: #d4ebff;}#sk-container-id-19 div.sk-label input.sk-toggleable__control:checked~label.sk-toggleable__label {background-color: #d4ebff;}#sk-container-id-19 input.sk-hidden--visually {border: 0;clip: rect(1px 1px 1px 1px);clip: rect(1px, 1px, 1px, 1px);height: 1px;margin: -1px;overflow: hidden;padding: 0;position: absolute;width: 1px;}#sk-container-id-19 div.sk-estimator {font-family: monospace;background-color: #f0f8ff;border: 1px dotted black;border-radius: 0.25em;box-sizing: border-box;margin-bottom: 0.5em;}#sk-container-id-19 div.sk-estimator:hover {background-color: #d4ebff;}#sk-container-id-19 div.sk-parallel-item::after {content: \"\";width: 100%;border-bottom: 1px solid gray;flex-grow: 1;}#sk-container-id-19 div.sk-label:hover label.sk-toggleable__label {background-color: #d4ebff;}#sk-container-id-19 div.sk-serial::before {content: \"\";position: absolute;border-left: 1px solid gray;box-sizing: border-box;top: 0;bottom: 0;left: 50%;z-index: 0;}#sk-container-id-19 div.sk-serial {display: flex;flex-direction: column;align-items: center;background-color: white;padding-right: 0.2em;padding-left: 0.2em;position: relative;}#sk-container-id-19 div.sk-item {position: relative;z-index: 1;}#sk-container-id-19 div.sk-parallel {display: flex;align-items: stretch;justify-content: center;background-color: white;position: relative;}#sk-container-id-19 div.sk-item::before, #sk-container-id-19 div.sk-parallel-item::before {content: \"\";position: absolute;border-left: 1px solid gray;box-sizing: border-box;top: 0;bottom: 0;left: 50%;z-index: -1;}#sk-container-id-19 div.sk-parallel-item {display: flex;flex-direction: column;z-index: 1;position: relative;background-color: white;}#sk-container-id-19 div.sk-parallel-item:first-child::after {align-self: flex-end;width: 50%;}#sk-container-id-19 div.sk-parallel-item:last-child::after {align-self: flex-start;width: 50%;}#sk-container-id-19 div.sk-parallel-item:only-child::after {width: 0;}#sk-container-id-19 div.sk-dashed-wrapped {border: 1px dashed gray;margin: 0 0.4em 0.5em 0.4em;box-sizing: border-box;padding-bottom: 0.4em;background-color: white;}#sk-container-id-19 div.sk-label label {font-family: monospace;font-weight: bold;display: inline-block;line-height: 1.2em;}#sk-container-id-19 div.sk-label-container {text-align: center;}#sk-container-id-19 div.sk-container {/* jupyter's `normalize.less` sets `[hidden] { display: none; }` but bootstrap.min.css set `[hidden] { display: none !important; }` so we also need the `!important` here to be able to override the default hidden behavior on the sphinx rendered scikit-learn.org. See: https://github.com/scikit-learn/scikit-learn/issues/21755 */display: inline-block !important;position: relative;}#sk-container-id-19 div.sk-text-repr-fallback {display: none;}</style><div id=\"sk-container-id-19\" class=\"sk-top-container\"><div class=\"sk-text-repr-fallback\"><pre>XGBClassifier(base_score=None, booster=None, callbacks=None,\n",
       "              colsample_bylevel=None, colsample_bynode=None,\n",
       "              colsample_bytree=0.7043167722693142, device=None,\n",
       "              early_stopping_rounds=None, enable_categorical=False,\n",
       "              eval_metric=None, feature_types=None, gamma=None,\n",
       "              grow_policy=None, importance_type=None,\n",
       "              interaction_constraints=None, learning_rate=0.04798936712593531,\n",
       "              max_bin=None, max_cat_threshold=None, max_cat_to_onehot=None,\n",
       "              max_delta_step=None, max_depth=9, max_leaves=None,\n",
       "              min_child_weight=None, missing=nan, monotone_constraints=None,\n",
       "              multi_strategy=None, n_estimators=164, n_jobs=None,\n",
       "              num_parallel_tree=None, random_state=None, ...)</pre><b>In a Jupyter environment, please rerun this cell to show the HTML representation or trust the notebook. <br />On GitHub, the HTML representation is unable to render, please try loading this page with nbviewer.org.</b></div><div class=\"sk-container\" hidden><div class=\"sk-item\"><div class=\"sk-estimator sk-toggleable\"><input class=\"sk-toggleable__control sk-hidden--visually\" id=\"sk-estimator-id-19\" type=\"checkbox\" checked><label for=\"sk-estimator-id-19\" class=\"sk-toggleable__label sk-toggleable__label-arrow\">XGBClassifier</label><div class=\"sk-toggleable__content\"><pre>XGBClassifier(base_score=None, booster=None, callbacks=None,\n",
       "              colsample_bylevel=None, colsample_bynode=None,\n",
       "              colsample_bytree=0.7043167722693142, device=None,\n",
       "              early_stopping_rounds=None, enable_categorical=False,\n",
       "              eval_metric=None, feature_types=None, gamma=None,\n",
       "              grow_policy=None, importance_type=None,\n",
       "              interaction_constraints=None, learning_rate=0.04798936712593531,\n",
       "              max_bin=None, max_cat_threshold=None, max_cat_to_onehot=None,\n",
       "              max_delta_step=None, max_depth=9, max_leaves=None,\n",
       "              min_child_weight=None, missing=nan, monotone_constraints=None,\n",
       "              multi_strategy=None, n_estimators=164, n_jobs=None,\n",
       "              num_parallel_tree=None, random_state=None, ...)</pre></div></div></div></div></div>"
      ],
      "text/plain": [
       "XGBClassifier(base_score=None, booster=None, callbacks=None,\n",
       "              colsample_bylevel=None, colsample_bynode=None,\n",
       "              colsample_bytree=0.7043167722693142, device=None,\n",
       "              early_stopping_rounds=None, enable_categorical=False,\n",
       "              eval_metric=None, feature_types=None, gamma=None,\n",
       "              grow_policy=None, importance_type=None,\n",
       "              interaction_constraints=None, learning_rate=0.04798936712593531,\n",
       "              max_bin=None, max_cat_threshold=None, max_cat_to_onehot=None,\n",
       "              max_delta_step=None, max_depth=9, max_leaves=None,\n",
       "              min_child_weight=None, missing=nan, monotone_constraints=None,\n",
       "              multi_strategy=None, n_estimators=164, n_jobs=None,\n",
       "              num_parallel_tree=None, random_state=None, ...)"
      ]
     },
     "execution_count": 547,
     "metadata": {},
     "output_type": "execute_result"
    }
   ],
   "source": [
    "\n",
    "\n",
    "bayes_opt_params= {'objective':'binary:logistic',\n",
    "                  'colsample_bytree': 0.7043167722693142, \n",
    "                  'learning_rate': 0.04798936712593531, \n",
    "                  'max_depth': 9, \n",
    "                  'n_estimators': 164, \n",
    "                  'reg_alpha': 5.851731127352833, \n",
    "                  'reg_lambda': 0.8917491195675415, \n",
    "                  'subsample': 0.8710496159306349\n",
    "                 }\n",
    "\n",
    "model = XGBClassifier(**bayes_opt_params)\n",
    "model.fit(X_train_Scaled, y_train)"
   ]
  },
  {
   "cell_type": "code",
   "execution_count": 549,
   "id": "670798f7-b68b-4196-9d3a-8c82f77c95c3",
   "metadata": {},
   "outputs": [],
   "source": [
    "y_pred = model.predict(X_test_Scaled)"
   ]
  },
  {
   "cell_type": "code",
   "execution_count": 551,
   "id": "a9f5d1d1-c68d-414d-ace2-bf780b6e4b94",
   "metadata": {},
   "outputs": [
    {
     "name": "stdout",
     "output_type": "stream",
     "text": [
      "Accuracy = 0.75\n",
      "Recall = 0.86\n",
      "Precision = 0.76\n"
     ]
    },
    {
     "data": {
      "image/png": "[encoded data removed]",
      "text/plain": [
       "<Figure size 800x600 with 2 Axes>"
      ]
     },
     "metadata": {},
     "output_type": "display_data"
    }
   ],
   "source": [
    "from sklearn.metrics import accuracy_score, recall_score, confusion_matrix, precision_score\n",
    "\n",
    "print(f'Accuracy = {accuracy_score(y_test, y_pred):.2f}\\nRecall = {recall_score(y_test, y_pred):.2f}\\nPrecision = {precision_score(y_test, y_pred):.2f}')\n",
    "cm = confusion_matrix(y_test, y_pred)\n",
    "\n",
    "\n",
    "#cm = confusion_matrix(y_true, y_pred)\n",
    "classes = ['Not Enroll', 'Enroll']  # Class names\n",
    "\n",
    "plt.figure(figsize=(8, 6))\n",
    "sns.heatmap(cm, annot=True, fmt='d', cmap='Blues', xticklabels=classes, yticklabels=classes, annot_kws={\"size\": 14})\n",
    "plt.title('Confusion Matrix')\n",
    "plt.xlabel('Predicted Label')\n",
    "plt.ylabel('True Label')\n",
    "plt.show()"
   ]
  },
  {
   "cell_type": "code",
   "execution_count": 553,
   "id": "cbf0414c-99ce-4204-81d4-aedd73228bed",
   "metadata": {},
   "outputs": [
    {
     "name": "stdout",
     "output_type": "stream",
     "text": [
      "0.7146688326640407\n"
     ]
    }
   ],
   "source": [
    "import sklearn.metrics as metrics\n",
    "print(metrics.roc_auc_score(y_test, y_pred))"
   ]
  },
  {
   "cell_type": "code",
   "execution_count": 555,
   "id": "3ecf1617-d6d5-4bc8-a692-09798e4c1cd8",
   "metadata": {},
   "outputs": [
    {
     "data": {
      "image/png": "[encoded data removed]",
      "text/plain": [
       "<Figure size 640x480 with 1 Axes>"
      ]
     },
     "metadata": {},
     "output_type": "display_data"
    },
    {
     "data": {
      "text/plain": [
       "<Figure size 2000x2000 with 0 Axes>"
      ]
     },
     "metadata": {},
     "output_type": "display_data"
    }
   ],
   "source": [
    "\n",
    "xgb.plot_importance(model, max_num_features=10)\n",
    "plt.figure(figsize = (20, 20))\n",
    "plt.show()"
   ]
  },
  {
   "cell_type": "code",
   "execution_count": null,
   "id": "9597998e-0370-41b9-aed8-5204b5e83ad2",
   "metadata": {},
   "outputs": [],
   "source": []
  },
  {
   "cell_type": "code",
   "execution_count": 557,
   "id": "6cbdcf0d-174c-498e-b8f8-0263f44f0930",
   "metadata": {},
   "outputs": [],
   "source": [
    "y_pred_train = model.predict(X_train_Scaled)"
   ]
  },
  {
   "cell_type": "code",
   "execution_count": 559,
   "id": "5349d718-9d33-4cf1-bb2a-3cab93e4a4da",
   "metadata": {},
   "outputs": [
    {
     "name": "stdout",
     "output_type": "stream",
     "text": [
      "Accuracy = 0.82\n",
      "Recall = 0.87\n",
      "Precision = 0.85\n"
     ]
    }
   ],
   "source": [
    "print(f'Accuracy = {accuracy_score(y_train, y_pred_train):.2f}\\nRecall = {recall_score(y_train, y_pred_train):.2f}\\nPrecision = {precision_score(y_train, y_pred_train):.2f}')"
   ]
  },
  {
   "cell_type": "code",
   "execution_count": 561,
   "id": "b4a6fb69-9e9a-4427-89fd-6923e95c767c",
   "metadata": {},
   "outputs": [
    {
     "name": "stdout",
     "output_type": "stream",
     "text": [
      "0.8030277596778287\n"
     ]
    }
   ],
   "source": [
    "print (metrics.roc_auc_score(y_train,y_pred_train))"
   ]
  },
  {
   "cell_type": "code",
   "execution_count": null,
   "id": "cd82b4f8-d2a1-4bbe-9893-ece08a30df4d",
   "metadata": {},
   "outputs": [],
   "source": []
  }
 ],
 "metadata": {
  "kernelspec": {
   "display_name": "Python 3 (ipykernel)",
   "language": "python",
   "name": "python3"
  },
  "language_info": {
   "codemirror_mode": {
    "name": "ipython",
    "version": 3
   },
   "file_extension": ".py",
   "mimetype": "text/x-python",
   "name": "python",
   "nbconvert_exporter": "python",
   "pygments_lexer": "ipython3",
   "version": "3.10.14"
  }
 },
 "nbformat": 4,
 "nbformat_minor": 5
}

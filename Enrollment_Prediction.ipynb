{
 "cells": [
  {
   "cell_type": "markdown",
   "id": "cf43ef6a-42a8-4bcd-979d-aac310d9dc82",
   "metadata": {},
   "source": [
    "# Import libraries and dataset"
   ]
  },
  {
   "cell_type": "code",
   "execution_count": 2,
   "id": "44807f57-1569-4b35-a94a-e991b7c38c37",
   "metadata": {},
   "outputs": [],
   "source": [
    "import pandas as pd\n",
    "import numpy as np\n",
    "import matplotlib.pyplot as plt\n",
    "import seaborn as sns\n",
    "\n",
    "from sklearn.model_selection import train_test_split\n",
    "from sklearn.preprocessing import scale\n",
    "\n",
    "from xgboost import XGBClassifier\n",
    "from sklearn.metrics import accuracy_score, classification_report\n",
    "from sklearn.model_selection import cross_validate\n",
    "import xgboost as xgb\n",
    "\n",
    "from bayes_opt import BayesianOptimization\n",
    "from sklearn.model_selection import train_test_split, cross_val_score\n",
    "from sklearn.datasets import load_breast_cancer\n",
    "from xgboost import XGBClassifier\n",
    "import numpy as np"
   ]
  },
  {
   "cell_type": "code",
   "execution_count": 3,
   "id": "f5bd75f4-afc8-49ed-ab24-3992c1e9c7b4",
   "metadata": {},
   "outputs": [
    {
     "data": {
      "text/plain": [
       "5.0"
      ]
     },
     "execution_count": 3,
     "metadata": {},
     "output_type": "execute_result"
    }
   ],
   "source": [
    "np.linalg.norm(5)"
   ]
  },
  {
   "cell_type": "code",
   "execution_count": 4,
   "id": "cf8be0dd-1eb8-40ef-9b56-4d1a5f7814d1",
   "metadata": {},
   "outputs": [],
   "source": [
    "df = pd.read_csv('/Users/mananshah/Downloads/appdata10.csv')"
   ]
  },
  {
   "cell_type": "code",
   "execution_count": 5,
   "id": "1f7fb41b-9415-4f32-b576-a59a0d8db4e9",
   "metadata": {},
   "outputs": [
    {
     "data": {
      "text/html": [
       "<div>\n",
       "<style scoped>\n",
       "    .dataframe tbody tr th:only-of-type {\n",
       "        vertical-align: middle;\n",
       "    }\n",
       "\n",
       "    .dataframe tbody tr th {\n",
       "        vertical-align: top;\n",
       "    }\n",
       "\n",
       "    .dataframe thead th {\n",
       "        text-align: right;\n",
       "    }\n",
       "</style>\n",
       "<table border=\"1\" class=\"dataframe\">\n",
       "  <thead>\n",
       "    <tr style=\"text-align: right;\">\n",
       "      <th></th>\n",
       "      <th>user</th>\n",
       "      <th>first_open</th>\n",
       "      <th>dayofweek</th>\n",
       "      <th>hour</th>\n",
       "      <th>age</th>\n",
       "      <th>screen_list</th>\n",
       "      <th>numscreens</th>\n",
       "      <th>minigame</th>\n",
       "      <th>used_premium_feature</th>\n",
       "      <th>enrolled</th>\n",
       "      <th>enrolled_date</th>\n",
       "      <th>liked</th>\n",
       "    </tr>\n",
       "  </thead>\n",
       "  <tbody>\n",
       "    <tr>\n",
       "      <th>0</th>\n",
       "      <td>235136</td>\n",
       "      <td>2012-12-27 02:14:51.273</td>\n",
       "      <td>3</td>\n",
       "      <td>02:00:00</td>\n",
       "      <td>23</td>\n",
       "      <td>idscreen,joinscreen,Cycle,product_review,ScanP...</td>\n",
       "      <td>15</td>\n",
       "      <td>0</td>\n",
       "      <td>0</td>\n",
       "      <td>0</td>\n",
       "      <td>NaN</td>\n",
       "      <td>0</td>\n",
       "    </tr>\n",
       "    <tr>\n",
       "      <th>1</th>\n",
       "      <td>333588</td>\n",
       "      <td>2012-12-02 01:16:00.905</td>\n",
       "      <td>6</td>\n",
       "      <td>01:00:00</td>\n",
       "      <td>24</td>\n",
       "      <td>joinscreen,product_review,product_review2,Scan...</td>\n",
       "      <td>13</td>\n",
       "      <td>0</td>\n",
       "      <td>0</td>\n",
       "      <td>0</td>\n",
       "      <td>NaN</td>\n",
       "      <td>0</td>\n",
       "    </tr>\n",
       "    <tr>\n",
       "      <th>2</th>\n",
       "      <td>254414</td>\n",
       "      <td>2013-03-19 19:19:09.157</td>\n",
       "      <td>1</td>\n",
       "      <td>19:00:00</td>\n",
       "      <td>23</td>\n",
       "      <td>Splash,Cycle,Loan</td>\n",
       "      <td>3</td>\n",
       "      <td>0</td>\n",
       "      <td>1</td>\n",
       "      <td>0</td>\n",
       "      <td>NaN</td>\n",
       "      <td>1</td>\n",
       "    </tr>\n",
       "    <tr>\n",
       "      <th>3</th>\n",
       "      <td>234192</td>\n",
       "      <td>2013-07-05 16:08:46.354</td>\n",
       "      <td>4</td>\n",
       "      <td>16:00:00</td>\n",
       "      <td>28</td>\n",
       "      <td>product_review,Home,product_review,Loan3,Finan...</td>\n",
       "      <td>40</td>\n",
       "      <td>0</td>\n",
       "      <td>0</td>\n",
       "      <td>1</td>\n",
       "      <td>2013-07-05 16:11:49.513</td>\n",
       "      <td>0</td>\n",
       "    </tr>\n",
       "    <tr>\n",
       "      <th>4</th>\n",
       "      <td>51549</td>\n",
       "      <td>2013-02-26 18:50:48.661</td>\n",
       "      <td>1</td>\n",
       "      <td>18:00:00</td>\n",
       "      <td>31</td>\n",
       "      <td>idscreen,joinscreen,Cycle,Credit3Container,Sca...</td>\n",
       "      <td>32</td>\n",
       "      <td>0</td>\n",
       "      <td>0</td>\n",
       "      <td>1</td>\n",
       "      <td>2013-02-26 18:56:37.841</td>\n",
       "      <td>1</td>\n",
       "    </tr>\n",
       "  </tbody>\n",
       "</table>\n",
       "</div>"
      ],
      "text/plain": [
       "     user               first_open  dayofweek       hour  age  \\\n",
       "0  235136  2012-12-27 02:14:51.273          3   02:00:00   23   \n",
       "1  333588  2012-12-02 01:16:00.905          6   01:00:00   24   \n",
       "2  254414  2013-03-19 19:19:09.157          1   19:00:00   23   \n",
       "3  234192  2013-07-05 16:08:46.354          4   16:00:00   28   \n",
       "4   51549  2013-02-26 18:50:48.661          1   18:00:00   31   \n",
       "\n",
       "                                         screen_list  numscreens  minigame  \\\n",
       "0  idscreen,joinscreen,Cycle,product_review,ScanP...          15         0   \n",
       "1  joinscreen,product_review,product_review2,Scan...          13         0   \n",
       "2                                  Splash,Cycle,Loan           3         0   \n",
       "3  product_review,Home,product_review,Loan3,Finan...          40         0   \n",
       "4  idscreen,joinscreen,Cycle,Credit3Container,Sca...          32         0   \n",
       "\n",
       "   used_premium_feature  enrolled            enrolled_date  liked  \n",
       "0                     0         0                      NaN      0  \n",
       "1                     0         0                      NaN      0  \n",
       "2                     1         0                      NaN      1  \n",
       "3                     0         1  2013-07-05 16:11:49.513      0  \n",
       "4                     0         1  2013-02-26 18:56:37.841      1  "
      ]
     },
     "execution_count": 5,
     "metadata": {},
     "output_type": "execute_result"
    }
   ],
   "source": [
    "df.head()"
   ]
  },
  {
   "cell_type": "code",
   "execution_count": 6,
   "id": "535594ac-0d39-4943-b5e0-817fdf94704b",
   "metadata": {},
   "outputs": [
    {
     "data": {
      "text/plain": [
       "user                     int64\n",
       "first_open              object\n",
       "dayofweek                int64\n",
       "hour                    object\n",
       "age                      int64\n",
       "screen_list             object\n",
       "numscreens               int64\n",
       "minigame                 int64\n",
       "used_premium_feature     int64\n",
       "enrolled                 int64\n",
       "enrolled_date           object\n",
       "liked                    int64\n",
       "dtype: object"
      ]
     },
     "execution_count": 6,
     "metadata": {},
     "output_type": "execute_result"
    }
   ],
   "source": [
    "df.dtypes"
   ]
  },
  {
   "cell_type": "markdown",
   "id": "23175a61-509f-4406-a785-e7c018286bdd",
   "metadata": {},
   "source": [
    "# Preprocessing the dataset"
   ]
  },
  {
   "cell_type": "code",
   "execution_count": 8,
   "id": "3fd64b2f-c216-4e4b-b69d-a6108e469377",
   "metadata": {},
   "outputs": [],
   "source": [
    "df['first_open'] = pd.to_datetime(df['first_open'])\n",
    "df['enrolled_date'] = pd.to_datetime(df['enrolled_date'])"
   ]
  },
  {
   "cell_type": "code",
   "execution_count": 9,
   "id": "ca742a74-d78a-4374-8134-bab3b8ae0f04",
   "metadata": {},
   "outputs": [],
   "source": [
    "df['days_to_enroll'] = df['enrolled_date'] - df['first_open']"
   ]
  },
  {
   "cell_type": "code",
   "execution_count": 10,
   "id": "cc66dff2-7f16-4853-89fc-2677dd04ea8a",
   "metadata": {},
   "outputs": [
    {
     "data": {
      "text/html": [
       "<div>\n",
       "<style scoped>\n",
       "    .dataframe tbody tr th:only-of-type {\n",
       "        vertical-align: middle;\n",
       "    }\n",
       "\n",
       "    .dataframe tbody tr th {\n",
       "        vertical-align: top;\n",
       "    }\n",
       "\n",
       "    .dataframe thead th {\n",
       "        text-align: right;\n",
       "    }\n",
       "</style>\n",
       "<table border=\"1\" class=\"dataframe\">\n",
       "  <thead>\n",
       "    <tr style=\"text-align: right;\">\n",
       "      <th></th>\n",
       "      <th>user</th>\n",
       "      <th>first_open</th>\n",
       "      <th>dayofweek</th>\n",
       "      <th>hour</th>\n",
       "      <th>age</th>\n",
       "      <th>screen_list</th>\n",
       "      <th>numscreens</th>\n",
       "      <th>minigame</th>\n",
       "      <th>used_premium_feature</th>\n",
       "      <th>enrolled</th>\n",
       "      <th>enrolled_date</th>\n",
       "      <th>liked</th>\n",
       "      <th>days_to_enroll</th>\n",
       "    </tr>\n",
       "  </thead>\n",
       "  <tbody>\n",
       "    <tr>\n",
       "      <th>0</th>\n",
       "      <td>235136</td>\n",
       "      <td>2012-12-27 02:14:51.273</td>\n",
       "      <td>3</td>\n",
       "      <td>02:00:00</td>\n",
       "      <td>23</td>\n",
       "      <td>idscreen,joinscreen,Cycle,product_review,ScanP...</td>\n",
       "      <td>15</td>\n",
       "      <td>0</td>\n",
       "      <td>0</td>\n",
       "      <td>0</td>\n",
       "      <td>NaT</td>\n",
       "      <td>0</td>\n",
       "      <td>NaT</td>\n",
       "    </tr>\n",
       "    <tr>\n",
       "      <th>1</th>\n",
       "      <td>333588</td>\n",
       "      <td>2012-12-02 01:16:00.905</td>\n",
       "      <td>6</td>\n",
       "      <td>01:00:00</td>\n",
       "      <td>24</td>\n",
       "      <td>joinscreen,product_review,product_review2,Scan...</td>\n",
       "      <td>13</td>\n",
       "      <td>0</td>\n",
       "      <td>0</td>\n",
       "      <td>0</td>\n",
       "      <td>NaT</td>\n",
       "      <td>0</td>\n",
       "      <td>NaT</td>\n",
       "    </tr>\n",
       "    <tr>\n",
       "      <th>2</th>\n",
       "      <td>254414</td>\n",
       "      <td>2013-03-19 19:19:09.157</td>\n",
       "      <td>1</td>\n",
       "      <td>19:00:00</td>\n",
       "      <td>23</td>\n",
       "      <td>Splash,Cycle,Loan</td>\n",
       "      <td>3</td>\n",
       "      <td>0</td>\n",
       "      <td>1</td>\n",
       "      <td>0</td>\n",
       "      <td>NaT</td>\n",
       "      <td>1</td>\n",
       "      <td>NaT</td>\n",
       "    </tr>\n",
       "    <tr>\n",
       "      <th>3</th>\n",
       "      <td>234192</td>\n",
       "      <td>2013-07-05 16:08:46.354</td>\n",
       "      <td>4</td>\n",
       "      <td>16:00:00</td>\n",
       "      <td>28</td>\n",
       "      <td>product_review,Home,product_review,Loan3,Finan...</td>\n",
       "      <td>40</td>\n",
       "      <td>0</td>\n",
       "      <td>0</td>\n",
       "      <td>1</td>\n",
       "      <td>2013-07-05 16:11:49.513</td>\n",
       "      <td>0</td>\n",
       "      <td>0 days 00:03:03.159000</td>\n",
       "    </tr>\n",
       "    <tr>\n",
       "      <th>4</th>\n",
       "      <td>51549</td>\n",
       "      <td>2013-02-26 18:50:48.661</td>\n",
       "      <td>1</td>\n",
       "      <td>18:00:00</td>\n",
       "      <td>31</td>\n",
       "      <td>idscreen,joinscreen,Cycle,Credit3Container,Sca...</td>\n",
       "      <td>32</td>\n",
       "      <td>0</td>\n",
       "      <td>0</td>\n",
       "      <td>1</td>\n",
       "      <td>2013-02-26 18:56:37.841</td>\n",
       "      <td>1</td>\n",
       "      <td>0 days 00:05:49.180000</td>\n",
       "    </tr>\n",
       "  </tbody>\n",
       "</table>\n",
       "</div>"
      ],
      "text/plain": [
       "     user              first_open  dayofweek       hour  age  \\\n",
       "0  235136 2012-12-27 02:14:51.273          3   02:00:00   23   \n",
       "1  333588 2012-12-02 01:16:00.905          6   01:00:00   24   \n",
       "2  254414 2013-03-19 19:19:09.157          1   19:00:00   23   \n",
       "3  234192 2013-07-05 16:08:46.354          4   16:00:00   28   \n",
       "4   51549 2013-02-26 18:50:48.661          1   18:00:00   31   \n",
       "\n",
       "                                         screen_list  numscreens  minigame  \\\n",
       "0  idscreen,joinscreen,Cycle,product_review,ScanP...          15         0   \n",
       "1  joinscreen,product_review,product_review2,Scan...          13         0   \n",
       "2                                  Splash,Cycle,Loan           3         0   \n",
       "3  product_review,Home,product_review,Loan3,Finan...          40         0   \n",
       "4  idscreen,joinscreen,Cycle,Credit3Container,Sca...          32         0   \n",
       "\n",
       "   used_premium_feature  enrolled           enrolled_date  liked  \\\n",
       "0                     0         0                     NaT      0   \n",
       "1                     0         0                     NaT      0   \n",
       "2                     1         0                     NaT      1   \n",
       "3                     0         1 2013-07-05 16:11:49.513      0   \n",
       "4                     0         1 2013-02-26 18:56:37.841      1   \n",
       "\n",
       "          days_to_enroll  \n",
       "0                    NaT  \n",
       "1                    NaT  \n",
       "2                    NaT  \n",
       "3 0 days 00:03:03.159000  \n",
       "4 0 days 00:05:49.180000  "
      ]
     },
     "execution_count": 10,
     "metadata": {},
     "output_type": "execute_result"
    }
   ],
   "source": [
    "df.head()"
   ]
  },
  {
   "cell_type": "code",
   "execution_count": 11,
   "id": "8d043240-97ec-42f4-b45c-74cf75de969a",
   "metadata": {},
   "outputs": [
    {
     "data": {
      "text/plain": [
       "user                              int64\n",
       "first_open               datetime64[ns]\n",
       "dayofweek                         int64\n",
       "hour                             object\n",
       "age                               int64\n",
       "screen_list                      object\n",
       "numscreens                        int64\n",
       "minigame                          int64\n",
       "used_premium_feature              int64\n",
       "enrolled                          int64\n",
       "enrolled_date            datetime64[ns]\n",
       "liked                             int64\n",
       "days_to_enroll          timedelta64[ns]\n",
       "dtype: object"
      ]
     },
     "execution_count": 11,
     "metadata": {},
     "output_type": "execute_result"
    }
   ],
   "source": [
    "df.dtypes"
   ]
  },
  {
   "cell_type": "code",
   "execution_count": 12,
   "id": "de3a60fe-ebde-4493-8170-5db7c646238d",
   "metadata": {},
   "outputs": [],
   "source": [
    "df['days_to_enroll'] = df['days_to_enroll'].dt.days"
   ]
  },
  {
   "cell_type": "code",
   "execution_count": 13,
   "id": "2794cf6a-61ed-4e9b-a204-0871852676f2",
   "metadata": {},
   "outputs": [
    {
     "data": {
      "text/plain": [
       "user                             int64\n",
       "first_open              datetime64[ns]\n",
       "dayofweek                        int64\n",
       "hour                            object\n",
       "age                              int64\n",
       "screen_list                     object\n",
       "numscreens                       int64\n",
       "minigame                         int64\n",
       "used_premium_feature             int64\n",
       "enrolled                         int64\n",
       "enrolled_date           datetime64[ns]\n",
       "liked                            int64\n",
       "days_to_enroll                 float64\n",
       "dtype: object"
      ]
     },
     "execution_count": 13,
     "metadata": {},
     "output_type": "execute_result"
    }
   ],
   "source": [
    "df.dtypes"
   ]
  },
  {
   "cell_type": "code",
   "execution_count": 14,
   "id": "bfaa8a47-e35b-466e-991f-53aecc5ae1ff",
   "metadata": {},
   "outputs": [
    {
     "name": "stdout",
     "output_type": "stream",
     "text": [
      "Minimum days to enroll are:  0.0\n",
      "Maximum days to enroll are:  226.0\n"
     ]
    }
   ],
   "source": [
    "print('Minimum days to enroll are: ', str(df['days_to_enroll'].min()))\n",
    "print('Maximum days to enroll are: ', str(df['days_to_enroll'].max()))"
   ]
  },
  {
   "cell_type": "code",
   "execution_count": 15,
   "id": "ec828e94-626b-43e6-bc78-c23f7d8a9a03",
   "metadata": {},
   "outputs": [
    {
     "data": {
      "text/plain": [
       "<Axes: >"
      ]
     },
     "execution_count": 15,
     "metadata": {},
     "output_type": "execute_result"
    },
    {
     "data": {
      "image/png": "[encoded data removed]",
      "text/plain": [
       "<Figure size 640x480 with 1 Axes>"
      ]
     },
     "metadata": {},
     "output_type": "display_data"
    }
   ],
   "source": [
    "df['days_to_enroll'].hist(bins = 40)"
   ]
  },
  {
   "cell_type": "code",
   "execution_count": 16,
   "id": "6f4a8d3f-a99c-44a5-b481-d974f4fa0222",
   "metadata": {},
   "outputs": [],
   "source": [
    "df['upd_enroll'] = 0"
   ]
  },
  {
   "cell_type": "code",
   "execution_count": 17,
   "id": "cb6c7e48-1e04-4cad-8261-951a5677f629",
   "metadata": {},
   "outputs": [],
   "source": [
    "#df.loc[(df['days_to_enroll']<61) & (df['enrolled'] == 1), 'upd_enroll'] = 1\n",
    "df.upd_enroll = df.enrolled"
   ]
  },
  {
   "cell_type": "code",
   "execution_count": 18,
   "id": "931fa6f7-1d3b-4c41-8bc7-41efee7f1510",
   "metadata": {},
   "outputs": [
    {
     "data": {
      "text/plain": [
       "upd_enroll\n",
       "1    31074\n",
       "0    18926\n",
       "Name: count, dtype: int64"
      ]
     },
     "execution_count": 18,
     "metadata": {},
     "output_type": "execute_result"
    }
   ],
   "source": [
    "# Check count of enrollment and non-enrollment in the dataset\n",
    "df['upd_enroll'].value_counts()"
   ]
  },
  {
   "cell_type": "code",
   "execution_count": 19,
   "id": "23dccf65-9dd4-440c-b187-35a31177acee",
   "metadata": {},
   "outputs": [
    {
     "data": {
      "text/html": [
       "<div>\n",
       "<style scoped>\n",
       "    .dataframe tbody tr th:only-of-type {\n",
       "        vertical-align: middle;\n",
       "    }\n",
       "\n",
       "    .dataframe tbody tr th {\n",
       "        vertical-align: top;\n",
       "    }\n",
       "\n",
       "    .dataframe thead th {\n",
       "        text-align: right;\n",
       "    }\n",
       "</style>\n",
       "<table border=\"1\" class=\"dataframe\">\n",
       "  <thead>\n",
       "    <tr style=\"text-align: right;\">\n",
       "      <th></th>\n",
       "      <th>upd_enroll</th>\n",
       "    </tr>\n",
       "    <tr>\n",
       "      <th>dayofweek</th>\n",
       "      <th></th>\n",
       "    </tr>\n",
       "  </thead>\n",
       "  <tbody>\n",
       "    <tr>\n",
       "      <th>0</th>\n",
       "      <td>4606</td>\n",
       "    </tr>\n",
       "    <tr>\n",
       "      <th>1</th>\n",
       "      <td>4315</td>\n",
       "    </tr>\n",
       "    <tr>\n",
       "      <th>2</th>\n",
       "      <td>3969</td>\n",
       "    </tr>\n",
       "    <tr>\n",
       "      <th>3</th>\n",
       "      <td>4258</td>\n",
       "    </tr>\n",
       "    <tr>\n",
       "      <th>4</th>\n",
       "      <td>4595</td>\n",
       "    </tr>\n",
       "    <tr>\n",
       "      <th>5</th>\n",
       "      <td>4685</td>\n",
       "    </tr>\n",
       "    <tr>\n",
       "      <th>6</th>\n",
       "      <td>4646</td>\n",
       "    </tr>\n",
       "  </tbody>\n",
       "</table>\n",
       "</div>"
      ],
      "text/plain": [
       "           upd_enroll\n",
       "dayofweek            \n",
       "0                4606\n",
       "1                4315\n",
       "2                3969\n",
       "3                4258\n",
       "4                4595\n",
       "5                4685\n",
       "6                4646"
      ]
     },
     "execution_count": 19,
     "metadata": {},
     "output_type": "execute_result"
    }
   ],
   "source": [
    "# Weekday or weekend does not impact\n",
    "df.loc[:,['dayofweek', 'upd_enroll']].groupby(['dayofweek']).sum()"
   ]
  },
  {
   "cell_type": "code",
   "execution_count": 20,
   "id": "5bcf32e5-9737-4cdb-881d-8daea0d0e284",
   "metadata": {},
   "outputs": [
    {
     "data": {
      "text/plain": [
       "Index(['user', 'first_open', 'dayofweek', 'hour', 'age', 'screen_list',\n",
       "       'numscreens', 'minigame', 'used_premium_feature', 'enrolled',\n",
       "       'enrolled_date', 'liked', 'days_to_enroll', 'upd_enroll'],\n",
       "      dtype='object')"
      ]
     },
     "execution_count": 20,
     "metadata": {},
     "output_type": "execute_result"
    }
   ],
   "source": [
    "df.columns"
   ]
  },
  {
   "cell_type": "code",
   "execution_count": 21,
   "id": "7c331aa6-5722-4c3f-809b-a567da69dcae",
   "metadata": {},
   "outputs": [],
   "source": [
    "df.drop(columns = {'first_open', 'enrolled', 'enrolled_date', 'days_to_enroll'}, inplace = True)"
   ]
  },
  {
   "cell_type": "code",
   "execution_count": 22,
   "id": "4d9d7e6a-55a2-4fd8-8f20-66567c882543",
   "metadata": {},
   "outputs": [
    {
     "data": {
      "text/html": [
       "<div>\n",
       "<style scoped>\n",
       "    .dataframe tbody tr th:only-of-type {\n",
       "        vertical-align: middle;\n",
       "    }\n",
       "\n",
       "    .dataframe tbody tr th {\n",
       "        vertical-align: top;\n",
       "    }\n",
       "\n",
       "    .dataframe thead th {\n",
       "        text-align: right;\n",
       "    }\n",
       "</style>\n",
       "<table border=\"1\" class=\"dataframe\">\n",
       "  <thead>\n",
       "    <tr style=\"text-align: right;\">\n",
       "      <th></th>\n",
       "      <th>user</th>\n",
       "      <th>dayofweek</th>\n",
       "      <th>hour</th>\n",
       "      <th>age</th>\n",
       "      <th>screen_list</th>\n",
       "      <th>numscreens</th>\n",
       "      <th>minigame</th>\n",
       "      <th>used_premium_feature</th>\n",
       "      <th>liked</th>\n",
       "      <th>upd_enroll</th>\n",
       "    </tr>\n",
       "  </thead>\n",
       "  <tbody>\n",
       "    <tr>\n",
       "      <th>0</th>\n",
       "      <td>235136</td>\n",
       "      <td>3</td>\n",
       "      <td>02:00:00</td>\n",
       "      <td>23</td>\n",
       "      <td>idscreen,joinscreen,Cycle,product_review,ScanP...</td>\n",
       "      <td>15</td>\n",
       "      <td>0</td>\n",
       "      <td>0</td>\n",
       "      <td>0</td>\n",
       "      <td>0</td>\n",
       "    </tr>\n",
       "    <tr>\n",
       "      <th>1</th>\n",
       "      <td>333588</td>\n",
       "      <td>6</td>\n",
       "      <td>01:00:00</td>\n",
       "      <td>24</td>\n",
       "      <td>joinscreen,product_review,product_review2,Scan...</td>\n",
       "      <td>13</td>\n",
       "      <td>0</td>\n",
       "      <td>0</td>\n",
       "      <td>0</td>\n",
       "      <td>0</td>\n",
       "    </tr>\n",
       "    <tr>\n",
       "      <th>2</th>\n",
       "      <td>254414</td>\n",
       "      <td>1</td>\n",
       "      <td>19:00:00</td>\n",
       "      <td>23</td>\n",
       "      <td>Splash,Cycle,Loan</td>\n",
       "      <td>3</td>\n",
       "      <td>0</td>\n",
       "      <td>1</td>\n",
       "      <td>1</td>\n",
       "      <td>0</td>\n",
       "    </tr>\n",
       "    <tr>\n",
       "      <th>3</th>\n",
       "      <td>234192</td>\n",
       "      <td>4</td>\n",
       "      <td>16:00:00</td>\n",
       "      <td>28</td>\n",
       "      <td>product_review,Home,product_review,Loan3,Finan...</td>\n",
       "      <td>40</td>\n",
       "      <td>0</td>\n",
       "      <td>0</td>\n",
       "      <td>0</td>\n",
       "      <td>1</td>\n",
       "    </tr>\n",
       "    <tr>\n",
       "      <th>4</th>\n",
       "      <td>51549</td>\n",
       "      <td>1</td>\n",
       "      <td>18:00:00</td>\n",
       "      <td>31</td>\n",
       "      <td>idscreen,joinscreen,Cycle,Credit3Container,Sca...</td>\n",
       "      <td>32</td>\n",
       "      <td>0</td>\n",
       "      <td>0</td>\n",
       "      <td>1</td>\n",
       "      <td>1</td>\n",
       "    </tr>\n",
       "  </tbody>\n",
       "</table>\n",
       "</div>"
      ],
      "text/plain": [
       "     user  dayofweek       hour  age  \\\n",
       "0  235136          3   02:00:00   23   \n",
       "1  333588          6   01:00:00   24   \n",
       "2  254414          1   19:00:00   23   \n",
       "3  234192          4   16:00:00   28   \n",
       "4   51549          1   18:00:00   31   \n",
       "\n",
       "                                         screen_list  numscreens  minigame  \\\n",
       "0  idscreen,joinscreen,Cycle,product_review,ScanP...          15         0   \n",
       "1  joinscreen,product_review,product_review2,Scan...          13         0   \n",
       "2                                  Splash,Cycle,Loan           3         0   \n",
       "3  product_review,Home,product_review,Loan3,Finan...          40         0   \n",
       "4  idscreen,joinscreen,Cycle,Credit3Container,Sca...          32         0   \n",
       "\n",
       "   used_premium_feature  liked  upd_enroll  \n",
       "0                     0      0           0  \n",
       "1                     0      0           0  \n",
       "2                     1      1           0  \n",
       "3                     0      0           1  \n",
       "4                     0      1           1  "
      ]
     },
     "execution_count": 22,
     "metadata": {},
     "output_type": "execute_result"
    }
   ],
   "source": [
    "df.head()"
   ]
  },
  {
   "cell_type": "code",
   "execution_count": 23,
   "id": "1606c177-535f-4362-bfa9-1bf534288ef5",
   "metadata": {},
   "outputs": [],
   "source": [
    "#df['screen_list'] = df.screen_list.astype(str) + ','"
   ]
  },
  {
   "cell_type": "code",
   "execution_count": 24,
   "id": "60eb74de-73a1-4cc3-8513-9cafcdcd3e1a",
   "metadata": {},
   "outputs": [],
   "source": [
    "df_top_screen = pd.read_csv('/Users/mananshah/Downloads/top_screens.csv')\n",
    "top_screen = np.array(df_top_screen.loc[:, 'top_screens'])"
   ]
  },
  {
   "cell_type": "code",
   "execution_count": 25,
   "id": "eb5b08c4-7ccb-482d-9d51-2de266bf8672",
   "metadata": {},
   "outputs": [],
   "source": [
    "for i in top_screen:\n",
    "    df[i] = df.screen_list.str.contains(i).astype(int)\n",
    "    df['screen_list'] = df.screen_list.str.replace(i + ',', '')"
   ]
  },
  {
   "cell_type": "code",
   "execution_count": 26,
   "id": "f804fbd0-4c4c-48d8-a741-f7758eea690f",
   "metadata": {},
   "outputs": [
    {
     "data": {
      "text/html": [
       "<div>\n",
       "<style scoped>\n",
       "    .dataframe tbody tr th:only-of-type {\n",
       "        vertical-align: middle;\n",
       "    }\n",
       "\n",
       "    .dataframe tbody tr th {\n",
       "        vertical-align: top;\n",
       "    }\n",
       "\n",
       "    .dataframe thead th {\n",
       "        text-align: right;\n",
       "    }\n",
       "</style>\n",
       "<table border=\"1\" class=\"dataframe\">\n",
       "  <thead>\n",
       "    <tr style=\"text-align: right;\">\n",
       "      <th></th>\n",
       "      <th>user</th>\n",
       "      <th>dayofweek</th>\n",
       "      <th>hour</th>\n",
       "      <th>age</th>\n",
       "      <th>screen_list</th>\n",
       "      <th>numscreens</th>\n",
       "      <th>minigame</th>\n",
       "      <th>used_premium_feature</th>\n",
       "      <th>liked</th>\n",
       "      <th>upd_enroll</th>\n",
       "      <th>...</th>\n",
       "      <th>ProfileJobTitle</th>\n",
       "      <th>Login</th>\n",
       "      <th>ProfileEmploymentLength</th>\n",
       "      <th>WebView</th>\n",
       "      <th>SecurityModal</th>\n",
       "      <th>Loan4</th>\n",
       "      <th>ResendToken</th>\n",
       "      <th>TransactionList</th>\n",
       "      <th>NetworkFailure</th>\n",
       "      <th>ListPicker</th>\n",
       "    </tr>\n",
       "  </thead>\n",
       "  <tbody>\n",
       "    <tr>\n",
       "      <th>0</th>\n",
       "      <td>235136</td>\n",
       "      <td>3</td>\n",
       "      <td>02:00:00</td>\n",
       "      <td>23</td>\n",
       "      <td>joinscreen,product_review,ScanPreview,VerifyTo...</td>\n",
       "      <td>15</td>\n",
       "      <td>0</td>\n",
       "      <td>0</td>\n",
       "      <td>0</td>\n",
       "      <td>0</td>\n",
       "      <td>...</td>\n",
       "      <td>0</td>\n",
       "      <td>1</td>\n",
       "      <td>0</td>\n",
       "      <td>0</td>\n",
       "      <td>0</td>\n",
       "      <td>0</td>\n",
       "      <td>0</td>\n",
       "      <td>0</td>\n",
       "      <td>0</td>\n",
       "      <td>0</td>\n",
       "    </tr>\n",
       "    <tr>\n",
       "      <th>1</th>\n",
       "      <td>333588</td>\n",
       "      <td>6</td>\n",
       "      <td>01:00:00</td>\n",
       "      <td>24</td>\n",
       "      <td>joinscreen,product_review,product_review2,Scan...</td>\n",
       "      <td>13</td>\n",
       "      <td>0</td>\n",
       "      <td>0</td>\n",
       "      <td>0</td>\n",
       "      <td>0</td>\n",
       "      <td>...</td>\n",
       "      <td>0</td>\n",
       "      <td>0</td>\n",
       "      <td>0</td>\n",
       "      <td>0</td>\n",
       "      <td>0</td>\n",
       "      <td>0</td>\n",
       "      <td>0</td>\n",
       "      <td>0</td>\n",
       "      <td>0</td>\n",
       "      <td>0</td>\n",
       "    </tr>\n",
       "    <tr>\n",
       "      <th>2</th>\n",
       "      <td>254414</td>\n",
       "      <td>1</td>\n",
       "      <td>19:00:00</td>\n",
       "      <td>23</td>\n",
       "      <td>Loan</td>\n",
       "      <td>3</td>\n",
       "      <td>0</td>\n",
       "      <td>1</td>\n",
       "      <td>1</td>\n",
       "      <td>0</td>\n",
       "      <td>...</td>\n",
       "      <td>0</td>\n",
       "      <td>0</td>\n",
       "      <td>0</td>\n",
       "      <td>0</td>\n",
       "      <td>0</td>\n",
       "      <td>0</td>\n",
       "      <td>0</td>\n",
       "      <td>0</td>\n",
       "      <td>0</td>\n",
       "      <td>0</td>\n",
       "    </tr>\n",
       "    <tr>\n",
       "      <th>3</th>\n",
       "      <td>234192</td>\n",
       "      <td>4</td>\n",
       "      <td>16:00:00</td>\n",
       "      <td>28</td>\n",
       "      <td>product_review,Home,product_review,ReferralCon...</td>\n",
       "      <td>40</td>\n",
       "      <td>0</td>\n",
       "      <td>0</td>\n",
       "      <td>0</td>\n",
       "      <td>1</td>\n",
       "      <td>...</td>\n",
       "      <td>0</td>\n",
       "      <td>0</td>\n",
       "      <td>0</td>\n",
       "      <td>0</td>\n",
       "      <td>0</td>\n",
       "      <td>0</td>\n",
       "      <td>0</td>\n",
       "      <td>0</td>\n",
       "      <td>0</td>\n",
       "      <td>0</td>\n",
       "    </tr>\n",
       "    <tr>\n",
       "      <th>4</th>\n",
       "      <td>51549</td>\n",
       "      <td>1</td>\n",
       "      <td>18:00:00</td>\n",
       "      <td>31</td>\n",
       "      <td>joinscreen,ScanPreview,VerifySSN,Home,SelectIn...</td>\n",
       "      <td>32</td>\n",
       "      <td>0</td>\n",
       "      <td>0</td>\n",
       "      <td>1</td>\n",
       "      <td>1</td>\n",
       "      <td>...</td>\n",
       "      <td>0</td>\n",
       "      <td>0</td>\n",
       "      <td>0</td>\n",
       "      <td>0</td>\n",
       "      <td>0</td>\n",
       "      <td>0</td>\n",
       "      <td>0</td>\n",
       "      <td>0</td>\n",
       "      <td>0</td>\n",
       "      <td>0</td>\n",
       "    </tr>\n",
       "  </tbody>\n",
       "</table>\n",
       "<p>5 rows × 68 columns</p>\n",
       "</div>"
      ],
      "text/plain": [
       "     user  dayofweek       hour  age  \\\n",
       "0  235136          3   02:00:00   23   \n",
       "1  333588          6   01:00:00   24   \n",
       "2  254414          1   19:00:00   23   \n",
       "3  234192          4   16:00:00   28   \n",
       "4   51549          1   18:00:00   31   \n",
       "\n",
       "                                         screen_list  numscreens  minigame  \\\n",
       "0  joinscreen,product_review,ScanPreview,VerifyTo...          15         0   \n",
       "1  joinscreen,product_review,product_review2,Scan...          13         0   \n",
       "2                                               Loan           3         0   \n",
       "3  product_review,Home,product_review,ReferralCon...          40         0   \n",
       "4  joinscreen,ScanPreview,VerifySSN,Home,SelectIn...          32         0   \n",
       "\n",
       "   used_premium_feature  liked  upd_enroll  ...  ProfileJobTitle  Login  \\\n",
       "0                     0      0           0  ...                0      1   \n",
       "1                     0      0           0  ...                0      0   \n",
       "2                     1      1           0  ...                0      0   \n",
       "3                     0      0           1  ...                0      0   \n",
       "4                     0      1           1  ...                0      0   \n",
       "\n",
       "   ProfileEmploymentLength  WebView  SecurityModal  Loan4  ResendToken  \\\n",
       "0                        0        0              0      0            0   \n",
       "1                        0        0              0      0            0   \n",
       "2                        0        0              0      0            0   \n",
       "3                        0        0              0      0            0   \n",
       "4                        0        0              0      0            0   \n",
       "\n",
       "   TransactionList  NetworkFailure  ListPicker  \n",
       "0                0               0           0  \n",
       "1                0               0           0  \n",
       "2                0               0           0  \n",
       "3                0               0           0  \n",
       "4                0               0           0  \n",
       "\n",
       "[5 rows x 68 columns]"
      ]
     },
     "execution_count": 26,
     "metadata": {},
     "output_type": "execute_result"
    }
   ],
   "source": [
    "df.head()"
   ]
  },
  {
   "cell_type": "code",
   "execution_count": 27,
   "id": "1f8c1f98-83d8-4f66-b41d-3698a9422126",
   "metadata": {},
   "outputs": [
    {
     "data": {
      "text/plain": [
       "Index(['user', 'dayofweek', 'hour', 'age', 'screen_list', 'numscreens',\n",
       "       'minigame', 'used_premium_feature', 'liked', 'upd_enroll', 'Loan2',\n",
       "       'location', 'Institutions', 'Credit3Container', 'VerifyPhone',\n",
       "       'BankVerification', 'VerifyDateOfBirth', 'ProfilePage', 'VerifyCountry',\n",
       "       'Cycle', 'idscreen', 'Credit3Dashboard', 'Loan3', 'CC1Category',\n",
       "       'Splash', 'Loan', 'CC1', 'RewardsContainer', 'Credit3', 'Credit1',\n",
       "       'EditProfile', 'Credit2', 'Finances', 'CC3', 'Saving9', 'Saving1',\n",
       "       'Alerts', 'Saving8', 'Saving10', 'Leaderboard', 'Saving4',\n",
       "       'VerifyMobile', 'VerifyHousing', 'RewardDetail', 'VerifyHousingAmount',\n",
       "       'ProfileMaritalStatus', 'ProfileChildren ', 'ProfileEducation',\n",
       "       'Saving7', 'ProfileEducationMajor', 'Rewards', 'AccountView',\n",
       "       'VerifyAnnualIncome', 'VerifyIncomeType', 'Saving2', 'Saving6',\n",
       "       'Saving2Amount', 'Saving5', 'ProfileJobTitle', 'Login',\n",
       "       'ProfileEmploymentLength', 'WebView', 'SecurityModal', 'Loan4',\n",
       "       'ResendToken', 'TransactionList', 'NetworkFailure', 'ListPicker'],\n",
       "      dtype='object')"
      ]
     },
     "execution_count": 27,
     "metadata": {},
     "output_type": "execute_result"
    }
   ],
   "source": [
    "df.columns"
   ]
  },
  {
   "cell_type": "code",
   "execution_count": 28,
   "id": "05e55c4e-c3aa-4b79-9e72-c4fac5768dfc",
   "metadata": {},
   "outputs": [],
   "source": [
    "df['non_top_screen_count'] = df.screen_list.str.count(',')"
   ]
  },
  {
   "cell_type": "code",
   "execution_count": 29,
   "id": "403ef6a2-8bb3-4435-82f8-d59e0b366c2c",
   "metadata": {},
   "outputs": [
    {
     "data": {
      "text/html": [
       "<div>\n",
       "<style scoped>\n",
       "    .dataframe tbody tr th:only-of-type {\n",
       "        vertical-align: middle;\n",
       "    }\n",
       "\n",
       "    .dataframe tbody tr th {\n",
       "        vertical-align: top;\n",
       "    }\n",
       "\n",
       "    .dataframe thead th {\n",
       "        text-align: right;\n",
       "    }\n",
       "</style>\n",
       "<table border=\"1\" class=\"dataframe\">\n",
       "  <thead>\n",
       "    <tr style=\"text-align: right;\">\n",
       "      <th></th>\n",
       "      <th>user</th>\n",
       "      <th>dayofweek</th>\n",
       "      <th>hour</th>\n",
       "      <th>age</th>\n",
       "      <th>screen_list</th>\n",
       "      <th>numscreens</th>\n",
       "      <th>minigame</th>\n",
       "      <th>used_premium_feature</th>\n",
       "      <th>liked</th>\n",
       "      <th>upd_enroll</th>\n",
       "      <th>...</th>\n",
       "      <th>Login</th>\n",
       "      <th>ProfileEmploymentLength</th>\n",
       "      <th>WebView</th>\n",
       "      <th>SecurityModal</th>\n",
       "      <th>Loan4</th>\n",
       "      <th>ResendToken</th>\n",
       "      <th>TransactionList</th>\n",
       "      <th>NetworkFailure</th>\n",
       "      <th>ListPicker</th>\n",
       "      <th>non_top_screen_count</th>\n",
       "    </tr>\n",
       "  </thead>\n",
       "  <tbody>\n",
       "    <tr>\n",
       "      <th>0</th>\n",
       "      <td>235136</td>\n",
       "      <td>3</td>\n",
       "      <td>02:00:00</td>\n",
       "      <td>23</td>\n",
       "      <td>joinscreen,product_review,ScanPreview,VerifyTo...</td>\n",
       "      <td>15</td>\n",
       "      <td>0</td>\n",
       "      <td>0</td>\n",
       "      <td>0</td>\n",
       "      <td>0</td>\n",
       "      <td>...</td>\n",
       "      <td>1</td>\n",
       "      <td>0</td>\n",
       "      <td>0</td>\n",
       "      <td>0</td>\n",
       "      <td>0</td>\n",
       "      <td>0</td>\n",
       "      <td>0</td>\n",
       "      <td>0</td>\n",
       "      <td>0</td>\n",
       "      <td>7</td>\n",
       "    </tr>\n",
       "    <tr>\n",
       "      <th>1</th>\n",
       "      <td>333588</td>\n",
       "      <td>6</td>\n",
       "      <td>01:00:00</td>\n",
       "      <td>24</td>\n",
       "      <td>joinscreen,product_review,product_review2,Scan...</td>\n",
       "      <td>13</td>\n",
       "      <td>0</td>\n",
       "      <td>0</td>\n",
       "      <td>0</td>\n",
       "      <td>0</td>\n",
       "      <td>...</td>\n",
       "      <td>0</td>\n",
       "      <td>0</td>\n",
       "      <td>0</td>\n",
       "      <td>0</td>\n",
       "      <td>0</td>\n",
       "      <td>0</td>\n",
       "      <td>0</td>\n",
       "      <td>0</td>\n",
       "      <td>0</td>\n",
       "      <td>5</td>\n",
       "    </tr>\n",
       "    <tr>\n",
       "      <th>2</th>\n",
       "      <td>254414</td>\n",
       "      <td>1</td>\n",
       "      <td>19:00:00</td>\n",
       "      <td>23</td>\n",
       "      <td>Loan</td>\n",
       "      <td>3</td>\n",
       "      <td>0</td>\n",
       "      <td>1</td>\n",
       "      <td>1</td>\n",
       "      <td>0</td>\n",
       "      <td>...</td>\n",
       "      <td>0</td>\n",
       "      <td>0</td>\n",
       "      <td>0</td>\n",
       "      <td>0</td>\n",
       "      <td>0</td>\n",
       "      <td>0</td>\n",
       "      <td>0</td>\n",
       "      <td>0</td>\n",
       "      <td>0</td>\n",
       "      <td>0</td>\n",
       "    </tr>\n",
       "    <tr>\n",
       "      <th>3</th>\n",
       "      <td>234192</td>\n",
       "      <td>4</td>\n",
       "      <td>16:00:00</td>\n",
       "      <td>28</td>\n",
       "      <td>product_review,Home,product_review,ReferralCon...</td>\n",
       "      <td>40</td>\n",
       "      <td>0</td>\n",
       "      <td>0</td>\n",
       "      <td>0</td>\n",
       "      <td>1</td>\n",
       "      <td>...</td>\n",
       "      <td>0</td>\n",
       "      <td>0</td>\n",
       "      <td>0</td>\n",
       "      <td>0</td>\n",
       "      <td>0</td>\n",
       "      <td>0</td>\n",
       "      <td>0</td>\n",
       "      <td>0</td>\n",
       "      <td>0</td>\n",
       "      <td>6</td>\n",
       "    </tr>\n",
       "    <tr>\n",
       "      <th>4</th>\n",
       "      <td>51549</td>\n",
       "      <td>1</td>\n",
       "      <td>18:00:00</td>\n",
       "      <td>31</td>\n",
       "      <td>joinscreen,ScanPreview,VerifySSN,Home,SelectIn...</td>\n",
       "      <td>32</td>\n",
       "      <td>0</td>\n",
       "      <td>0</td>\n",
       "      <td>1</td>\n",
       "      <td>1</td>\n",
       "      <td>...</td>\n",
       "      <td>0</td>\n",
       "      <td>0</td>\n",
       "      <td>0</td>\n",
       "      <td>0</td>\n",
       "      <td>0</td>\n",
       "      <td>0</td>\n",
       "      <td>0</td>\n",
       "      <td>0</td>\n",
       "      <td>0</td>\n",
       "      <td>9</td>\n",
       "    </tr>\n",
       "  </tbody>\n",
       "</table>\n",
       "<p>5 rows × 69 columns</p>\n",
       "</div>"
      ],
      "text/plain": [
       "     user  dayofweek       hour  age  \\\n",
       "0  235136          3   02:00:00   23   \n",
       "1  333588          6   01:00:00   24   \n",
       "2  254414          1   19:00:00   23   \n",
       "3  234192          4   16:00:00   28   \n",
       "4   51549          1   18:00:00   31   \n",
       "\n",
       "                                         screen_list  numscreens  minigame  \\\n",
       "0  joinscreen,product_review,ScanPreview,VerifyTo...          15         0   \n",
       "1  joinscreen,product_review,product_review2,Scan...          13         0   \n",
       "2                                               Loan           3         0   \n",
       "3  product_review,Home,product_review,ReferralCon...          40         0   \n",
       "4  joinscreen,ScanPreview,VerifySSN,Home,SelectIn...          32         0   \n",
       "\n",
       "   used_premium_feature  liked  upd_enroll  ...  Login  \\\n",
       "0                     0      0           0  ...      1   \n",
       "1                     0      0           0  ...      0   \n",
       "2                     1      1           0  ...      0   \n",
       "3                     0      0           1  ...      0   \n",
       "4                     0      1           1  ...      0   \n",
       "\n",
       "   ProfileEmploymentLength  WebView  SecurityModal  Loan4  ResendToken  \\\n",
       "0                        0        0              0      0            0   \n",
       "1                        0        0              0      0            0   \n",
       "2                        0        0              0      0            0   \n",
       "3                        0        0              0      0            0   \n",
       "4                        0        0              0      0            0   \n",
       "\n",
       "   TransactionList  NetworkFailure  ListPicker  non_top_screen_count  \n",
       "0                0               0           0                     7  \n",
       "1                0               0           0                     5  \n",
       "2                0               0           0                     0  \n",
       "3                0               0           0                     6  \n",
       "4                0               0           0                     9  \n",
       "\n",
       "[5 rows x 69 columns]"
      ]
     },
     "execution_count": 29,
     "metadata": {},
     "output_type": "execute_result"
    }
   ],
   "source": [
    "df.head()"
   ]
  },
  {
   "cell_type": "code",
   "execution_count": 30,
   "id": "e3017bca-3006-44a4-86e8-9e73f163cae1",
   "metadata": {},
   "outputs": [],
   "source": [
    "df.drop(columns = {'screen_list', 'user'}, inplace = True)"
   ]
  },
  {
   "cell_type": "code",
   "execution_count": 31,
   "id": "f92f884e-12be-4d2c-89d1-6d5c1e023efa",
   "metadata": {},
   "outputs": [],
   "source": [
    "df['hour'] = [x[0:3] for x in df.hour]"
   ]
  },
  {
   "cell_type": "code",
   "execution_count": 32,
   "id": "e7b8552f-5f8e-4dfc-9ac6-78f70ce045fc",
   "metadata": {},
   "outputs": [
    {
     "data": {
      "text/html": [
       "<div>\n",
       "<style scoped>\n",
       "    .dataframe tbody tr th:only-of-type {\n",
       "        vertical-align: middle;\n",
       "    }\n",
       "\n",
       "    .dataframe tbody tr th {\n",
       "        vertical-align: top;\n",
       "    }\n",
       "\n",
       "    .dataframe thead th {\n",
       "        text-align: right;\n",
       "    }\n",
       "</style>\n",
       "<table border=\"1\" class=\"dataframe\">\n",
       "  <thead>\n",
       "    <tr style=\"text-align: right;\">\n",
       "      <th></th>\n",
       "      <th>dayofweek</th>\n",
       "      <th>hour</th>\n",
       "      <th>age</th>\n",
       "      <th>numscreens</th>\n",
       "      <th>minigame</th>\n",
       "      <th>used_premium_feature</th>\n",
       "      <th>liked</th>\n",
       "      <th>upd_enroll</th>\n",
       "      <th>Loan2</th>\n",
       "      <th>location</th>\n",
       "      <th>...</th>\n",
       "      <th>Login</th>\n",
       "      <th>ProfileEmploymentLength</th>\n",
       "      <th>WebView</th>\n",
       "      <th>SecurityModal</th>\n",
       "      <th>Loan4</th>\n",
       "      <th>ResendToken</th>\n",
       "      <th>TransactionList</th>\n",
       "      <th>NetworkFailure</th>\n",
       "      <th>ListPicker</th>\n",
       "      <th>non_top_screen_count</th>\n",
       "    </tr>\n",
       "  </thead>\n",
       "  <tbody>\n",
       "    <tr>\n",
       "      <th>0</th>\n",
       "      <td>3</td>\n",
       "      <td>02</td>\n",
       "      <td>23</td>\n",
       "      <td>15</td>\n",
       "      <td>0</td>\n",
       "      <td>0</td>\n",
       "      <td>0</td>\n",
       "      <td>0</td>\n",
       "      <td>1</td>\n",
       "      <td>0</td>\n",
       "      <td>...</td>\n",
       "      <td>1</td>\n",
       "      <td>0</td>\n",
       "      <td>0</td>\n",
       "      <td>0</td>\n",
       "      <td>0</td>\n",
       "      <td>0</td>\n",
       "      <td>0</td>\n",
       "      <td>0</td>\n",
       "      <td>0</td>\n",
       "      <td>7</td>\n",
       "    </tr>\n",
       "    <tr>\n",
       "      <th>1</th>\n",
       "      <td>6</td>\n",
       "      <td>01</td>\n",
       "      <td>24</td>\n",
       "      <td>13</td>\n",
       "      <td>0</td>\n",
       "      <td>0</td>\n",
       "      <td>0</td>\n",
       "      <td>0</td>\n",
       "      <td>1</td>\n",
       "      <td>1</td>\n",
       "      <td>...</td>\n",
       "      <td>0</td>\n",
       "      <td>0</td>\n",
       "      <td>0</td>\n",
       "      <td>0</td>\n",
       "      <td>0</td>\n",
       "      <td>0</td>\n",
       "      <td>0</td>\n",
       "      <td>0</td>\n",
       "      <td>0</td>\n",
       "      <td>5</td>\n",
       "    </tr>\n",
       "    <tr>\n",
       "      <th>2</th>\n",
       "      <td>1</td>\n",
       "      <td>19</td>\n",
       "      <td>23</td>\n",
       "      <td>3</td>\n",
       "      <td>0</td>\n",
       "      <td>1</td>\n",
       "      <td>1</td>\n",
       "      <td>0</td>\n",
       "      <td>0</td>\n",
       "      <td>0</td>\n",
       "      <td>...</td>\n",
       "      <td>0</td>\n",
       "      <td>0</td>\n",
       "      <td>0</td>\n",
       "      <td>0</td>\n",
       "      <td>0</td>\n",
       "      <td>0</td>\n",
       "      <td>0</td>\n",
       "      <td>0</td>\n",
       "      <td>0</td>\n",
       "      <td>0</td>\n",
       "    </tr>\n",
       "    <tr>\n",
       "      <th>3</th>\n",
       "      <td>4</td>\n",
       "      <td>16</td>\n",
       "      <td>28</td>\n",
       "      <td>40</td>\n",
       "      <td>0</td>\n",
       "      <td>0</td>\n",
       "      <td>0</td>\n",
       "      <td>1</td>\n",
       "      <td>0</td>\n",
       "      <td>1</td>\n",
       "      <td>...</td>\n",
       "      <td>0</td>\n",
       "      <td>0</td>\n",
       "      <td>0</td>\n",
       "      <td>0</td>\n",
       "      <td>0</td>\n",
       "      <td>0</td>\n",
       "      <td>0</td>\n",
       "      <td>0</td>\n",
       "      <td>0</td>\n",
       "      <td>6</td>\n",
       "    </tr>\n",
       "    <tr>\n",
       "      <th>4</th>\n",
       "      <td>1</td>\n",
       "      <td>18</td>\n",
       "      <td>31</td>\n",
       "      <td>32</td>\n",
       "      <td>0</td>\n",
       "      <td>0</td>\n",
       "      <td>1</td>\n",
       "      <td>1</td>\n",
       "      <td>1</td>\n",
       "      <td>0</td>\n",
       "      <td>...</td>\n",
       "      <td>0</td>\n",
       "      <td>0</td>\n",
       "      <td>0</td>\n",
       "      <td>0</td>\n",
       "      <td>0</td>\n",
       "      <td>0</td>\n",
       "      <td>0</td>\n",
       "      <td>0</td>\n",
       "      <td>0</td>\n",
       "      <td>9</td>\n",
       "    </tr>\n",
       "  </tbody>\n",
       "</table>\n",
       "<p>5 rows × 67 columns</p>\n",
       "</div>"
      ],
      "text/plain": [
       "   dayofweek hour  age  numscreens  minigame  used_premium_feature  liked  \\\n",
       "0          3   02   23          15         0                     0      0   \n",
       "1          6   01   24          13         0                     0      0   \n",
       "2          1   19   23           3         0                     1      1   \n",
       "3          4   16   28          40         0                     0      0   \n",
       "4          1   18   31          32         0                     0      1   \n",
       "\n",
       "   upd_enroll  Loan2  location  ...  Login  ProfileEmploymentLength  WebView  \\\n",
       "0           0      1         0  ...      1                        0        0   \n",
       "1           0      1         1  ...      0                        0        0   \n",
       "2           0      0         0  ...      0                        0        0   \n",
       "3           1      0         1  ...      0                        0        0   \n",
       "4           1      1         0  ...      0                        0        0   \n",
       "\n",
       "   SecurityModal  Loan4  ResendToken  TransactionList  NetworkFailure  \\\n",
       "0              0      0            0                0               0   \n",
       "1              0      0            0                0               0   \n",
       "2              0      0            0                0               0   \n",
       "3              0      0            0                0               0   \n",
       "4              0      0            0                0               0   \n",
       "\n",
       "   ListPicker  non_top_screen_count  \n",
       "0           0                     7  \n",
       "1           0                     5  \n",
       "2           0                     0  \n",
       "3           0                     6  \n",
       "4           0                     9  \n",
       "\n",
       "[5 rows x 67 columns]"
      ]
     },
     "execution_count": 32,
     "metadata": {},
     "output_type": "execute_result"
    }
   ],
   "source": [
    "df.head()"
   ]
  },
  {
   "cell_type": "code",
   "execution_count": 33,
   "id": "2ff487ec-b44b-4086-b3d8-f170b2da0275",
   "metadata": {},
   "outputs": [],
   "source": [
    "df['hour'] = df['hour'].astype('int')"
   ]
  },
  {
   "cell_type": "code",
   "execution_count": 34,
   "id": "cb4d9256-7520-4b2f-ab4d-9e015d7f36d2",
   "metadata": {},
   "outputs": [
    {
     "name": "stdout",
     "output_type": "stream",
     "text": [
      "<class 'pandas.core.frame.DataFrame'>\n",
      "RangeIndex: 50000 entries, 0 to 49999\n",
      "Data columns (total 67 columns):\n",
      " #   Column                   Non-Null Count  Dtype\n",
      "---  ------                   --------------  -----\n",
      " 0   dayofweek                50000 non-null  int64\n",
      " 1   hour                     50000 non-null  int64\n",
      " 2   age                      50000 non-null  int64\n",
      " 3   numscreens               50000 non-null  int64\n",
      " 4   minigame                 50000 non-null  int64\n",
      " 5   used_premium_feature     50000 non-null  int64\n",
      " 6   liked                    50000 non-null  int64\n",
      " 7   upd_enroll               50000 non-null  int64\n",
      " 8   Loan2                    50000 non-null  int64\n",
      " 9   location                 50000 non-null  int64\n",
      " 10  Institutions             50000 non-null  int64\n",
      " 11  Credit3Container         50000 non-null  int64\n",
      " 12  VerifyPhone              50000 non-null  int64\n",
      " 13  BankVerification         50000 non-null  int64\n",
      " 14  VerifyDateOfBirth        50000 non-null  int64\n",
      " 15  ProfilePage              50000 non-null  int64\n",
      " 16  VerifyCountry            50000 non-null  int64\n",
      " 17  Cycle                    50000 non-null  int64\n",
      " 18  idscreen                 50000 non-null  int64\n",
      " 19  Credit3Dashboard         50000 non-null  int64\n",
      " 20  Loan3                    50000 non-null  int64\n",
      " 21  CC1Category              50000 non-null  int64\n",
      " 22  Splash                   50000 non-null  int64\n",
      " 23  Loan                     50000 non-null  int64\n",
      " 24  CC1                      50000 non-null  int64\n",
      " 25  RewardsContainer         50000 non-null  int64\n",
      " 26  Credit3                  50000 non-null  int64\n",
      " 27  Credit1                  50000 non-null  int64\n",
      " 28  EditProfile              50000 non-null  int64\n",
      " 29  Credit2                  50000 non-null  int64\n",
      " 30  Finances                 50000 non-null  int64\n",
      " 31  CC3                      50000 non-null  int64\n",
      " 32  Saving9                  50000 non-null  int64\n",
      " 33  Saving1                  50000 non-null  int64\n",
      " 34  Alerts                   50000 non-null  int64\n",
      " 35  Saving8                  50000 non-null  int64\n",
      " 36  Saving10                 50000 non-null  int64\n",
      " 37  Leaderboard              50000 non-null  int64\n",
      " 38  Saving4                  50000 non-null  int64\n",
      " 39  VerifyMobile             50000 non-null  int64\n",
      " 40  VerifyHousing            50000 non-null  int64\n",
      " 41  RewardDetail             50000 non-null  int64\n",
      " 42  VerifyHousingAmount      50000 non-null  int64\n",
      " 43  ProfileMaritalStatus     50000 non-null  int64\n",
      " 44  ProfileChildren          50000 non-null  int64\n",
      " 45  ProfileEducation         50000 non-null  int64\n",
      " 46  Saving7                  50000 non-null  int64\n",
      " 47  ProfileEducationMajor    50000 non-null  int64\n",
      " 48  Rewards                  50000 non-null  int64\n",
      " 49  AccountView              50000 non-null  int64\n",
      " 50  VerifyAnnualIncome       50000 non-null  int64\n",
      " 51  VerifyIncomeType         50000 non-null  int64\n",
      " 52  Saving2                  50000 non-null  int64\n",
      " 53  Saving6                  50000 non-null  int64\n",
      " 54  Saving2Amount            50000 non-null  int64\n",
      " 55  Saving5                  50000 non-null  int64\n",
      " 56  ProfileJobTitle          50000 non-null  int64\n",
      " 57  Login                    50000 non-null  int64\n",
      " 58  ProfileEmploymentLength  50000 non-null  int64\n",
      " 59  WebView                  50000 non-null  int64\n",
      " 60  SecurityModal            50000 non-null  int64\n",
      " 61  Loan4                    50000 non-null  int64\n",
      " 62  ResendToken              50000 non-null  int64\n",
      " 63  TransactionList          50000 non-null  int64\n",
      " 64  NetworkFailure           50000 non-null  int64\n",
      " 65  ListPicker               50000 non-null  int64\n",
      " 66  non_top_screen_count     50000 non-null  int64\n",
      "dtypes: int64(67)\n",
      "memory usage: 25.6 MB\n"
     ]
    }
   ],
   "source": [
    "df.info()"
   ]
  },
  {
   "cell_type": "code",
   "execution_count": 35,
   "id": "a86f16b1-0ac9-4d38-b9c4-8e303676c8e0",
   "metadata": {},
   "outputs": [],
   "source": [
    "savings_screens = [\"Saving1\", \"Saving2\", \"Saving2Amount\", \"Saving4\", \"Saving5\", \"Saving6\",\"Saving7\", \"Saving8\", \"Saving9\", \"Saving10\"];\n",
    "df['SavingCount']=df[savings_screens].sum(axis=1);\n",
    "df.drop(columns=savings_screens,axis=1,inplace=True);\n",
    "credit_screens = [\"Credit1\", \"Credit2\", \"Credit3\", \"Credit3Container\", \"Credit3Dashboard\"];\n",
    "df['CreditCount']=df[credit_screens].sum(axis=1);\n",
    "df.drop(columns=credit_screens,axis=1,inplace=True);\n",
    "cc_screens = [\"CC1\", \"CC1Category\", \"CC3\"];\n",
    "df['CCCount']=df[cc_screens].sum(axis=1);\n",
    "df.drop(columns=cc_screens,axis=1,inplace=True);\n",
    "loan_screens = [\"Loan\", \"Loan2\", \"Loan3\", \"Loan4\"];\n",
    "df['LoanCount']=df[loan_screens].sum(axis=1);\n",
    "df.drop(columns=loan_screens,axis=1,inplace=True);"
   ]
  },
  {
   "cell_type": "code",
   "execution_count": 36,
   "id": "11933e70-098b-46bd-bbb7-9101831c2fa1",
   "metadata": {},
   "outputs": [
    {
     "data": {
      "text/html": [
       "<div>\n",
       "<style scoped>\n",
       "    .dataframe tbody tr th:only-of-type {\n",
       "        vertical-align: middle;\n",
       "    }\n",
       "\n",
       "    .dataframe tbody tr th {\n",
       "        vertical-align: top;\n",
       "    }\n",
       "\n",
       "    .dataframe thead th {\n",
       "        text-align: right;\n",
       "    }\n",
       "</style>\n",
       "<table border=\"1\" class=\"dataframe\">\n",
       "  <thead>\n",
       "    <tr style=\"text-align: right;\">\n",
       "      <th></th>\n",
       "      <th>dayofweek</th>\n",
       "      <th>hour</th>\n",
       "      <th>age</th>\n",
       "      <th>numscreens</th>\n",
       "      <th>minigame</th>\n",
       "      <th>used_premium_feature</th>\n",
       "      <th>liked</th>\n",
       "      <th>upd_enroll</th>\n",
       "      <th>location</th>\n",
       "      <th>Institutions</th>\n",
       "      <th>...</th>\n",
       "      <th>SecurityModal</th>\n",
       "      <th>ResendToken</th>\n",
       "      <th>TransactionList</th>\n",
       "      <th>NetworkFailure</th>\n",
       "      <th>ListPicker</th>\n",
       "      <th>non_top_screen_count</th>\n",
       "      <th>SavingCount</th>\n",
       "      <th>CreditCount</th>\n",
       "      <th>CCCount</th>\n",
       "      <th>LoanCount</th>\n",
       "    </tr>\n",
       "  </thead>\n",
       "  <tbody>\n",
       "    <tr>\n",
       "      <th>0</th>\n",
       "      <td>3</td>\n",
       "      <td>2</td>\n",
       "      <td>23</td>\n",
       "      <td>15</td>\n",
       "      <td>0</td>\n",
       "      <td>0</td>\n",
       "      <td>0</td>\n",
       "      <td>0</td>\n",
       "      <td>0</td>\n",
       "      <td>0</td>\n",
       "      <td>...</td>\n",
       "      <td>0</td>\n",
       "      <td>0</td>\n",
       "      <td>0</td>\n",
       "      <td>0</td>\n",
       "      <td>0</td>\n",
       "      <td>7</td>\n",
       "      <td>0</td>\n",
       "      <td>0</td>\n",
       "      <td>0</td>\n",
       "      <td>1</td>\n",
       "    </tr>\n",
       "    <tr>\n",
       "      <th>1</th>\n",
       "      <td>6</td>\n",
       "      <td>1</td>\n",
       "      <td>24</td>\n",
       "      <td>13</td>\n",
       "      <td>0</td>\n",
       "      <td>0</td>\n",
       "      <td>0</td>\n",
       "      <td>0</td>\n",
       "      <td>1</td>\n",
       "      <td>1</td>\n",
       "      <td>...</td>\n",
       "      <td>0</td>\n",
       "      <td>0</td>\n",
       "      <td>0</td>\n",
       "      <td>0</td>\n",
       "      <td>0</td>\n",
       "      <td>5</td>\n",
       "      <td>0</td>\n",
       "      <td>0</td>\n",
       "      <td>0</td>\n",
       "      <td>2</td>\n",
       "    </tr>\n",
       "    <tr>\n",
       "      <th>2</th>\n",
       "      <td>1</td>\n",
       "      <td>19</td>\n",
       "      <td>23</td>\n",
       "      <td>3</td>\n",
       "      <td>0</td>\n",
       "      <td>1</td>\n",
       "      <td>1</td>\n",
       "      <td>0</td>\n",
       "      <td>0</td>\n",
       "      <td>0</td>\n",
       "      <td>...</td>\n",
       "      <td>0</td>\n",
       "      <td>0</td>\n",
       "      <td>0</td>\n",
       "      <td>0</td>\n",
       "      <td>0</td>\n",
       "      <td>0</td>\n",
       "      <td>0</td>\n",
       "      <td>0</td>\n",
       "      <td>0</td>\n",
       "      <td>1</td>\n",
       "    </tr>\n",
       "    <tr>\n",
       "      <th>3</th>\n",
       "      <td>4</td>\n",
       "      <td>16</td>\n",
       "      <td>28</td>\n",
       "      <td>40</td>\n",
       "      <td>0</td>\n",
       "      <td>0</td>\n",
       "      <td>0</td>\n",
       "      <td>1</td>\n",
       "      <td>1</td>\n",
       "      <td>0</td>\n",
       "      <td>...</td>\n",
       "      <td>0</td>\n",
       "      <td>0</td>\n",
       "      <td>0</td>\n",
       "      <td>0</td>\n",
       "      <td>0</td>\n",
       "      <td>6</td>\n",
       "      <td>0</td>\n",
       "      <td>3</td>\n",
       "      <td>0</td>\n",
       "      <td>1</td>\n",
       "    </tr>\n",
       "    <tr>\n",
       "      <th>4</th>\n",
       "      <td>1</td>\n",
       "      <td>18</td>\n",
       "      <td>31</td>\n",
       "      <td>32</td>\n",
       "      <td>0</td>\n",
       "      <td>0</td>\n",
       "      <td>1</td>\n",
       "      <td>1</td>\n",
       "      <td>0</td>\n",
       "      <td>1</td>\n",
       "      <td>...</td>\n",
       "      <td>0</td>\n",
       "      <td>0</td>\n",
       "      <td>0</td>\n",
       "      <td>0</td>\n",
       "      <td>0</td>\n",
       "      <td>9</td>\n",
       "      <td>0</td>\n",
       "      <td>2</td>\n",
       "      <td>0</td>\n",
       "      <td>1</td>\n",
       "    </tr>\n",
       "  </tbody>\n",
       "</table>\n",
       "<p>5 rows × 49 columns</p>\n",
       "</div>"
      ],
      "text/plain": [
       "   dayofweek  hour  age  numscreens  minigame  used_premium_feature  liked  \\\n",
       "0          3     2   23          15         0                     0      0   \n",
       "1          6     1   24          13         0                     0      0   \n",
       "2          1    19   23           3         0                     1      1   \n",
       "3          4    16   28          40         0                     0      0   \n",
       "4          1    18   31          32         0                     0      1   \n",
       "\n",
       "   upd_enroll  location  Institutions  ...  SecurityModal  ResendToken  \\\n",
       "0           0         0             0  ...              0            0   \n",
       "1           0         1             1  ...              0            0   \n",
       "2           0         0             0  ...              0            0   \n",
       "3           1         1             0  ...              0            0   \n",
       "4           1         0             1  ...              0            0   \n",
       "\n",
       "   TransactionList  NetworkFailure  ListPicker  non_top_screen_count  \\\n",
       "0                0               0           0                     7   \n",
       "1                0               0           0                     5   \n",
       "2                0               0           0                     0   \n",
       "3                0               0           0                     6   \n",
       "4                0               0           0                     9   \n",
       "\n",
       "   SavingCount  CreditCount  CCCount  LoanCount  \n",
       "0            0            0        0          1  \n",
       "1            0            0        0          2  \n",
       "2            0            0        0          1  \n",
       "3            0            3        0          1  \n",
       "4            0            2        0          1  \n",
       "\n",
       "[5 rows x 49 columns]"
      ]
     },
     "execution_count": 36,
     "metadata": {},
     "output_type": "execute_result"
    }
   ],
   "source": [
    "df.head()"
   ]
  },
  {
   "cell_type": "code",
   "execution_count": 37,
   "id": "647c6412-2233-41a9-8cbe-4cd745f38c18",
   "metadata": {},
   "outputs": [
    {
     "data": {
      "text/plain": [
       "Index(['dayofweek', 'hour', 'age', 'numscreens', 'minigame',\n",
       "       'used_premium_feature', 'liked', 'upd_enroll', 'location',\n",
       "       'Institutions', 'VerifyPhone', 'BankVerification', 'VerifyDateOfBirth',\n",
       "       'ProfilePage', 'VerifyCountry', 'Cycle', 'idscreen', 'Splash',\n",
       "       'RewardsContainer', 'EditProfile', 'Finances', 'Alerts', 'Leaderboard',\n",
       "       'VerifyMobile', 'VerifyHousing', 'RewardDetail', 'VerifyHousingAmount',\n",
       "       'ProfileMaritalStatus', 'ProfileChildren ', 'ProfileEducation',\n",
       "       'ProfileEducationMajor', 'Rewards', 'AccountView', 'VerifyAnnualIncome',\n",
       "       'VerifyIncomeType', 'ProfileJobTitle', 'Login',\n",
       "       'ProfileEmploymentLength', 'WebView', 'SecurityModal', 'ResendToken',\n",
       "       'TransactionList', 'NetworkFailure', 'ListPicker',\n",
       "       'non_top_screen_count', 'SavingCount', 'CreditCount', 'CCCount',\n",
       "       'LoanCount'],\n",
       "      dtype='object')"
      ]
     },
     "execution_count": 37,
     "metadata": {},
     "output_type": "execute_result"
    }
   ],
   "source": [
    "df.columns"
   ]
  },
  {
   "cell_type": "markdown",
   "id": "394ad3bc-6135-49df-a729-47a4100cdbb9",
   "metadata": {},
   "source": [
    "# EDA"
   ]
  },
  {
   "cell_type": "code",
   "execution_count": 39,
   "id": "8dfa1032-4152-40ec-b9e4-535726346baa",
   "metadata": {},
   "outputs": [
    {
     "name": "stderr",
     "output_type": "stream",
     "text": [
      "/var/folders/lc/nt_cj8vj15b_73cwvpjjb5jm0000gn/T/ipykernel_20580/2169011760.py:2: FutureWarning: \n",
      "\n",
      "The `ci` parameter is deprecated. Use `errorbar=None` for the same effect.\n",
      "\n",
      "  sns.barplot(data=df, x='upd_enroll', y='SavingCount', ci=None)\n"
     ]
    },
    {
     "data": {
      "image/png": "[encoded data removed]",
      "text/plain": [
       "<Figure size 800x600 with 1 Axes>"
      ]
     },
     "metadata": {},
     "output_type": "display_data"
    }
   ],
   "source": [
    "plt.figure(figsize=(8, 6))\n",
    "sns.barplot(data=df, x='upd_enroll', y='SavingCount', ci=None)\n",
    "plt.title('Bar Plot of SavingCount by upd_enroll')\n",
    "plt.show()"
   ]
  },
  {
   "cell_type": "code",
   "execution_count": 40,
   "id": "d8d01c52-391f-4a6e-9957-4404936468e3",
   "metadata": {},
   "outputs": [
    {
     "name": "stderr",
     "output_type": "stream",
     "text": [
      "/var/folders/lc/nt_cj8vj15b_73cwvpjjb5jm0000gn/T/ipykernel_20580/392818673.py:2: FutureWarning: \n",
      "\n",
      "The `ci` parameter is deprecated. Use `errorbar=None` for the same effect.\n",
      "\n",
      "  sns.barplot(data=df, x='upd_enroll', y='CreditCount', ci=None)\n"
     ]
    },
    {
     "data": {
      "image/png": "[encoded data removed]",
      "text/plain": [
       "<Figure size 800x600 with 1 Axes>"
      ]
     },
     "metadata": {},
     "output_type": "display_data"
    }
   ],
   "source": [
    "plt.figure(figsize=(8, 6))\n",
    "sns.barplot(data=df, x='upd_enroll', y='CreditCount', ci=None)\n",
    "plt.title('Bar Plot of CreditCount by upd_enroll')\n",
    "plt.show()"
   ]
  },
  {
   "cell_type": "code",
   "execution_count": 41,
   "id": "ba8738d9-e6e1-42ed-9692-1953361ee9b9",
   "metadata": {},
   "outputs": [
    {
     "data": {
      "image/png": "[encoded data removed]",
      "text/plain": [
       "<Figure size 800x600 with 1 Axes>"
      ]
     },
     "metadata": {},
     "output_type": "display_data"
    }
   ],
   "source": [
    "plt.figure(figsize=(8, 6))\n",
    "sns.boxplot(data=df, x='upd_enroll', y='non_top_screen_count')\n",
    "plt.title('Box Plot of non_top_screen_count by upd_enroll')\n",
    "plt.show()"
   ]
  },
  {
   "cell_type": "code",
   "execution_count": 42,
   "id": "a6c11e98-7aff-4fb5-ab6b-82b04b81cdb4",
   "metadata": {},
   "outputs": [
    {
     "data": {
      "image/png": "[encoded data removed]",
      "text/plain": [
       "<Figure size 800x600 with 1 Axes>"
      ]
     },
     "metadata": {},
     "output_type": "display_data"
    }
   ],
   "source": [
    "plt.figure(figsize=(8, 6))\n",
    "sns.boxplot(data=df, x='upd_enroll', y='numscreens')\n",
    "plt.title('Box Plot of numscreens by upd_enroll')\n",
    "plt.show()"
   ]
  },
  {
   "cell_type": "code",
   "execution_count": 43,
   "id": "3007ee86-9776-439d-ba9b-34100487af5f",
   "metadata": {},
   "outputs": [
    {
     "data": {
      "text/plain": [
       "<matplotlib.legend.Legend at 0x1531fef20>"
      ]
     },
     "execution_count": 43,
     "metadata": {},
     "output_type": "execute_result"
    },
    {
     "data": {
      "image/png": "[encoded data removed]",
      "text/plain": [
       "<Figure size 640x480 with 1 Axes>"
      ]
     },
     "metadata": {},
     "output_type": "display_data"
    }
   ],
   "source": [
    "plt.hist([df.loc[df['upd_enroll']==1,:]['hour'], df.loc[df['upd_enroll']==0,:]['hour']],bins = 24)\n",
    "plt.legend(['Enroll', 'No_Enroll'])"
   ]
  },
  {
   "cell_type": "code",
   "execution_count": 44,
   "id": "7c9f83af-2b9d-432c-86b9-1db997b03df1",
   "metadata": {},
   "outputs": [
    {
     "data": {
      "image/png": "[encoded data removed]",
      "text/plain": [
       "<Figure size 800x600 with 1 Axes>"
      ]
     },
     "metadata": {},
     "output_type": "display_data"
    }
   ],
   "source": [
    "plt.figure(figsize=(8, 6))\n",
    "sns.boxplot(data=df, x='upd_enroll', y='age')\n",
    "plt.title('Box Plot of age by upd_enroll')\n",
    "plt.show()"
   ]
  },
  {
   "cell_type": "code",
   "execution_count": 45,
   "id": "0b666db4-544a-4064-b371-3316811ee68c",
   "metadata": {},
   "outputs": [
    {
     "data": {
      "image/png": "[encoded data removed]",
      "text/plain": [
       "<Figure size 800x600 with 1 Axes>"
      ]
     },
     "metadata": {},
     "output_type": "display_data"
    }
   ],
   "source": [
    "plt.figure(figsize=(8, 6))\n",
    "sns.countplot(data=df, x='upd_enroll', hue='used_premium_feature')\n",
    "plt.title('Count Plot of upd_enroll by used_premium_feature')\n",
    "plt.show()"
   ]
  },
  {
   "cell_type": "markdown",
   "id": "a3de3362-2464-43d7-b23b-712958452053",
   "metadata": {},
   "source": [
    "# Create training and testing dataset"
   ]
  },
  {
   "cell_type": "code",
   "execution_count": 47,
   "id": "c182d461-2c57-4aa9-b77c-51c2b96af3c0",
   "metadata": {},
   "outputs": [],
   "source": [
    "# Creating input dataset\n",
    "X = df.drop(['upd_enroll'],axis = 1)"
   ]
  },
  {
   "cell_type": "code",
   "execution_count": 48,
   "id": "4bfd6aed-e775-4f29-8409-d6ece6a072f4",
   "metadata": {},
   "outputs": [],
   "source": [
    "# Creating output dataset\n",
    "y = df['upd_enroll']"
   ]
  },
  {
   "cell_type": "code",
   "execution_count": 49,
   "id": "b11466b3-b2b9-4fee-b92a-7954ec4e855e",
   "metadata": {},
   "outputs": [],
   "source": [
    "X_train, X_test, y_train, y_test = train_test_split(X, y, test_size=0.2, random_state=42)\n",
    "X_train_Scaled = pd.DataFrame(scale(X_train), columns = X_train.columns)\n",
    "X_test_Scaled = pd.DataFrame(scale(X_test), columns = X_test.columns)"
   ]
  },
  {
   "cell_type": "markdown",
   "id": "eb351ecd-5771-48ac-9bf5-b9fe2887b3d2",
   "metadata": {},
   "source": [
    "# XGBoost Model"
   ]
  },
  {
   "cell_type": "code",
   "execution_count": 51,
   "id": "350e1f00-45fe-4e2e-ae9a-5648da86d014",
   "metadata": {},
   "outputs": [
    {
     "data": {
      "text/html": [
       "<style>#sk-container-id-1 {color: black;background-color: white;}#sk-container-id-1 pre{padding: 0;}#sk-container-id-1 div.sk-toggleable {background-color: white;}#sk-container-id-1 label.sk-toggleable__label {cursor: pointer;display: block;width: 100%;margin-bottom: 0;padding: 0.3em;box-sizing: border-box;text-align: center;}#sk-container-id-1 label.sk-toggleable__label-arrow:before {content: \"▸\";float: left;margin-right: 0.25em;color: #696969;}#sk-container-id-1 label.sk-toggleable__label-arrow:hover:before {color: black;}#sk-container-id-1 div.sk-estimator:hover label.sk-toggleable__label-arrow:before {color: black;}#sk-container-id-1 div.sk-toggleable__content {max-height: 0;max-width: 0;overflow: hidden;text-align: left;background-color: #f0f8ff;}#sk-container-id-1 div.sk-toggleable__content pre {margin: 0.2em;color: black;border-radius: 0.25em;background-color: #f0f8ff;}#sk-container-id-1 input.sk-toggleable__control:checked~div.sk-toggleable__content {max-height: 200px;max-width: 100%;overflow: auto;}#sk-container-id-1 input.sk-toggleable__control:checked~label.sk-toggleable__label-arrow:before {content: \"▾\";}#sk-container-id-1 div.sk-estimator input.sk-toggleable__control:checked~label.sk-toggleable__label {background-color: #d4ebff;}#sk-container-id-1 div.sk-label input.sk-toggleable__control:checked~label.sk-toggleable__label {background-color: #d4ebff;}#sk-container-id-1 input.sk-hidden--visually {border: 0;clip: rect(1px 1px 1px 1px);clip: rect(1px, 1px, 1px, 1px);height: 1px;margin: -1px;overflow: hidden;padding: 0;position: absolute;width: 1px;}#sk-container-id-1 div.sk-estimator {font-family: monospace;background-color: #f0f8ff;border: 1px dotted black;border-radius: 0.25em;box-sizing: border-box;margin-bottom: 0.5em;}#sk-container-id-1 div.sk-estimator:hover {background-color: #d4ebff;}#sk-container-id-1 div.sk-parallel-item::after {content: \"\";width: 100%;border-bottom: 1px solid gray;flex-grow: 1;}#sk-container-id-1 div.sk-label:hover label.sk-toggleable__label {background-color: #d4ebff;}#sk-container-id-1 div.sk-serial::before {content: \"\";position: absolute;border-left: 1px solid gray;box-sizing: border-box;top: 0;bottom: 0;left: 50%;z-index: 0;}#sk-container-id-1 div.sk-serial {display: flex;flex-direction: column;align-items: center;background-color: white;padding-right: 0.2em;padding-left: 0.2em;position: relative;}#sk-container-id-1 div.sk-item {position: relative;z-index: 1;}#sk-container-id-1 div.sk-parallel {display: flex;align-items: stretch;justify-content: center;background-color: white;position: relative;}#sk-container-id-1 div.sk-item::before, #sk-container-id-1 div.sk-parallel-item::before {content: \"\";position: absolute;border-left: 1px solid gray;box-sizing: border-box;top: 0;bottom: 0;left: 50%;z-index: -1;}#sk-container-id-1 div.sk-parallel-item {display: flex;flex-direction: column;z-index: 1;position: relative;background-color: white;}#sk-container-id-1 div.sk-parallel-item:first-child::after {align-self: flex-end;width: 50%;}#sk-container-id-1 div.sk-parallel-item:last-child::after {align-self: flex-start;width: 50%;}#sk-container-id-1 div.sk-parallel-item:only-child::after {width: 0;}#sk-container-id-1 div.sk-dashed-wrapped {border: 1px dashed gray;margin: 0 0.4em 0.5em 0.4em;box-sizing: border-box;padding-bottom: 0.4em;background-color: white;}#sk-container-id-1 div.sk-label label {font-family: monospace;font-weight: bold;display: inline-block;line-height: 1.2em;}#sk-container-id-1 div.sk-label-container {text-align: center;}#sk-container-id-1 div.sk-container {/* jupyter's `normalize.less` sets `[hidden] { display: none; }` but bootstrap.min.css set `[hidden] { display: none !important; }` so we also need the `!important` here to be able to override the default hidden behavior on the sphinx rendered scikit-learn.org. See: https://github.com/scikit-learn/scikit-learn/issues/21755 */display: inline-block !important;position: relative;}#sk-container-id-1 div.sk-text-repr-fallback {display: none;}</style><div id=\"sk-container-id-1\" class=\"sk-top-container\"><div class=\"sk-text-repr-fallback\"><pre>XGBClassifier(alpha=1, base_score=None, booster=None, callbacks=None,\n",
       "              colsample_bylevel=None, colsample_bynode=None,\n",
       "              colsample_bytree=None, device=None, early_stopping_rounds=None,\n",
       "              enable_categorical=False, eval_metric=None, feature_types=None,\n",
       "              gamma=None, grow_policy=None, importance_type=None,\n",
       "              interaction_constraints=None, learning_rate=1.0, max_bin=None,\n",
       "              max_cat_threshold=None, max_cat_to_onehot=None,\n",
       "              max_delta_step=None, max_depth=4, max_leaves=None,\n",
       "              min_child_weight=None, missing=nan, monotone_constraints=None,\n",
       "              multi_strategy=None, n_estimators=100, n_jobs=None,\n",
       "              num_parallel_tree=None, ...)</pre><b>In a Jupyter environment, please rerun this cell to show the HTML representation or trust the notebook. <br />On GitHub, the HTML representation is unable to render, please try loading this page with nbviewer.org.</b></div><div class=\"sk-container\" hidden><div class=\"sk-item\"><div class=\"sk-estimator sk-toggleable\"><input class=\"sk-toggleable__control sk-hidden--visually\" id=\"sk-estimator-id-1\" type=\"checkbox\" checked><label for=\"sk-estimator-id-1\" class=\"sk-toggleable__label sk-toggleable__label-arrow\">XGBClassifier</label><div class=\"sk-toggleable__content\"><pre>XGBClassifier(alpha=1, base_score=None, booster=None, callbacks=None,\n",
       "              colsample_bylevel=None, colsample_bynode=None,\n",
       "              colsample_bytree=None, device=None, early_stopping_rounds=None,\n",
       "              enable_categorical=False, eval_metric=None, feature_types=None,\n",
       "              gamma=None, grow_policy=None, importance_type=None,\n",
       "              interaction_constraints=None, learning_rate=1.0, max_bin=None,\n",
       "              max_cat_threshold=None, max_cat_to_onehot=None,\n",
       "              max_delta_step=None, max_depth=4, max_leaves=None,\n",
       "              min_child_weight=None, missing=nan, monotone_constraints=None,\n",
       "              multi_strategy=None, n_estimators=100, n_jobs=None,\n",
       "              num_parallel_tree=None, ...)</pre></div></div></div></div></div>"
      ],
      "text/plain": [
       "XGBClassifier(alpha=1, base_score=None, booster=None, callbacks=None,\n",
       "              colsample_bylevel=None, colsample_bynode=None,\n",
       "              colsample_bytree=None, device=None, early_stopping_rounds=None,\n",
       "              enable_categorical=False, eval_metric=None, feature_types=None,\n",
       "              gamma=None, grow_policy=None, importance_type=None,\n",
       "              interaction_constraints=None, learning_rate=1.0, max_bin=None,\n",
       "              max_cat_threshold=None, max_cat_to_onehot=None,\n",
       "              max_delta_step=None, max_depth=4, max_leaves=None,\n",
       "              min_child_weight=None, missing=nan, monotone_constraints=None,\n",
       "              multi_strategy=None, n_estimators=100, n_jobs=None,\n",
       "              num_parallel_tree=None, ...)"
      ]
     },
     "execution_count": 51,
     "metadata": {},
     "output_type": "execute_result"
    }
   ],
   "source": [
    "params = {\n",
    "            'objective':'binary:logistic',\n",
    "            'max_depth': 4,\n",
    "            'alpha': 1,\n",
    "            'learning_rate': 1.0,\n",
    "            'n_estimators':100\n",
    "        }  \n",
    "\n",
    "model = XGBClassifier(**params)\n",
    "model.fit(X_train_Scaled, y_train)"
   ]
  },
  {
   "cell_type": "code",
   "execution_count": 52,
   "id": "66d5822d-f0ae-4242-80cf-96ae248c8ff4",
   "metadata": {},
   "outputs": [],
   "source": [
    "y_pred = model.predict(X_test_Scaled)"
   ]
  },
  {
   "cell_type": "code",
   "execution_count": 53,
   "id": "21c2e498-1962-4356-af78-30033a076cea",
   "metadata": {},
   "outputs": [
    {
     "name": "stdout",
     "output_type": "stream",
     "text": [
      "Accuracy = 0.73\n",
      "Recall = 0.79\n",
      "Precision = 0.78\n"
     ]
    },
    {
     "data": {
      "image/png": "[encoded data removed]",
      "text/plain": [
       "<Figure size 800x600 with 2 Axes>"
      ]
     },
     "metadata": {},
     "output_type": "display_data"
    }
   ],
   "source": [
    "from sklearn.metrics import accuracy_score, recall_score, confusion_matrix, precision_score\n",
    "\n",
    "print(f'Accuracy = {accuracy_score(y_test, y_pred):.2f}\\nRecall = {recall_score(y_test, y_pred):.2f}\\nPrecision = {precision_score(y_test, y_pred):.2f}')\n",
    "cm = confusion_matrix(y_test, y_pred)\n",
    "\n",
    "classes = ['Not Enroll', 'Enroll']  # Class names\n",
    "\n",
    "plt.figure(figsize=(8, 6))\n",
    "sns.heatmap(cm, annot=True, fmt='d', cmap='Blues', xticklabels=classes, yticklabels=classes, annot_kws={\"size\": 14})\n",
    "plt.title('Confusion Matrix')\n",
    "plt.xlabel('Predicted Label')\n",
    "plt.ylabel('True Label')\n",
    "plt.show()"
   ]
  },
  {
   "cell_type": "code",
   "execution_count": 54,
   "id": "8dd071e1-0bd6-4d18-a141-9b7cd0894fcc",
   "metadata": {},
   "outputs": [
    {
     "data": {
      "text/plain": [
       "array([[2488, 1375],\n",
       "       [1295, 4842]])"
      ]
     },
     "execution_count": 54,
     "metadata": {},
     "output_type": "execute_result"
    }
   ],
   "source": [
    "cm"
   ]
  },
  {
   "cell_type": "code",
   "execution_count": 55,
   "id": "64667daf-fe1c-4fdd-925c-0e145d36d511",
   "metadata": {},
   "outputs": [
    {
     "name": "stdout",
     "output_type": "stream",
     "text": [
      "0.7165219337509303\n"
     ]
    }
   ],
   "source": [
    "import sklearn.metrics as metrics\n",
    "print(metrics.roc_auc_score(y_test, y_pred))"
   ]
  },
  {
   "cell_type": "markdown",
   "id": "0684db5b-bb91-4761-a402-2fa3c2902ddf",
   "metadata": {},
   "source": [
    "## XGBoost with Bayesian Hyperparameter Tuning"
   ]
  },
  {
   "cell_type": "code",
   "execution_count": 112,
   "id": "bf9e0eff-2786-4f3b-bf94-78598b6ef954",
   "metadata": {},
   "outputs": [
    {
     "name": "stdout",
     "output_type": "stream",
     "text": [
      "|   iter    |  target   | colsam... | learni... | max_depth | min_ch... | n_esti... | reg_alpha | reg_la... | subsample |\n",
      "-------------------------------------------------------------------------------------------------------------------------\n",
      "| \u001b[39m1        \u001b[39m | \u001b[39m0.8317   \u001b[39m | \u001b[39m0.5622   \u001b[39m | \u001b[39m0.7606   \u001b[39m | \u001b[39m22.76    \u001b[39m | \u001b[39m12.37    \u001b[39m | \u001b[39m120.2    \u001b[39m | \u001b[39m3.121    \u001b[39m | \u001b[39m0.8722   \u001b[39m | \u001b[39m0.9331   \u001b[39m |\n",
      "| \u001b[35m2        \u001b[39m | \u001b[35m0.8525   \u001b[39m | \u001b[35m0.7208   \u001b[39m | \u001b[35m0.5665   \u001b[39m | \u001b[35m3.556    \u001b[39m | \u001b[35m19.43    \u001b[39m | \u001b[35m424.6    \u001b[39m | \u001b[35m4.248    \u001b[39m | \u001b[35m2.728    \u001b[39m | \u001b[35m0.5917   \u001b[39m |\n",
      "| \u001b[39m3        \u001b[39m | \u001b[39m0.8358   \u001b[39m | \u001b[39m0.513    \u001b[39m | \u001b[39m0.4199   \u001b[39m | \u001b[39m14.66    \u001b[39m | \u001b[39m6.533    \u001b[39m | \u001b[39m325.3    \u001b[39m | \u001b[39m2.791    \u001b[39m | \u001b[39m4.383    \u001b[39m | \u001b[39m0.6832   \u001b[39m |\n",
      "| \u001b[39m4        \u001b[39m | \u001b[39m0.8242   \u001b[39m | \u001b[39m0.6192   \u001b[39m | \u001b[39m0.6282   \u001b[39m | \u001b[39m8.391    \u001b[39m | \u001b[39m10.77    \u001b[39m | \u001b[39m316.6    \u001b[39m | \u001b[39m0.93     \u001b[39m | \u001b[39m9.114    \u001b[39m | \u001b[39m0.5853   \u001b[39m |\n",
      "| \u001b[39m5        \u001b[39m | \u001b[39m0.8316   \u001b[39m | \u001b[39m0.3455   \u001b[39m | \u001b[39m0.7591   \u001b[39m | \u001b[39m29.07    \u001b[39m | \u001b[39m16.36    \u001b[39m | \u001b[39m187.1    \u001b[39m | \u001b[39m1.954    \u001b[39m | \u001b[39m10.26    \u001b[39m | \u001b[39m0.7201   \u001b[39m |\n",
      "| \u001b[35m6        \u001b[39m | \u001b[35m0.8576   \u001b[39m | \u001b[35m0.3854   \u001b[39m | \u001b[35m0.3962   \u001b[39m | \u001b[35m3.928    \u001b[39m | \u001b[35m18.28    \u001b[39m | \u001b[35m166.5    \u001b[39m | \u001b[35m13.25    \u001b[39m | \u001b[35m4.676    \u001b[39m | \u001b[35m0.76     \u001b[39m |\n",
      "| \u001b[35m7        \u001b[39m | \u001b[35m0.8625   \u001b[39m | \u001b[35m0.6827   \u001b[39m | \u001b[35m0.148    \u001b[39m | \u001b[35m29.18    \u001b[39m | \u001b[35m15.73    \u001b[39m | \u001b[35m472.8    \u001b[39m | \u001b[35m17.9     \u001b[39m | \u001b[35m8.969    \u001b[39m | \u001b[35m0.9609   \u001b[39m |\n",
      "| \u001b[39m8        \u001b[39m | \u001b[39m0.8604   \u001b[39m | \u001b[39m0.3619   \u001b[39m | \u001b[39m0.1569   \u001b[39m | \u001b[39m4.221    \u001b[39m | \u001b[39m7.181    \u001b[39m | \u001b[39m224.9    \u001b[39m | \u001b[39m5.428    \u001b[39m | \u001b[39m12.43    \u001b[39m | \u001b[39m0.6784   \u001b[39m |\n",
      "| \u001b[39m9        \u001b[39m | \u001b[39m0.8572   \u001b[39m | \u001b[39m0.4967   \u001b[39m | \u001b[39m0.4342   \u001b[39m | \u001b[39m6.805    \u001b[39m | \u001b[39m16.24    \u001b[39m | \u001b[39m83.55    \u001b[39m | \u001b[39m19.74    \u001b[39m | \u001b[39m11.58    \u001b[39m | \u001b[39m0.5994   \u001b[39m |\n",
      "| \u001b[39m10       \u001b[39m | \u001b[39m0.8209   \u001b[39m | \u001b[39m0.3039   \u001b[39m | \u001b[39m0.6524   \u001b[39m | \u001b[39m22.09    \u001b[39m | \u001b[39m14.85    \u001b[39m | \u001b[39m397.1    \u001b[39m | \u001b[39m1.482    \u001b[39m | \u001b[39m5.378    \u001b[39m | \u001b[39m0.5579   \u001b[39m |\n",
      "| \u001b[39m11       \u001b[39m | \u001b[39m0.8467   \u001b[39m | \u001b[39m0.9042   \u001b[39m | \u001b[39m0.4987   \u001b[39m | \u001b[39m11.93    \u001b[39m | \u001b[39m2.208    \u001b[39m | \u001b[39m189.9    \u001b[39m | \u001b[39m6.504    \u001b[39m | \u001b[39m10.94    \u001b[39m | \u001b[39m0.8188   \u001b[39m |\n",
      "| \u001b[39m12       \u001b[39m | \u001b[39m0.8553   \u001b[39m | \u001b[39m0.921    \u001b[39m | \u001b[39m0.3778   \u001b[39m | \u001b[39m6.229    \u001b[39m | \u001b[39m14.55    \u001b[39m | \u001b[39m392.4    \u001b[39m | \u001b[39m11.23    \u001b[39m | \u001b[39m11.56    \u001b[39m | \u001b[39m0.7469   \u001b[39m |\n",
      "| \u001b[39m13       \u001b[39m | \u001b[39m0.8531   \u001b[39m | \u001b[39m0.6659   \u001b[39m | \u001b[39m0.3421   \u001b[39m | \u001b[39m3.686    \u001b[39m | \u001b[39m3.05     \u001b[39m | \u001b[39m64.14    \u001b[39m | \u001b[39m12.73    \u001b[39m | \u001b[39m4.716    \u001b[39m | \u001b[39m0.7543   \u001b[39m |\n",
      "| \u001b[39m14       \u001b[39m | \u001b[39m0.8517   \u001b[39m | \u001b[39m0.9353   \u001b[39m | \u001b[39m0.1995   \u001b[39m | \u001b[39m14.08    \u001b[39m | \u001b[39m15.36    \u001b[39m | \u001b[39m153.0    \u001b[39m | \u001b[39m1.541    \u001b[39m | \u001b[39m4.347    \u001b[39m | \u001b[39m0.5806   \u001b[39m |\n",
      "| \u001b[39m15       \u001b[39m | \u001b[39m0.8299   \u001b[39m | \u001b[39m0.9508   \u001b[39m | \u001b[39m0.6465   \u001b[39m | \u001b[39m20.1     \u001b[39m | \u001b[39m17.56    \u001b[39m | \u001b[39m411.7    \u001b[39m | \u001b[39m3.732    \u001b[39m | \u001b[39m13.39    \u001b[39m | \u001b[39m0.7697   \u001b[39m |\n",
      "| \u001b[39m16       \u001b[39m | \u001b[39m0.8554   \u001b[39m | \u001b[39m0.5056   \u001b[39m | \u001b[39m0.559    \u001b[39m | \u001b[39m20.71    \u001b[39m | \u001b[39m17.02    \u001b[39m | \u001b[39m462.9    \u001b[39m | \u001b[39m18.01    \u001b[39m | \u001b[39m8.103    \u001b[39m | \u001b[39m0.5928   \u001b[39m |\n",
      "| \u001b[39m17       \u001b[39m | \u001b[39m0.8621   \u001b[39m | \u001b[39m0.6494   \u001b[39m | \u001b[39m0.0635   \u001b[39m | \u001b[39m23.01    \u001b[39m | \u001b[39m3.431    \u001b[39m | \u001b[39m476.0    \u001b[39m | \u001b[39m16.81    \u001b[39m | \u001b[39m14.54    \u001b[39m | \u001b[39m0.5203   \u001b[39m |\n",
      "| \u001b[39m18       \u001b[39m | \u001b[39m0.8535   \u001b[39m | \u001b[39m0.8648   \u001b[39m | \u001b[39m0.6865   \u001b[39m | \u001b[39m3.768    \u001b[39m | \u001b[39m6.186    \u001b[39m | \u001b[39m222.6    \u001b[39m | \u001b[39m3.717    \u001b[39m | \u001b[39m13.07    \u001b[39m | \u001b[39m0.5652   \u001b[39m |\n",
      "| \u001b[39m19       \u001b[39m | \u001b[39m0.8611   \u001b[39m | \u001b[39m0.4515   \u001b[39m | \u001b[39m0.3805   \u001b[39m | \u001b[39m6.871    \u001b[39m | \u001b[39m13.6     \u001b[39m | \u001b[39m230.5    \u001b[39m | \u001b[39m14.71    \u001b[39m | \u001b[39m9.415    \u001b[39m | \u001b[39m0.9764   \u001b[39m |\n",
      "| \u001b[39m20       \u001b[39m | \u001b[39m0.8479   \u001b[39m | \u001b[39m0.3558   \u001b[39m | \u001b[39m0.6286   \u001b[39m | \u001b[39m7.975    \u001b[39m | \u001b[39m4.106    \u001b[39m | \u001b[39m237.8    \u001b[39m | \u001b[39m5.279    \u001b[39m | \u001b[39m9.858    \u001b[39m | \u001b[39m0.8407   \u001b[39m |\n",
      "| \u001b[39m21       \u001b[39m | \u001b[39m0.8396   \u001b[39m | \u001b[39m0.4392   \u001b[39m | \u001b[39m0.7397   \u001b[39m | \u001b[39m21.57    \u001b[39m | \u001b[39m14.66    \u001b[39m | \u001b[39m479.7    \u001b[39m | \u001b[39m9.641    \u001b[39m | \u001b[39m13.68    \u001b[39m | \u001b[39m0.5061   \u001b[39m |\n",
      "| \u001b[39m22       \u001b[39m | \u001b[39m0.8595   \u001b[39m | \u001b[39m0.4017   \u001b[39m | \u001b[39m0.4652   \u001b[39m | \u001b[39m28.96    \u001b[39m | \u001b[39m7.005    \u001b[39m | \u001b[39m467.9    \u001b[39m | \u001b[39m17.58    \u001b[39m | \u001b[39m12.97    \u001b[39m | \u001b[39m0.9626   \u001b[39m |\n",
      "| \u001b[39m23       \u001b[39m | \u001b[39m0.8557   \u001b[39m | \u001b[39m0.3113   \u001b[39m | \u001b[39m0.7348   \u001b[39m | \u001b[39m21.67    \u001b[39m | \u001b[39m1.893    \u001b[39m | \u001b[39m473.8    \u001b[39m | \u001b[39m16.12    \u001b[39m | \u001b[39m0.7148   \u001b[39m | \u001b[39m0.9908   \u001b[39m |\n",
      "| \u001b[39m24       \u001b[39m | \u001b[39m0.8518   \u001b[39m | \u001b[39m0.8673   \u001b[39m | \u001b[39m0.6783   \u001b[39m | \u001b[39m6.108    \u001b[39m | \u001b[39m6.203    \u001b[39m | \u001b[39m223.8    \u001b[39m | \u001b[39m16.44    \u001b[39m | \u001b[39m14.22    \u001b[39m | \u001b[39m0.5859   \u001b[39m |\n",
      "| \u001b[39m25       \u001b[39m | \u001b[39m0.8624   \u001b[39m | \u001b[39m0.8975   \u001b[39m | \u001b[39m0.102    \u001b[39m | \u001b[39m8.583    \u001b[39m | \u001b[39m19.13    \u001b[39m | \u001b[39m226.2    \u001b[39m | \u001b[39m4.122    \u001b[39m | \u001b[39m12.65    \u001b[39m | \u001b[39m0.6803   \u001b[39m |\n",
      "| \u001b[39m26       \u001b[39m | \u001b[39m0.8599   \u001b[39m | \u001b[39m0.8754   \u001b[39m | \u001b[39m0.4862   \u001b[39m | \u001b[39m4.702    \u001b[39m | \u001b[39m19.41    \u001b[39m | \u001b[39m220.5    \u001b[39m | \u001b[39m14.0     \u001b[39m | \u001b[39m3.165    \u001b[39m | \u001b[39m0.9389   \u001b[39m |\n",
      "| \u001b[39m27       \u001b[39m | \u001b[39m0.8505   \u001b[39m | \u001b[39m0.9133   \u001b[39m | \u001b[39m0.6843   \u001b[39m | \u001b[39m4.973    \u001b[39m | \u001b[39m19.67    \u001b[39m | \u001b[39m230.4    \u001b[39m | \u001b[39m4.655    \u001b[39m | \u001b[39m0.7274   \u001b[39m | \u001b[39m0.7853   \u001b[39m |\n",
      "| \u001b[39m28       \u001b[39m | \u001b[39m0.8577   \u001b[39m | \u001b[39m0.7685   \u001b[39m | \u001b[39m0.2877   \u001b[39m | \u001b[39m18.76    \u001b[39m | \u001b[39m16.85    \u001b[39m | \u001b[39m222.1    \u001b[39m | \u001b[39m12.71    \u001b[39m | \u001b[39m9.767    \u001b[39m | \u001b[39m0.7346   \u001b[39m |\n",
      "| \u001b[39m29       \u001b[39m | \u001b[39m0.8555   \u001b[39m | \u001b[39m0.6519   \u001b[39m | \u001b[39m0.4651   \u001b[39m | \u001b[39m28.41    \u001b[39m | \u001b[39m1.141    \u001b[39m | \u001b[39m492.3    \u001b[39m | \u001b[39m18.37    \u001b[39m | \u001b[39m7.884    \u001b[39m | \u001b[39m0.7819   \u001b[39m |\n",
      "| \u001b[39m30       \u001b[39m | \u001b[39m0.8596   \u001b[39m | \u001b[39m0.5599   \u001b[39m | \u001b[39m0.4903   \u001b[39m | \u001b[39m3.006    \u001b[39m | \u001b[39m14.17    \u001b[39m | \u001b[39m375.0    \u001b[39m | \u001b[39m16.09    \u001b[39m | \u001b[39m11.71    \u001b[39m | \u001b[39m0.8388   \u001b[39m |\n",
      "| \u001b[39m31       \u001b[39m | \u001b[39m0.8574   \u001b[39m | \u001b[39m0.4392   \u001b[39m | \u001b[39m0.7199   \u001b[39m | \u001b[39m3.562    \u001b[39m | \u001b[39m5.985    \u001b[39m | \u001b[39m381.8    \u001b[39m | \u001b[39m19.74    \u001b[39m | \u001b[39m3.001    \u001b[39m | \u001b[39m0.6741   \u001b[39m |\n",
      "| \u001b[39m32       \u001b[39m | \u001b[39m0.8555   \u001b[39m | \u001b[39m0.5869   \u001b[39m | \u001b[39m0.6352   \u001b[39m | \u001b[39m13.03    \u001b[39m | \u001b[39m1.469    \u001b[39m | \u001b[39m372.2    \u001b[39m | \u001b[39m18.02    \u001b[39m | \u001b[39m13.81    \u001b[39m | \u001b[39m0.8551   \u001b[39m |\n",
      "| \u001b[39m33       \u001b[39m | \u001b[39m0.859    \u001b[39m | \u001b[39m0.5764   \u001b[39m | \u001b[39m0.4973   \u001b[39m | \u001b[39m6.481    \u001b[39m | \u001b[39m9.692    \u001b[39m | \u001b[39m361.7    \u001b[39m | \u001b[39m19.0     \u001b[39m | \u001b[39m1.155    \u001b[39m | \u001b[39m0.7672   \u001b[39m |\n",
      "| \u001b[39m34       \u001b[39m | \u001b[39m0.8569   \u001b[39m | \u001b[39m0.5503   \u001b[39m | \u001b[39m0.4798   \u001b[39m | \u001b[39m4.076    \u001b[39m | \u001b[39m10.82    \u001b[39m | \u001b[39m360.2    \u001b[39m | \u001b[39m3.918    \u001b[39m | \u001b[39m12.31    \u001b[39m | \u001b[39m0.9253   \u001b[39m |\n",
      "| \u001b[39m35       \u001b[39m | \u001b[39m0.8555   \u001b[39m | \u001b[39m0.9625   \u001b[39m | \u001b[39m0.4298   \u001b[39m | \u001b[39m17.95    \u001b[39m | \u001b[39m19.52    \u001b[39m | \u001b[39m358.8    \u001b[39m | \u001b[39m18.42    \u001b[39m | \u001b[39m8.802    \u001b[39m | \u001b[39m0.7268   \u001b[39m |\n",
      "| \u001b[39m36       \u001b[39m | \u001b[39m0.862    \u001b[39m | \u001b[39m0.6366   \u001b[39m | \u001b[39m0.1161   \u001b[39m | \u001b[39m5.681    \u001b[39m | \u001b[39m3.769    \u001b[39m | \u001b[39m368.9    \u001b[39m | \u001b[39m4.548    \u001b[39m | \u001b[39m0.5036   \u001b[39m | \u001b[39m0.5529   \u001b[39m |\n",
      "| \u001b[39m37       \u001b[39m | \u001b[39m0.8359   \u001b[39m | \u001b[39m0.7906   \u001b[39m | \u001b[39m0.471    \u001b[39m | \u001b[39m6.146    \u001b[39m | \u001b[39m18.49    \u001b[39m | \u001b[39m372.0    \u001b[39m | \u001b[39m3.737    \u001b[39m | \u001b[39m0.1782   \u001b[39m | \u001b[39m0.5312   \u001b[39m |\n",
      "| \u001b[39m38       \u001b[39m | \u001b[39m0.8373   \u001b[39m | \u001b[39m0.8344   \u001b[39m | \u001b[39m0.3555   \u001b[39m | \u001b[39m16.93    \u001b[39m | \u001b[39m2.253    \u001b[39m | \u001b[39m358.9    \u001b[39m | \u001b[39m5.321    \u001b[39m | \u001b[39m0.2391   \u001b[39m | \u001b[39m0.6373   \u001b[39m |\n",
      "| \u001b[39m39       \u001b[39m | \u001b[39m0.859    \u001b[39m | \u001b[39m0.8463   \u001b[39m | \u001b[39m0.7423   \u001b[39m | \u001b[39m3.472    \u001b[39m | \u001b[39m1.62     \u001b[39m | \u001b[39m371.0    \u001b[39m | \u001b[39m12.49    \u001b[39m | \u001b[39m6.529    \u001b[39m | \u001b[39m0.9888   \u001b[39m |\n",
      "| \u001b[39m40       \u001b[39m | \u001b[39m0.8528   \u001b[39m | \u001b[39m0.8135   \u001b[39m | \u001b[39m0.02958  \u001b[39m | \u001b[39m4.8      \u001b[39m | \u001b[39m13.85    \u001b[39m | \u001b[39m352.1    \u001b[39m | \u001b[39m19.97    \u001b[39m | \u001b[39m10.87    \u001b[39m | \u001b[39m0.6336   \u001b[39m |\n",
      "| \u001b[39m41       \u001b[39m | \u001b[39m0.859    \u001b[39m | \u001b[39m0.6963   \u001b[39m | \u001b[39m0.5169   \u001b[39m | \u001b[39m3.608    \u001b[39m | \u001b[39m19.69    \u001b[39m | \u001b[39m220.7    \u001b[39m | \u001b[39m15.26    \u001b[39m | \u001b[39m13.36    \u001b[39m | \u001b[39m0.7696   \u001b[39m |\n",
      "| \u001b[39m42       \u001b[39m | \u001b[39m0.8574   \u001b[39m | \u001b[39m0.9987   \u001b[39m | \u001b[39m0.3019   \u001b[39m | \u001b[39m4.687    \u001b[39m | \u001b[39m1.413    \u001b[39m | \u001b[39m376.4    \u001b[39m | \u001b[39m3.388    \u001b[39m | \u001b[39m14.7     \u001b[39m | \u001b[39m0.7598   \u001b[39m |\n",
      "| \u001b[39m43       \u001b[39m | \u001b[39m0.8561   \u001b[39m | \u001b[39m0.6574   \u001b[39m | \u001b[39m0.5899   \u001b[39m | \u001b[39m18.37    \u001b[39m | \u001b[39m19.04    \u001b[39m | \u001b[39m69.73    \u001b[39m | \u001b[39m19.7     \u001b[39m | \u001b[39m7.041    \u001b[39m | \u001b[39m0.5758   \u001b[39m |\n",
      "| \u001b[39m44       \u001b[39m | \u001b[39m0.8592   \u001b[39m | \u001b[39m0.7569   \u001b[39m | \u001b[39m0.3381   \u001b[39m | \u001b[39m8.316    \u001b[39m | \u001b[39m1.307    \u001b[39m | \u001b[39m463.7    \u001b[39m | \u001b[39m19.18    \u001b[39m | \u001b[39m12.89    \u001b[39m | \u001b[39m0.6603   \u001b[39m |\n",
      "| \u001b[39m45       \u001b[39m | \u001b[39m0.8597   \u001b[39m | \u001b[39m0.6368   \u001b[39m | \u001b[39m0.3699   \u001b[39m | \u001b[39m4.859    \u001b[39m | \u001b[39m1.097    \u001b[39m | \u001b[39m447.4    \u001b[39m | \u001b[39m19.76    \u001b[39m | \u001b[39m4.87     \u001b[39m | \u001b[39m0.5796   \u001b[39m |\n",
      "| \u001b[39m46       \u001b[39m | \u001b[39m0.8441   \u001b[39m | \u001b[39m0.8852   \u001b[39m | \u001b[39m0.601    \u001b[39m | \u001b[39m6.411    \u001b[39m | \u001b[39m2.858    \u001b[39m | \u001b[39m446.7    \u001b[39m | \u001b[39m7.13     \u001b[39m | \u001b[39m14.84    \u001b[39m | \u001b[39m0.8095   \u001b[39m |\n",
      "| \u001b[35m47       \u001b[39m | \u001b[35m0.8625   \u001b[39m | \u001b[35m0.467    \u001b[39m | \u001b[35m0.1405   \u001b[39m | \u001b[35m6.182    \u001b[39m | \u001b[35m7.585    \u001b[39m | \u001b[35m462.2    \u001b[39m | \u001b[35m17.08    \u001b[39m | \u001b[35m0.2205   \u001b[39m | \u001b[35m0.7284   \u001b[39m |\n",
      "| \u001b[39m48       \u001b[39m | \u001b[39m0.8507   \u001b[39m | \u001b[39m0.8677   \u001b[39m | \u001b[39m0.5585   \u001b[39m | \u001b[39m21.59    \u001b[39m | \u001b[39m1.115    \u001b[39m | \u001b[39m449.6    \u001b[39m | \u001b[39m19.61    \u001b[39m | \u001b[39m5.712    \u001b[39m | \u001b[39m0.6672   \u001b[39m |\n",
      "| \u001b[39m49       \u001b[39m | \u001b[39m0.861    \u001b[39m | \u001b[39m0.851    \u001b[39m | \u001b[39m0.1712   \u001b[39m | \u001b[39m4.783    \u001b[39m | \u001b[39m19.15    \u001b[39m | \u001b[39m455.8    \u001b[39m | \u001b[39m19.72    \u001b[39m | \u001b[39m0.2109   \u001b[39m | \u001b[39m0.7669   \u001b[39m |\n",
      "| \u001b[39m50       \u001b[39m | \u001b[39m0.8608   \u001b[39m | \u001b[39m0.9612   \u001b[39m | \u001b[39m0.265    \u001b[39m | \u001b[39m4.282    \u001b[39m | \u001b[39m4.56     \u001b[39m | \u001b[39m474.1    \u001b[39m | \u001b[39m19.87    \u001b[39m | \u001b[39m5.874    \u001b[39m | \u001b[39m0.9947   \u001b[39m |\n",
      "| \u001b[39m51       \u001b[39m | \u001b[39m0.8591   \u001b[39m | \u001b[39m0.7577   \u001b[39m | \u001b[39m0.3908   \u001b[39m | \u001b[39m3.484    \u001b[39m | \u001b[39m19.31    \u001b[39m | \u001b[39m467.0    \u001b[39m | \u001b[39m18.82    \u001b[39m | \u001b[39m10.43    \u001b[39m | \u001b[39m0.6937   \u001b[39m |\n",
      "| \u001b[39m52       \u001b[39m | \u001b[39m0.8558   \u001b[39m | \u001b[39m0.5328   \u001b[39m | \u001b[39m0.4794   \u001b[39m | \u001b[39m3.792    \u001b[39m | \u001b[39m14.81    \u001b[39m | \u001b[39m465.6    \u001b[39m | \u001b[39m2.515    \u001b[39m | \u001b[39m0.8717   \u001b[39m | \u001b[39m0.8166   \u001b[39m |\n",
      "| \u001b[35m53       \u001b[39m | \u001b[35m0.8628   \u001b[39m | \u001b[35m0.795    \u001b[39m | \u001b[35m0.2296   \u001b[39m | \u001b[35m6.858    \u001b[39m | \u001b[35m19.6     \u001b[39m | \u001b[35m76.88    \u001b[39m | \u001b[35m1.582    \u001b[39m | \u001b[35m13.67    \u001b[39m | \u001b[35m0.9805   \u001b[39m |\n",
      "| \u001b[39m54       \u001b[39m | \u001b[39m0.8569   \u001b[39m | \u001b[39m0.5568   \u001b[39m | \u001b[39m0.3014   \u001b[39m | \u001b[39m20.6     \u001b[39m | \u001b[39m17.26    \u001b[39m | \u001b[39m81.49    \u001b[39m | \u001b[39m2.616    \u001b[39m | \u001b[39m13.32    \u001b[39m | \u001b[39m0.9081   \u001b[39m |\n",
      "| \u001b[39m55       \u001b[39m | \u001b[39m0.8534   \u001b[39m | \u001b[39m0.4272   \u001b[39m | \u001b[39m0.4341   \u001b[39m | \u001b[39m9.392    \u001b[39m | \u001b[39m17.26    \u001b[39m | \u001b[39m77.4     \u001b[39m | \u001b[39m1.292    \u001b[39m | \u001b[39m0.5755   \u001b[39m | \u001b[39m0.9525   \u001b[39m |\n",
      "| \u001b[39m56       \u001b[39m | \u001b[39m0.8501   \u001b[39m | \u001b[39m0.4797   \u001b[39m | \u001b[39m0.05629  \u001b[39m | \u001b[39m5.594    \u001b[39m | \u001b[39m6.158    \u001b[39m | \u001b[39m84.82    \u001b[39m | \u001b[39m0.5564   \u001b[39m | \u001b[39m13.48    \u001b[39m | \u001b[39m0.5134   \u001b[39m |\n",
      "| \u001b[39m57       \u001b[39m | \u001b[39m0.856    \u001b[39m | \u001b[39m0.6628   \u001b[39m | \u001b[39m0.4042   \u001b[39m | \u001b[39m3.273    \u001b[39m | \u001b[39m16.48    \u001b[39m | \u001b[39m63.87    \u001b[39m | \u001b[39m3.257    \u001b[39m | \u001b[39m13.04    \u001b[39m | \u001b[39m0.9864   \u001b[39m |\n",
      "| \u001b[39m58       \u001b[39m | \u001b[39m0.8567   \u001b[39m | \u001b[39m0.5499   \u001b[39m | \u001b[39m0.3533   \u001b[39m | \u001b[39m21.13    \u001b[39m | \u001b[39m18.61    \u001b[39m | \u001b[39m62.2     \u001b[39m | \u001b[39m3.474    \u001b[39m | \u001b[39m13.64    \u001b[39m | \u001b[39m0.6754   \u001b[39m |\n",
      "| \u001b[39m59       \u001b[39m | \u001b[39m0.8562   \u001b[39m | \u001b[39m0.4969   \u001b[39m | \u001b[39m0.5547   \u001b[39m | \u001b[39m27.94    \u001b[39m | \u001b[39m9.176    \u001b[39m | \u001b[39m50.24    \u001b[39m | \u001b[39m18.55    \u001b[39m | \u001b[39m11.47    \u001b[39m | \u001b[39m0.6059   \u001b[39m |\n",
      "| \u001b[39m60       \u001b[39m | \u001b[39m0.8621   \u001b[39m | \u001b[39m0.482    \u001b[39m | \u001b[39m0.2263   \u001b[39m | \u001b[39m27.4     \u001b[39m | \u001b[39m1.703    \u001b[39m | \u001b[39m74.18    \u001b[39m | \u001b[39m16.61    \u001b[39m | \u001b[39m14.53    \u001b[39m | \u001b[39m0.9872   \u001b[39m |\n",
      "| \u001b[39m61       \u001b[39m | \u001b[39m0.8618   \u001b[39m | \u001b[39m0.8133   \u001b[39m | \u001b[39m0.2767   \u001b[39m | \u001b[39m29.24    \u001b[39m | \u001b[39m3.665    \u001b[39m | \u001b[39m70.16    \u001b[39m | \u001b[39m18.33    \u001b[39m | \u001b[39m2.074    \u001b[39m | \u001b[39m0.8557   \u001b[39m |\n",
      "| \u001b[39m62       \u001b[39m | \u001b[39m0.8608   \u001b[39m | \u001b[39m0.6802   \u001b[39m | \u001b[39m0.2818   \u001b[39m | \u001b[39m27.52    \u001b[39m | \u001b[39m4.009    \u001b[39m | \u001b[39m85.27    \u001b[39m | \u001b[39m16.56    \u001b[39m | \u001b[39m4.188    \u001b[39m | \u001b[39m0.6907   \u001b[39m |\n",
      "| \u001b[39m63       \u001b[39m | \u001b[39m0.8326   \u001b[39m | \u001b[39m0.3845   \u001b[39m | \u001b[39m0.433    \u001b[39m | \u001b[39m29.75    \u001b[39m | \u001b[39m2.155    \u001b[39m | \u001b[39m73.71    \u001b[39m | \u001b[39m0.1535   \u001b[39m | \u001b[39m2.665    \u001b[39m | \u001b[39m0.7105   \u001b[39m |\n",
      "| \u001b[39m64       \u001b[39m | \u001b[39m0.8574   \u001b[39m | \u001b[39m0.7111   \u001b[39m | \u001b[39m0.607    \u001b[39m | \u001b[39m29.85    \u001b[39m | \u001b[39m17.08    \u001b[39m | \u001b[39m84.64    \u001b[39m | \u001b[39m16.91    \u001b[39m | \u001b[39m13.12    \u001b[39m | \u001b[39m0.8232   \u001b[39m |\n",
      "| \u001b[39m65       \u001b[39m | \u001b[39m0.8588   \u001b[39m | \u001b[39m0.6483   \u001b[39m | \u001b[39m0.6168   \u001b[39m | \u001b[39m18.8     \u001b[39m | \u001b[39m1.839    \u001b[39m | \u001b[39m77.91    \u001b[39m | \u001b[39m19.18    \u001b[39m | \u001b[39m10.04    \u001b[39m | \u001b[39m0.7772   \u001b[39m |\n",
      "| \u001b[39m66       \u001b[39m | \u001b[39m0.8547   \u001b[39m | \u001b[39m0.8379   \u001b[39m | \u001b[39m0.6112   \u001b[39m | \u001b[39m29.37    \u001b[39m | \u001b[39m1.776    \u001b[39m | \u001b[39m96.24    \u001b[39m | \u001b[39m17.93    \u001b[39m | \u001b[39m13.1     \u001b[39m | \u001b[39m0.621    \u001b[39m |\n",
      "| \u001b[39m67       \u001b[39m | \u001b[39m0.8609   \u001b[39m | \u001b[39m0.8041   \u001b[39m | \u001b[39m0.08005  \u001b[39m | \u001b[39m4.218    \u001b[39m | \u001b[39m1.283    \u001b[39m | \u001b[39m495.6    \u001b[39m | \u001b[39m16.52    \u001b[39m | \u001b[39m7.796    \u001b[39m | \u001b[39m0.6133   \u001b[39m |\n",
      "| \u001b[39m68       \u001b[39m | \u001b[39m0.8541   \u001b[39m | \u001b[39m0.3256   \u001b[39m | \u001b[39m0.1474   \u001b[39m | \u001b[39m9.226    \u001b[39m | \u001b[39m1.421    \u001b[39m | \u001b[39m498.9    \u001b[39m | \u001b[39m2.024    \u001b[39m | \u001b[39m2.342    \u001b[39m | \u001b[39m0.7476   \u001b[39m |\n",
      "| \u001b[39m69       \u001b[39m | \u001b[39m0.8602   \u001b[39m | \u001b[39m0.7709   \u001b[39m | \u001b[39m0.2133   \u001b[39m | \u001b[39m6.157    \u001b[39m | \u001b[39m11.77    \u001b[39m | \u001b[39m493.4    \u001b[39m | \u001b[39m19.1     \u001b[39m | \u001b[39m2.226    \u001b[39m | \u001b[39m0.5387   \u001b[39m |\n",
      "| \u001b[39m70       \u001b[39m | \u001b[39m0.8573   \u001b[39m | \u001b[39m0.7892   \u001b[39m | \u001b[39m0.2288   \u001b[39m | \u001b[39m3.295    \u001b[39m | \u001b[39m1.492    \u001b[39m | \u001b[39m160.5    \u001b[39m | \u001b[39m18.64    \u001b[39m | \u001b[39m6.582    \u001b[39m | \u001b[39m0.783    \u001b[39m |\n",
      "| \u001b[39m71       \u001b[39m | \u001b[39m0.8548   \u001b[39m | \u001b[39m0.4626   \u001b[39m | \u001b[39m0.3322   \u001b[39m | \u001b[39m3.221    \u001b[39m | \u001b[39m15.7     \u001b[39m | \u001b[39m150.2    \u001b[39m | \u001b[39m19.55    \u001b[39m | \u001b[39m11.72    \u001b[39m | \u001b[39m0.5401   \u001b[39m |\n",
      "| \u001b[39m72       \u001b[39m | \u001b[39m0.8619   \u001b[39m | \u001b[39m0.8101   \u001b[39m | \u001b[39m0.1927   \u001b[39m | \u001b[39m24.58    \u001b[39m | \u001b[39m18.79    \u001b[39m | \u001b[39m274.6    \u001b[39m | \u001b[39m18.44    \u001b[39m | \u001b[39m14.69    \u001b[39m | \u001b[39m0.8707   \u001b[39m |\n",
      "| \u001b[39m73       \u001b[39m | \u001b[39m0.8599   \u001b[39m | \u001b[39m0.4585   \u001b[39m | \u001b[39m0.08903  \u001b[39m | \u001b[39m26.84    \u001b[39m | \u001b[39m17.77    \u001b[39m | \u001b[39m268.1    \u001b[39m | \u001b[39m18.25    \u001b[39m | \u001b[39m0.9577   \u001b[39m | \u001b[39m0.6096   \u001b[39m |\n",
      "| \u001b[39m74       \u001b[39m | \u001b[39m0.8325   \u001b[39m | \u001b[39m0.5364   \u001b[39m | \u001b[39m0.757    \u001b[39m | \u001b[39m27.24    \u001b[39m | \u001b[39m15.89    \u001b[39m | \u001b[39m273.4    \u001b[39m | \u001b[39m3.079    \u001b[39m | \u001b[39m9.636    \u001b[39m | \u001b[39m0.8181   \u001b[39m |\n",
      "| \u001b[39m75       \u001b[39m | \u001b[39m0.8545   \u001b[39m | \u001b[39m0.5521   \u001b[39m | \u001b[39m0.7185   \u001b[39m | \u001b[39m14.7     \u001b[39m | \u001b[39m19.95    \u001b[39m | \u001b[39m263.9    \u001b[39m | \u001b[39m19.69    \u001b[39m | \u001b[39m8.746    \u001b[39m | \u001b[39m0.5819   \u001b[39m |\n",
      "=========================================================================================================================\n",
      "Best Parameters: {'colsample_bytree': 0.7949774139789709, 'learning_rate': 0.22964751309310477, 'max_depth': 6.858206990148183, 'min_child_weight': 19.596957460288216, 'n_estimators': 76.88291725336771, 'reg_alpha': 1.5823770376952688, 'reg_lambda': 13.670564276498206, 'subsample': 0.9805200362365606}\n",
      "Best Accuracy: 0.8627554341244671\n"
     ]
    }
   ],
   "source": [
    "# Define Objective Function for Bayesian Optimization\n",
    "def xgb_evaluate(learning_rate, max_depth, n_estimators, subsample, colsample_bytree, reg_lambda, reg_alpha, min_child_weight):\n",
    "    # Instantiate the XGBoost Model\n",
    "    model = XGBClassifier(\n",
    "        learning_rate=learning_rate,\n",
    "        max_depth=int(max_depth),  # Convert float to int\n",
    "        n_estimators=int(n_estimators),  # Convert float to int\n",
    "        subsample=subsample,\n",
    "        colsample_bytree=colsample_bytree,\n",
    "        reg_lambda=reg_lambda,\n",
    "        reg_alpha=reg_alpha,\n",
    "        min_child_weight = min_child_weight,\n",
    "        #use_label_encoder=False,\n",
    "        eval_metric=\"logloss\"\n",
    "    )\n",
    "    \n",
    "    # Perform Cross-Validation\n",
    "    scores = cross_val_score(model, X_train, y_train, cv=3, scoring=\"roc_auc\")\n",
    "    return scores.mean()\n",
    "\n",
    "# Define the Hyperparameter Bounds\n",
    "param_bounds = {\n",
    "    \"learning_rate\": (0.0001, 0.8),\n",
    "    \"max_depth\": (3, 30),\n",
    "    \"n_estimators\": (50, 500),\n",
    "    \"subsample\": (0.5, 1.0),\n",
    "    \"colsample_bytree\": (0.3, 1),\n",
    "    \"reg_lambda\": (1e-3, 15.0),\n",
    "    \"reg_alpha\": (1e-3, 20.0),\n",
    "    \"min_child_weight\" : (1,20)\n",
    "}\n",
    "\n",
    "# Create Bayesian Optimization Object\n",
    "optimizer = BayesianOptimization(\n",
    "    f=xgb_evaluate,       # Objective function\n",
    "    pbounds=param_bounds, # Parameter bounds\n",
    "    random_state=42,      # Random seed\n",
    "    verbose=2             # Output progress\n",
    ")\n",
    "\n",
    "# Run Optimization\n",
    "optimizer.maximize(init_points=15, n_iter=60)\n",
    "\n",
    "# Best Parameters\n",
    "print(\"Best Parameters:\", optimizer.max[\"params\"])\n",
    "print(\"Best Accuracy:\", optimizer.max[\"target\"])\n"
   ]
  },
  {
   "cell_type": "code",
   "execution_count": 151,
   "id": "d1d036fd-c123-453d-beaa-58e7eaaabc32",
   "metadata": {
    "scrolled": true
   },
   "outputs": [
    {
     "data": {
      "text/html": [
       "<style>#sk-container-id-5 {color: black;background-color: white;}#sk-container-id-5 pre{padding: 0;}#sk-container-id-5 div.sk-toggleable {background-color: white;}#sk-container-id-5 label.sk-toggleable__label {cursor: pointer;display: block;width: 100%;margin-bottom: 0;padding: 0.3em;box-sizing: border-box;text-align: center;}#sk-container-id-5 label.sk-toggleable__label-arrow:before {content: \"▸\";float: left;margin-right: 0.25em;color: #696969;}#sk-container-id-5 label.sk-toggleable__label-arrow:hover:before {color: black;}#sk-container-id-5 div.sk-estimator:hover label.sk-toggleable__label-arrow:before {color: black;}#sk-container-id-5 div.sk-toggleable__content {max-height: 0;max-width: 0;overflow: hidden;text-align: left;background-color: #f0f8ff;}#sk-container-id-5 div.sk-toggleable__content pre {margin: 0.2em;color: black;border-radius: 0.25em;background-color: #f0f8ff;}#sk-container-id-5 input.sk-toggleable__control:checked~div.sk-toggleable__content {max-height: 200px;max-width: 100%;overflow: auto;}#sk-container-id-5 input.sk-toggleable__control:checked~label.sk-toggleable__label-arrow:before {content: \"▾\";}#sk-container-id-5 div.sk-estimator input.sk-toggleable__control:checked~label.sk-toggleable__label {background-color: #d4ebff;}#sk-container-id-5 div.sk-label input.sk-toggleable__control:checked~label.sk-toggleable__label {background-color: #d4ebff;}#sk-container-id-5 input.sk-hidden--visually {border: 0;clip: rect(1px 1px 1px 1px);clip: rect(1px, 1px, 1px, 1px);height: 1px;margin: -1px;overflow: hidden;padding: 0;position: absolute;width: 1px;}#sk-container-id-5 div.sk-estimator {font-family: monospace;background-color: #f0f8ff;border: 1px dotted black;border-radius: 0.25em;box-sizing: border-box;margin-bottom: 0.5em;}#sk-container-id-5 div.sk-estimator:hover {background-color: #d4ebff;}#sk-container-id-5 div.sk-parallel-item::after {content: \"\";width: 100%;border-bottom: 1px solid gray;flex-grow: 1;}#sk-container-id-5 div.sk-label:hover label.sk-toggleable__label {background-color: #d4ebff;}#sk-container-id-5 div.sk-serial::before {content: \"\";position: absolute;border-left: 1px solid gray;box-sizing: border-box;top: 0;bottom: 0;left: 50%;z-index: 0;}#sk-container-id-5 div.sk-serial {display: flex;flex-direction: column;align-items: center;background-color: white;padding-right: 0.2em;padding-left: 0.2em;position: relative;}#sk-container-id-5 div.sk-item {position: relative;z-index: 1;}#sk-container-id-5 div.sk-parallel {display: flex;align-items: stretch;justify-content: center;background-color: white;position: relative;}#sk-container-id-5 div.sk-item::before, #sk-container-id-5 div.sk-parallel-item::before {content: \"\";position: absolute;border-left: 1px solid gray;box-sizing: border-box;top: 0;bottom: 0;left: 50%;z-index: -1;}#sk-container-id-5 div.sk-parallel-item {display: flex;flex-direction: column;z-index: 1;position: relative;background-color: white;}#sk-container-id-5 div.sk-parallel-item:first-child::after {align-self: flex-end;width: 50%;}#sk-container-id-5 div.sk-parallel-item:last-child::after {align-self: flex-start;width: 50%;}#sk-container-id-5 div.sk-parallel-item:only-child::after {width: 0;}#sk-container-id-5 div.sk-dashed-wrapped {border: 1px dashed gray;margin: 0 0.4em 0.5em 0.4em;box-sizing: border-box;padding-bottom: 0.4em;background-color: white;}#sk-container-id-5 div.sk-label label {font-family: monospace;font-weight: bold;display: inline-block;line-height: 1.2em;}#sk-container-id-5 div.sk-label-container {text-align: center;}#sk-container-id-5 div.sk-container {/* jupyter's `normalize.less` sets `[hidden] { display: none; }` but bootstrap.min.css set `[hidden] { display: none !important; }` so we also need the `!important` here to be able to override the default hidden behavior on the sphinx rendered scikit-learn.org. See: https://github.com/scikit-learn/scikit-learn/issues/21755 */display: inline-block !important;position: relative;}#sk-container-id-5 div.sk-text-repr-fallback {display: none;}</style><div id=\"sk-container-id-5\" class=\"sk-top-container\"><div class=\"sk-text-repr-fallback\"><pre>XGBClassifier(base_score=None, booster=None, callbacks=None,\n",
       "              colsample_bylevel=None, colsample_bynode=None,\n",
       "              colsample_bytree=0.7949774139789709, device=None,\n",
       "              early_stopping_rounds=None, enable_categorical=False,\n",
       "              eval_metric=None, feature_types=None, gamma=None,\n",
       "              grow_policy=None, importance_type=None,\n",
       "              interaction_constraints=None, learning_rate=0.22964751309310477,\n",
       "              max_bin=None, max_cat_threshold=None, max_cat_to_onehot=None,\n",
       "              max_delta_step=None, max_depth=6, max_leaves=None,\n",
       "              min_child_weight=19, missing=nan, monotone_constraints=None,\n",
       "              multi_strategy=None, n_estimators=77, n_jobs=None,\n",
       "              num_parallel_tree=None, random_state=None, ...)</pre><b>In a Jupyter environment, please rerun this cell to show the HTML representation or trust the notebook. <br />On GitHub, the HTML representation is unable to render, please try loading this page with nbviewer.org.</b></div><div class=\"sk-container\" hidden><div class=\"sk-item\"><div class=\"sk-estimator sk-toggleable\"><input class=\"sk-toggleable__control sk-hidden--visually\" id=\"sk-estimator-id-5\" type=\"checkbox\" checked><label for=\"sk-estimator-id-5\" class=\"sk-toggleable__label sk-toggleable__label-arrow\">XGBClassifier</label><div class=\"sk-toggleable__content\"><pre>XGBClassifier(base_score=None, booster=None, callbacks=None,\n",
       "              colsample_bylevel=None, colsample_bynode=None,\n",
       "              colsample_bytree=0.7949774139789709, device=None,\n",
       "              early_stopping_rounds=None, enable_categorical=False,\n",
       "              eval_metric=None, feature_types=None, gamma=None,\n",
       "              grow_policy=None, importance_type=None,\n",
       "              interaction_constraints=None, learning_rate=0.22964751309310477,\n",
       "              max_bin=None, max_cat_threshold=None, max_cat_to_onehot=None,\n",
       "              max_delta_step=None, max_depth=6, max_leaves=None,\n",
       "              min_child_weight=19, missing=nan, monotone_constraints=None,\n",
       "              multi_strategy=None, n_estimators=77, n_jobs=None,\n",
       "              num_parallel_tree=None, random_state=None, ...)</pre></div></div></div></div></div>"
      ],
      "text/plain": [
       "XGBClassifier(base_score=None, booster=None, callbacks=None,\n",
       "              colsample_bylevel=None, colsample_bynode=None,\n",
       "              colsample_bytree=0.7949774139789709, device=None,\n",
       "              early_stopping_rounds=None, enable_categorical=False,\n",
       "              eval_metric=None, feature_types=None, gamma=None,\n",
       "              grow_policy=None, importance_type=None,\n",
       "              interaction_constraints=None, learning_rate=0.22964751309310477,\n",
       "              max_bin=None, max_cat_threshold=None, max_cat_to_onehot=None,\n",
       "              max_delta_step=None, max_depth=6, max_leaves=None,\n",
       "              min_child_weight=19, missing=nan, monotone_constraints=None,\n",
       "              multi_strategy=None, n_estimators=77, n_jobs=None,\n",
       "              num_parallel_tree=None, random_state=None, ...)"
      ]
     },
     "execution_count": 151,
     "metadata": {},
     "output_type": "execute_result"
    }
   ],
   "source": [
    "bayes_opt_params= {'objective':'binary:logistic',\n",
    "                  'colsample_bytree': 0.7949774139789709, \n",
    "                  'learning_rate': 0.22964751309310477, \n",
    "                  'max_depth': 6, \n",
    "                  'n_estimators': 77, \n",
    "                  'reg_alpha': 1.5823770376952688, \n",
    "                  'reg_lambda': 13.670564276498206, \n",
    "                  'subsample': 0.9805200362365606,\n",
    "                  'min_child_weight': 19\n",
    "                 }\n",
    "\n",
    "model = XGBClassifier(**bayes_opt_params)\n",
    "model.fit(X_train_Scaled, y_train)"
   ]
  },
  {
   "cell_type": "code",
   "execution_count": 120,
   "id": "670798f7-b68b-4196-9d3a-8c82f77c95c3",
   "metadata": {},
   "outputs": [],
   "source": [
    "y_pred = model.predict(X_test_Scaled)"
   ]
  },
  {
   "cell_type": "code",
   "execution_count": 163,
   "id": "d3c56e78-2974-4fa0-a2f7-b8b4fe288d64",
   "metadata": {},
   "outputs": [
    {
     "name": "stdout",
     "output_type": "stream",
     "text": [
      "Accuracy = 0.75\n",
      "Recall = 0.80\n",
      "Precision = 0.80\n"
     ]
    }
   ],
   "source": [
    "from sklearn.metrics import accuracy_score, recall_score, confusion_matrix, precision_score\n",
    "\n",
    "print(f'Accuracy = {accuracy_score(y_test, y_pred):.2f}\\nRecall = {recall_score(y_test, y_pred):.2f}\\nPrecision = {precision_score(y_test, y_pred):.2f}')\n",
    "cm = confusion_matrix(y_test, y_pred)\n",
    "\n",
    "classes = ['Not Enroll', 'Enroll']  # Class names"
   ]
  },
  {
   "cell_type": "code",
   "execution_count": 165,
   "id": "47a8552a-0a85-4f8d-b0ff-93e66549507c",
   "metadata": {},
   "outputs": [
    {
     "name": "stdout",
     "output_type": "stream",
     "text": [
      "0.7410604595703311\n"
     ]
    }
   ],
   "source": [
    "import sklearn.metrics as metrics\n",
    "print(metrics.roc_auc_score(y_test, y_pred))"
   ]
  },
  {
   "cell_type": "code",
   "execution_count": 167,
   "id": "16672fbe-748e-438e-bb7b-bebc19b5a123",
   "metadata": {},
   "outputs": [
    {
     "data": {
      "text/plain": [
       "array([[2648, 1215],\n",
       "       [1248, 4889]])"
      ]
     },
     "execution_count": 167,
     "metadata": {},
     "output_type": "execute_result"
    }
   ],
   "source": [
    "cm"
   ]
  },
  {
   "cell_type": "code",
   "execution_count": 169,
   "id": "84ac7b0d-7f69-4472-a98f-668519eccc9b",
   "metadata": {},
   "outputs": [
    {
     "name": "stdout",
     "output_type": "stream",
     "text": [
      "Accuracy = 0.81\n",
      "Recall = 0.85\n",
      "Precision = 0.84\n",
      "0.7892786842027996\n"
     ]
    }
   ],
   "source": [
    "y_pred_train = model.predict(X_train_Scaled)\n",
    "print(f'Accuracy = {accuracy_score(y_train, y_pred_train):.2f}\\nRecall = {recall_score(y_train, y_pred_train):.2f}\\nPrecision = {precision_score(y_train, y_pred_train):.2f}')\n",
    "print (metrics.roc_auc_score(y_train,y_pred_train))"
   ]
  },
  {
   "cell_type": "markdown",
   "id": "eeb23d15-21c8-4492-b66a-558066ffa31f",
   "metadata": {},
   "source": [
    "# Feature Importance"
   ]
  },
  {
   "cell_type": "code",
   "execution_count": 171,
   "id": "577dcfb3-a33c-4bc3-bbd5-0da9a811fdc0",
   "metadata": {},
   "outputs": [
    {
     "data": {
      "image/png": "[encoded data removed]",
      "text/plain": [
       "<Figure size 640x480 with 1 Axes>"
      ]
     },
     "metadata": {},
     "output_type": "display_data"
    },
    {
     "data": {
      "text/plain": [
       "<Figure size 2000x2000 with 0 Axes>"
      ]
     },
     "metadata": {},
     "output_type": "display_data"
    }
   ],
   "source": [
    "xgb.plot_importance(model, max_num_features=10)\n",
    "plt.figure(figsize = (20, 20))\n",
    "plt.show()"
   ]
  }
 ],
 "metadata": {
  "kernelspec": {
   "display_name": "Python 3 (ipykernel)",
   "language": "python",
   "name": "python3"
  },
  "language_info": {
   "codemirror_mode": {
    "name": "ipython",
    "version": 3
   },
   "file_extension": ".py",
   "mimetype": "text/x-python",
   "name": "python",
   "nbconvert_exporter": "python",
   "pygments_lexer": "ipython3",
   "version": "3.10.14"
  }
 },
 "nbformat": 4,
 "nbformat_minor": 5
}
